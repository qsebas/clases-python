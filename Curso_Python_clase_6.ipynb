{
  "nbformat": 4,
  "nbformat_minor": 0,
  "metadata": {
    "colab": {
      "provenance": [],
      "toc_visible": true,
      "authorship_tag": "ABX9TyP3jOG7cmHuXB45dXFnSjVl",
      "include_colab_link": true
    },
    "kernelspec": {
      "name": "python3",
      "display_name": "Python 3"
    },
    "language_info": {
      "name": "python"
    }
  },
  "cells": [
    {
      "cell_type": "markdown",
      "metadata": {
        "id": "view-in-github",
        "colab_type": "text"
      },
      "source": [
        "<a href=\"https://colab.research.google.com/github/qsebas/clases-python/blob/main/Curso_Python_clase_6.ipynb\" target=\"_parent\"><img src=\"https://colab.research.google.com/assets/colab-badge.svg\" alt=\"Open In Colab\"/></a>"
      ]
    },
    {
      "cell_type": "markdown",
      "source": [
        "# Paquetes / pip / Pypi\n",
        "\n",
        "El manejo de paquetes en Python se refiere a la forma en que los paquetes de software se instalan, actualizan y eliminan en un sistema. Un paquete es un conjunto de módulos que se utilizan para agregar funcionalidad a una instalación de Python. Los paquetes pueden ser creados por terceros o por el usuario y pueden ser compartidos con otros usuarios.\n",
        "\n",
        "El instalador de paquetes recomendado para Python es pip. Con pip, se pueden instalar paquetes desde el Índice de Paquetes de Python (http://pypi.org) y otros repositorios. En las instalaciones modernas de Python, pip suele estar ya instalado, suele ser recomendado actualizar a la últma versión disponible:\n",
        "\n",
        "```bash\n",
        "pip install --upgrade pip\n",
        "```\n",
        "\n",
        "pip se encargará de administrar los paquetes instalados, de tener un caché para evitar descargas posteriores y de administrar las dependencias y la compatibilidad entre versiones\n",
        "\n",
        "\n"
      ],
      "metadata": {
        "id": "ncuTiflFWTGs"
      }
    },
    {
      "cell_type": "markdown",
      "source": [
        "## Uso de pip\n",
        "\n",
        "para instalar un paquete determinado se utliliza el comando **pip install** por ejemplo para instalar el paquete [python-dateutil](https://pypi.org/project/python-dateutil/) se usa:\n",
        "\n",
        "```bash\n",
        "pip install python-dateutil\n",
        "```\n",
        "\n",
        "al instalar un paquete, instala todos los paquetes que este necesita (el paquete propiamente dicho y sus dependencias) en su última versión compatible tanto con la versión de python con todos los demás paquetes ya instalados. Por ejemplo al instalar **python-dateutil** tiene como dependencia el paquete **six** en la versión mayor a 1.5, por lo que instalará la mayor versión que cumpla con esa restricción (actualmente 1.16) además de instalar la ultima version de dateutil (actualmente la 2.8.2)\n",
        "\n",
        "si se desea instalar una versión anterior, se puede fijar\n",
        "\n",
        "```bash\n",
        "pip install python-dateutil==2.7.0\n",
        "```\n",
        "\n",
        "existen varios operadores:\n",
        "+ == exactamente\n",
        "+ \\> mayor estricto \\>= mayor o igual\n",
        "+ \\> menor estricto \\<= menor o igual\n",
        "+ != excluyente\n",
        "+ ~=3.4.5 quiere decir **\\>=3.4.5** y  **<3.5.0**\n",
        "+ se pueden usar * en las versiones (**==3.4.***)\n",
        "+ se pueden combinar varias reglas con la coma(**>1.5, !=2,0**)\n",
        "+ existe el concepto de subpaquete opcional que no es instalado por omision, para instalarlos se usa **mi-paquete[sub1, sub2]**, en este caso, si instalo solamente \"mi-paquete\" no instalará los módulos especificados en \"sub1\" y \"sub2\"\n",
        "\n",
        "también se puden restringir según la versión de python por ejemplo\n",
        "```bash\n",
        "pip install \"python-openid==2.2.5 ; python_version < '3.0'\"\n",
        "```\n",
        "solo instalará el paquete si la versión de python es inferior a 3.0 (por ejemplo 2.7)\n",
        "\n",
        "\n",
        "otros comandos que se pueden ejecutar con pip\n",
        "\n",
        "+ **pip uninstall paquete** - desinstala un paquete\n",
        "+ **pip install --upgrade paquete** - baja la mayor versión posible del paquete (compatible con el resto)\n",
        "+ **pip show paquete** - muestra los detalles del paquete instalado (entre ellos la versión)\n",
        "+ **pip list** - muestra todos los paquetes instalados y su versión en un formato cómodo de leer\n",
        "+ **pip freeze** - muestra todos los paquetes instalados y su versión en un formato compatible con un requirements.txt\n",
        "\n"
      ],
      "metadata": {
        "id": "DiOJ2NHHAH-k"
      }
    },
    {
      "cell_type": "markdown",
      "source": [
        "## requirements.txt\n",
        "\n",
        "\n",
        "los requerimientos de un proyecto se pueden escribir en un archivo (usualmente llamado requirements.txt) de tal manera que se pueden instalar todos juntos con el comando\n",
        "\n",
        "```bash\n",
        "pip install -r requirements.txt\n",
        "```\n",
        "el formato del archivo es el siguiente\n",
        "```python\n",
        "# pueden haber comentarios\n",
        "-r other_requirements.txt # pueden incluirse otros archivos\n",
        "un_paquete # paquetes sin version\n",
        "paquete>=2.0, !=3.0\n",
        "otro==1.2\n",
        "y_otro~=3.4.5\n",
        "\n",
        "# condicional segun la version\n",
        "python-openid==2.2.5   ; python_version < '3.0'\n",
        "python3-openid==3.0.10 ; python_version >= '3.0'\n",
        "```\n"
      ],
      "metadata": {
        "id": "U-LeBPrYAavE"
      }
    },
    {
      "cell_type": "markdown",
      "source": [
        "## repositorios alternativos\n",
        "\n",
        "por omisión pip utiliza pypi.org como repositorio, se puede utilizar repositorios alternativos\n",
        "\n",
        "```bash\n",
        "pip install pepe --index https://otro-pypi.org\n",
        "```\n",
        "\n",
        "si el acceso es por http y no por https, explicitamente hay que permitirlo con --trusted-host\n",
        "\n",
        "```bash\n",
        "pip install pepe --index https://otro-pypi.org --trusted-host otro-pypi.org\n",
        "```\n"
      ],
      "metadata": {
        "id": "1kQufv5B_3mS"
      }
    },
    {
      "cell_type": "code",
      "source": [
        "!echo \"********** Upgrade PIP\"\n",
        "!pip install --upgrade pip\n",
        "!echo \"********** Install dateutil\"\n",
        "!pip install python-dateutil\n",
        "!echo \"********** Show dateutil\"\n",
        "!pip show python-dateutil\n",
        "!echo \"********** Install dateutil 2.7.0\"\n",
        "!pip install python-dateutil==2.7.0\n",
        "!echo \"********** Show dateutil\"\n",
        "!pip show python-dateutil"
      ],
      "metadata": {
        "colab": {
          "base_uri": "https://localhost:8080/",
          "height": 933
        },
        "id": "kbIhFTj2hiA1",
        "outputId": "a38e44d8-7085-458d-c40e-0445d8d7cfd2"
      },
      "execution_count": null,
      "outputs": [
        {
          "output_type": "stream",
          "name": "stdout",
          "text": [
            "********** Upgrade PIP\n",
            "Requirement already satisfied: pip in /usr/local/lib/python3.10/dist-packages (23.2.1)\n",
            "\u001b[33mWARNING: Running pip as the 'root' user can result in broken permissions and conflicting behaviour with the system package manager. It is recommended to use a virtual environment instead: https://pip.pypa.io/warnings/venv\u001b[0m\u001b[33m\n",
            "\u001b[0m********** Install dateutil\n",
            "Requirement already satisfied: python-dateutil in /usr/local/lib/python3.10/dist-packages (2.8.2)\n",
            "Requirement already satisfied: six>=1.5 in /usr/local/lib/python3.10/dist-packages (from python-dateutil) (1.16.0)\n",
            "\u001b[33mWARNING: Running pip as the 'root' user can result in broken permissions and conflicting behaviour with the system package manager. It is recommended to use a virtual environment instead: https://pip.pypa.io/warnings/venv\u001b[0m\u001b[33m\n",
            "\u001b[0m********** Show dateutil\n",
            "Name: python-dateutil\n",
            "Version: 2.8.2\n",
            "Summary: Extensions to the standard Python datetime module\n",
            "Home-page: https://github.com/dateutil/dateutil\n",
            "Author: Gustavo Niemeyer\n",
            "Author-email: gustavo@niemeyer.net\n",
            "License: Dual License\n",
            "Location: /usr/local/lib/python3.10/dist-packages\n",
            "Requires: six\n",
            "Required-by: google-cloud-bigquery, holidays, jupyter-client, kaggle, LunarCalendar, matplotlib, pandas, prophet\n",
            "********** Install dateutil 2.7.0\n",
            "Collecting python-dateutil==2.7.0\n",
            "  Downloading python_dateutil-2.7.0-py2.py3-none-any.whl (207 kB)\n",
            "\u001b[2K     \u001b[90m━━━━━━━━━━━━━━━━━━━━━━━━━━━━━━━━━━━━━━━\u001b[0m \u001b[32m207.2/207.2 kB\u001b[0m \u001b[31m4.4 MB/s\u001b[0m eta \u001b[36m0:00:00\u001b[0m\n",
            "\u001b[?25hRequirement already satisfied: six>=1.5 in /usr/local/lib/python3.10/dist-packages (from python-dateutil==2.7.0) (1.16.0)\n",
            "Installing collected packages: python-dateutil\n",
            "  Attempting uninstall: python-dateutil\n",
            "    Found existing installation: python-dateutil 2.8.2\n",
            "    Uninstalling python-dateutil-2.8.2:\n",
            "      Successfully uninstalled python-dateutil-2.8.2\n",
            "\u001b[31mERROR: pip's dependency resolver does not currently take into account all the packages that are installed. This behaviour is the source of the following dependency conflicts.\n",
            "google-cloud-bigquery 3.10.0 requires python-dateutil<3.0dev,>=2.7.2, but you have python-dateutil 2.7.0 which is incompatible.\n",
            "jupyter-server 1.24.0 requires anyio<4,>=3.1.0, but you have anyio 4.0.0 which is incompatible.\n",
            "pandas 1.5.3 requires python-dateutil>=2.8.1, but you have python-dateutil 2.7.0 which is incompatible.\n",
            "prophet 1.1.4 requires python-dateutil>=2.8.0, but you have python-dateutil 2.7.0 which is incompatible.\u001b[0m\u001b[31m\n",
            "\u001b[0mSuccessfully installed python-dateutil-2.7.0\n",
            "\u001b[33mWARNING: Running pip as the 'root' user can result in broken permissions and conflicting behaviour with the system package manager. It is recommended to use a virtual environment instead: https://pip.pypa.io/warnings/venv\u001b[0m\u001b[33m\n",
            "\u001b[0m"
          ]
        },
        {
          "output_type": "display_data",
          "data": {
            "application/vnd.colab-display-data+json": {
              "pip_warning": {
                "packages": [
                  "dateutil"
                ]
              }
            }
          },
          "metadata": {}
        },
        {
          "output_type": "stream",
          "name": "stdout",
          "text": [
            "********** Show dateutil\n",
            "Name: python-dateutil\n",
            "Version: 2.7.0\n",
            "Summary: Extensions to the standard Python datetime module\n",
            "Home-page: https://dateutil.readthedocs.io\n",
            "Author: Paul Ganssle\n",
            "Author-email: dateutil@python.org\n",
            "License: Apache 2.0\n",
            "Location: /usr/local/lib/python3.10/dist-packages\n",
            "Requires: six\n",
            "Required-by: google-cloud-bigquery, holidays, jupyter-client, kaggle, LunarCalendar, matplotlib, pandas, prophet\n"
          ]
        }
      ]
    },
    {
      "cell_type": "markdown",
      "source": [
        "# Entornos Virtuales\n"
      ],
      "metadata": {
        "id": "nZ0ogiVXh7Of"
      }
    }
  ]
}