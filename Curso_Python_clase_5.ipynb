{
  "nbformat": 4,
  "nbformat_minor": 0,
  "metadata": {
    "colab": {
      "provenance": [],
      "authorship_tag": "ABX9TyPofOZzFC8x9+QVhyQ5XkUm",
      "include_colab_link": true
    },
    "kernelspec": {
      "name": "python3",
      "display_name": "Python 3"
    },
    "language_info": {
      "name": "python"
    }
  },
  "cells": [
    {
      "cell_type": "markdown",
      "metadata": {
        "id": "view-in-github",
        "colab_type": "text"
      },
      "source": [
        "<a href=\"https://colab.research.google.com/github/qsebas/clases-python/blob/main/Curso_Python_clase_5.ipynb\" target=\"_parent\"><img src=\"https://colab.research.google.com/assets/colab-badge.svg\" alt=\"Open In Colab\"/></a>"
      ]
    },
    {
      "cell_type": "markdown",
      "source": [
        "# objetos / clases\n",
        "\n",
        "### constructor, métodos de instancia y de clase\n",
        "\n",
        "### Herencia multiple\n",
        "\n",
        "### clases abstractas / Protocols\n",
        "\n",
        "### Mixin\n",
        "\n",
        "### Dunder methods o métodos mágicos / sobrecarga de operadores\n"
      ],
      "metadata": {
        "id": "13NruoFy9oBg"
      }
    }
  ]
}