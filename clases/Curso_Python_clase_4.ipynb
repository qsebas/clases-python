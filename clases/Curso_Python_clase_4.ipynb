{
  "nbformat": 4,
  "nbformat_minor": 0,
  "metadata": {
    "colab": {
      "provenance": [],
      "authorship_tag": "ABX9TyOtsKq+0E9Qmq2n3CY83mNE",
      "include_colab_link": true
    },
    "kernelspec": {
      "name": "python3",
      "display_name": "Python 3"
    },
    "language_info": {
      "name": "python"
    }
  },
  "cells": [
    {
      "cell_type": "markdown",
      "metadata": {
        "id": "view-in-github",
        "colab_type": "text"
      },
      "source": [
        "<a href=\"https://colab.research.google.com/github/qsebas/clases-python/blob/main/clases/Curso_Python_clase_3.ipynb\" target=\"_parent\"><img src=\"https://colab.research.google.com/assets/colab-badge.svg\" alt=\"Open In Colab\"/></a>"
      ]
    },
    {
      "cell_type": "markdown",
      "source": [
        "# estructura de un módulo\n",
        "\n",
        "### importar un módulo\n",
        "\n",
        "### código \"suelto\"\n",
        "\n",
        "### métodos \"sueltos\"\n",
        "\n",
        "# pack / unpack\n",
        "\n",
        "# definición de funciones\n",
        "\n",
        "### parámetros - \\*args y \\**kwargs\n",
        "\n",
        "### return\n",
        "\n",
        "# objetos / clases\n",
        "\n",
        "### definicion de clases\n",
        "\n",
        "### constructor\n",
        "\n",
        "### métodos y variables de instancia y de clase\n",
        "\n",
        "### Herencia multiple\n",
        "\n",
        "### clases abstractas / Protocols\n",
        "\n",
        "### Mixin\n",
        "\n",
        "### Dunder methods o métodos mágicos \n",
        "\n",
        "+ \\_\\_init__\n",
        "+ \\_\\_dir__\n",
        "+ \\_\\_dict__\n",
        "+ \\_\\_str__\n",
        "+ \\_\\_len__\n",
        "+ \\_\\_hash__\n",
        "+ \\_\\_iter__, \\_\\_next__ \n",
        "+ \\_\\_enter__, \\_\\_exit__ \n",
        "\n",
        "\n",
        "### sobrecarga de operadores\n",
        "\n",
        "+ \\_\\_add__\n",
        "+ \\_\\_eq__, \\_\\_ne__, \\_\\_lt__, \\_\\_gt__, \\_\\_le__, \\_\\_ge__\n",
        "+ \\_\\_getitem__"
      ],
      "metadata": {
        "id": "13NruoFy9oBg"
      }
    }
  ]
}