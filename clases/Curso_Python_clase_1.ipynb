{
  "nbformat": 4,
  "nbformat_minor": 0,
  "metadata": {
    "colab": {
      "provenance": [],
      "toc_visible": true
    },
    "kernelspec": {
      "name": "python3",
      "display_name": "Python 3"
    },
    "language_info": {
      "name": "python"
    }
  },
  "cells": [
    {
      "cell_type": "markdown",
      "source": [
        "# **Hola Mundo**\n",
        "\n",
        "> para imprimir en consola se usa la función **print()** que recibe  una cantidad determinada de parámetros e imprime la representación en string de cada uno de ellos en una misma linea, separados por espacio\n",
        "\n"
      ],
      "metadata": {
        "id": "QwJU-xO9ScaD"
      }
    },
    {
      "cell_type": "code",
      "execution_count": null,
      "metadata": {
        "colab": {
          "base_uri": "https://localhost:8080/"
        },
        "id": "u0E53zCKQYHu",
        "outputId": "dba2d019-1a44-4a2b-e93f-565028c4d696"
      },
      "outputs": [
        {
          "output_type": "stream",
          "name": "stdout",
          "text": [
            "hola mundo\n",
            "\n",
            "hola mundo 1 2 3\n",
            "<object object at 0x7fa6208c9960>\n"
          ]
        }
      ],
      "source": [
        "print(\"hola mundo\")\n",
        "print()                             # esto imprime una linea vacia \n",
        "print(\"hola\", \"mundo\", 1, 2, 3) \n",
        "a = object()                        # crea un objeto de la clase básica object y se lo asigna a la variable a\n",
        "print(a)                            # imprime la representacion en string de a, que es la default para cualquier clase"
      ]
    },
    {
      "cell_type": "markdown",
      "source": [
        "# **Tipos Basicos - parte 1**\n",
        "\n",
        "> los tipos basicos de Python son:\n",
        "+ numéricos (int ,float, complex)\n",
        "+ secuencias (str, list, tuples, bytes)\n",
        "+ otros (dict, set, bool, object)\n",
        "\n",
        "> estos tipos pueden usarse referenciándolos directamente en el código, sin la necesidad de importar ningun módulo\n",
        "\n",
        "> python si bien es fuertemente tipado (a una variable que se define de un tipo, puede que no se le puedan aplicar operadores que son para otros tipos) a su vez es dinámicamente tipado (la variable asume su tipo en tiempo de ejecución y no de compilado, lo que hace que el chequeo de tipos se de solamente en runtime y ante una falla explote.\n",
        "\n",
        "> Gracias a esta característica es muy versátil, y permite programar con muy poco código (sin declaraciones), pero a su vez es peligroso, porque los errores se detectan en tiempo de ejecución, para detectar esos errores tempranamente se recomienda fuertemente utilizar analizadores de códigos (linters) y tests unitarios, incluso, el hecho que sea dinámicamente tipado facilita muchísimo la programación de los tests\n"
      ],
      "metadata": {
        "id": "eZRRf2tiU-wk"
      }
    },
    {
      "cell_type": "code",
      "source": [
        "a = 4\n",
        "b = \"hola\"\n",
        "print(a + b)  # no está permitido sumar un str y un int, pero solo lo detecta en tiempo de ejecucón\n"
      ],
      "metadata": {
        "colab": {
          "base_uri": "https://localhost:8080/",
          "height": 202
        },
        "id": "XZOLKtWujELV",
        "outputId": "735f11c8-889b-4af6-b163-e693ba6fad91"
      },
      "execution_count": null,
      "outputs": [
        {
          "output_type": "error",
          "ename": "TypeError",
          "evalue": "ignored",
          "traceback": [
            "\u001b[0;31m---------------------------------------------------------------------------\u001b[0m",
            "\u001b[0;31mTypeError\u001b[0m                                 Traceback (most recent call last)",
            "\u001b[0;32m<ipython-input-3-05734253742c>\u001b[0m in \u001b[0;36m<module>\u001b[0;34m\u001b[0m\n\u001b[1;32m      1\u001b[0m \u001b[0ma\u001b[0m \u001b[0;34m=\u001b[0m \u001b[0;36m4\u001b[0m\u001b[0;34m\u001b[0m\u001b[0;34m\u001b[0m\u001b[0m\n\u001b[1;32m      2\u001b[0m \u001b[0mb\u001b[0m \u001b[0;34m=\u001b[0m \u001b[0;34m\"hola\"\u001b[0m\u001b[0;34m\u001b[0m\u001b[0;34m\u001b[0m\u001b[0m\n\u001b[0;32m----> 3\u001b[0;31m \u001b[0mprint\u001b[0m\u001b[0;34m(\u001b[0m\u001b[0ma\u001b[0m \u001b[0;34m+\u001b[0m \u001b[0mb\u001b[0m\u001b[0;34m)\u001b[0m  \u001b[0;31m# no está permitido sumar un str y un int, pero solo lo detecta en tiempo de ejecucón\u001b[0m\u001b[0;34m\u001b[0m\u001b[0;34m\u001b[0m\u001b[0m\n\u001b[0m",
            "\u001b[0;31mTypeError\u001b[0m: unsupported operand type(s) for +: 'int' and 'str'"
          ]
        }
      ]
    },
    {
      "cell_type": "code",
      "source": [
        "o = object()\n",
        "print(o.metodo())  # este error lo detecta en tiempo de ejecucion... y tiene sentido que asi sea, porque al objeto se le puede agregar un metodo en ejecución"
      ],
      "metadata": {
        "colab": {
          "base_uri": "https://localhost:8080/",
          "height": 185
        },
        "id": "BmQqLNOAjplw",
        "outputId": "f016ee6b-af50-49df-f87f-6055fa9fc81c"
      },
      "execution_count": null,
      "outputs": [
        {
          "output_type": "error",
          "ename": "AttributeError",
          "evalue": "ignored",
          "traceback": [
            "\u001b[0;31m---------------------------------------------------------------------------\u001b[0m",
            "\u001b[0;31mAttributeError\u001b[0m                            Traceback (most recent call last)",
            "\u001b[0;32m<ipython-input-35-9be4a2f08530>\u001b[0m in \u001b[0;36m<module>\u001b[0;34m\u001b[0m\n\u001b[1;32m      1\u001b[0m \u001b[0mo\u001b[0m \u001b[0;34m=\u001b[0m \u001b[0mobject\u001b[0m\u001b[0;34m(\u001b[0m\u001b[0;34m)\u001b[0m\u001b[0;34m\u001b[0m\u001b[0;34m\u001b[0m\u001b[0m\n\u001b[0;32m----> 2\u001b[0;31m \u001b[0mprint\u001b[0m\u001b[0;34m(\u001b[0m\u001b[0mo\u001b[0m\u001b[0;34m.\u001b[0m\u001b[0mmetodo\u001b[0m\u001b[0;34m(\u001b[0m\u001b[0;34m)\u001b[0m\u001b[0;34m)\u001b[0m\u001b[0;34m\u001b[0m\u001b[0;34m\u001b[0m\u001b[0m\n\u001b[0m",
            "\u001b[0;31mAttributeError\u001b[0m: 'object' object has no attribute 'metodo'"
          ]
        }
      ]
    },
    {
      "cell_type": "markdown",
      "source": [
        "## **int**\n",
        "**operadores**\n",
        "\n",
        "*   operadores basicos \\+ \\- \\* \\/ \n",
        "*   division entera //\n",
        "*   resto o modulo %\n",
        "*   potencia \\** o el equivalente pow()\n",
        "\n",
        "**operadores de bits**\n",
        "* or x | Y \n",
        "* xor X ^ Y\n",
        "* and X & Y\n",
        "* not ~X\n",
        "* shift left X << Y\n",
        "* shift right X >> Y\n",
        "\n",
        "**métodos de la clase int**\n",
        "* n.bit_length() cantidad de bits necesarios\n",
        "* n.bit_count() cantidad de unos en la representacion binaria\n",
        "\n",
        "**funciones nativas de int**\n",
        "* bin(x) devuelve la representacion binaria en un str\n",
        "* max(x, y)\n",
        "* min(x, y)"
      ],
      "metadata": {
        "id": "6vNQb702e-nO"
      }
    },
    {
      "cell_type": "code",
      "source": [
        "# int\n",
        "\n",
        "a = 5\n",
        "print(\"a es\", type(a))\n",
        "print(\"chequeo de tipo con type:\", type(a) is int)            # mas lento y no tiene encuenta herencia\n",
        "print(\"chequeo de tipo con isinstance:\", isinstance(a, int))  # mas rapido y tiene en cuenta herencia\n",
        "\n",
        "millon = 1000000\n",
        "print(millon)\n",
        "\n",
        "millon_lindo = 1_000_000                       # python permite escribir los enteros separando cada tres digito con _ para facilidad de lectura\n",
        "print(millon_lindo)\n",
        "print(\"millon_lindo es\", type(millon_lindo))   # sigue siendo de tipo int\n",
        "\n",
        "int_casteado_a_float = float(1_000_000)                       # se puede castear a float si se necesita especificar que es float\n",
        "print(\"int_casteado_a_float es\", type(int_casteado_a_float)) \n"
      ],
      "metadata": {
        "colab": {
          "base_uri": "https://localhost:8080/"
        },
        "id": "NdMKzQOQo4Jg",
        "outputId": "b4c7dc8c-a2a3-4c48-cc83-8e74264577fa"
      },
      "execution_count": null,
      "outputs": [
        {
          "output_type": "stream",
          "name": "stdout",
          "text": [
            "a es <class 'int'>\n",
            "chequeo de tipo con type: True\n",
            "chequeo de tipo con isinstance: True\n",
            "1000000\n",
            "1000000\n",
            "millon_lindo es <class 'int'>\n",
            "int_casteado_a_float es <class 'float'>\n"
          ]
        }
      ]
    },
    {
      "cell_type": "code",
      "source": [
        "# operadores\n",
        "print(\"el tipo de una division es\", type(4/2))                                        # por mas que se dividan dos enteros, el resultado es de tipo float\n",
        "print(\"el valor de la division entera de 5 y 2 es\", 5//2, \"y el tipo es\", type(4//2)) # para hacer division entera se usa el operador //\n",
        "print(\"el tipo de una multiplicacion es\", type(4*2))                                  # al multiplicar dos int el resultado es int\n",
        "print(\"9 modulo 5 es\", 9 % 5 , \"(resto de la division entera)\")                       # el operador % da el resto de la divison entera (o módulo)\n",
        "print(\"2 al cubo es\", 2 ** 3)                                                         # el operador ** es el de la potencia (tambien se puede usar pow())\n"
      ],
      "metadata": {
        "colab": {
          "base_uri": "https://localhost:8080/"
        },
        "id": "ULhPT8b6o7aQ",
        "outputId": "41fac768-e620-4485-b8e7-11a29f138983"
      },
      "execution_count": null,
      "outputs": [
        {
          "output_type": "stream",
          "name": "stdout",
          "text": [
            "el tipo de una division es <class 'float'>\n",
            "el valor de la division entera de 5 y 2 es 2 y el tipo es <class 'int'>\n",
            "el tipo de una multiplicacion es <class 'int'>\n",
            "9 modulo 5 es 4 (resto de la division entera)\n",
            "2 al cubo es 8\n"
          ]
        }
      ]
    },
    {
      "cell_type": "code",
      "source": [
        "#constructores\n",
        "print(\"int() es\", int())\n",
        "print(\"se puede castear un str: int('5') es\", int('5'))\n",
        "print(\"se puede expresar en cualquier base: int('10001', base=2) es\", int('10001', base=2))\n"
      ],
      "metadata": {
        "colab": {
          "base_uri": "https://localhost:8080/"
        },
        "id": "KlI9POMHpDRU",
        "outputId": "e094e593-59f0-40ad-dfdf-8e7fd5e11328"
      },
      "execution_count": null,
      "outputs": [
        {
          "output_type": "stream",
          "name": "stdout",
          "text": [
            "int() es 0\n",
            "se puede castear un str: int('5') es 5\n",
            "se puede expresar en cualquier base: int('10001', base=2) es 17\n"
          ]
        }
      ]
    },
    {
      "cell_type": "code",
      "source": [
        "#operadores de bits\n",
        "print(\"9 | 6 =\", 9 | 6, \"1001 or 0110 = 1111\")\n",
        "print(\"9 & 7 =\", 9 & 7, \"1001 and 0111 = 0001\")\n",
        "print(\"10 ^ 6 =\", 10 ^ 6, \"1000 xor 0110 = 1100\")\n",
        "print(\"\")\n",
        "\n",
        "#metodo de la clase int\n",
        "x = 234234\n",
        "print(\"234234 requiere\", x.bit_length(), \"bits\")\n",
        "\n",
        "#funciones\n",
        "print(\"la representacion binaria de x es \", bin(x))\n",
        "print(\"max / min son funciones max(10,9) es\", max(10,9))"
      ],
      "metadata": {
        "colab": {
          "base_uri": "https://localhost:8080/"
        },
        "id": "cY8kpU31TiLN",
        "outputId": "afad7bf1-a13a-4c36-ca52-08da6b8b0886"
      },
      "execution_count": null,
      "outputs": [
        {
          "output_type": "stream",
          "name": "stdout",
          "text": [
            "9 | 6 = 15 1001 or 0110 = 1111\n",
            "9 & 7 = 1 1001 and 0111 = 0001\n",
            "10 ^ 6 = 12 1000 xor 0110 = 1100\n",
            "\n",
            "234234 requiere 18 bits\n",
            "la representacion binaria de x es  0b111001001011111010\n",
            "max / min son funciones max(10,9) es 10\n"
          ]
        }
      ]
    },
    {
      "cell_type": "markdown",
      "source": [
        "## **float**"
      ],
      "metadata": {
        "id": "qxtFTTMFo8SU"
      }
    },
    {
      "cell_type": "code",
      "source": [
        "\n",
        "# float\n",
        "\n",
        "b = 5.0\n",
        "print(\"b es\", type(b))\n",
        "\n",
        "c = a + b\n",
        "print(\"c es\", type(c))\n",
        "\n",
        "# Notaciones alternativas\n",
        "millon_nc = 1e6\n",
        "millon_lindo_f = 1_000_000.0\n",
        "print(\"millon_nc es\", type(millon_nc), \"millon_lindo_f es\", type(millon_lindo_f))\n",
        "\n",
        "# casteo a int\n",
        "float_casteado_int = int(5.99)\n",
        "print(\"float_casteado_int vale\", float_casteado_int)\n",
        "print(\"float_casteado_int es\", float_casteado_int)\n",
        "\n",
        "# funciones de la clase float\n",
        "print(\"b es entero:\", b.is_integer())\n",
        "\n"
      ],
      "metadata": {
        "colab": {
          "base_uri": "https://localhost:8080/"
        },
        "id": "eQgff7OvbE0E",
        "outputId": "28305bd4-d427-4d64-d78f-b38c851113ce"
      },
      "execution_count": null,
      "outputs": [
        {
          "output_type": "stream",
          "name": "stdout",
          "text": [
            "b es <class 'float'>\n",
            "b es entero: True\n",
            "c es <class 'float'>\n",
            "float_casteado_int vale 5\n",
            "float_casteado_int es 5\n",
            "millon_nc es <class 'float'> millon_lindo_f es <class 'float'>\n"
          ]
        }
      ]
    },
    {
      "cell_type": "markdown",
      "source": [
        "##**bool**\n",
        "\n",
        "> el valor **None** se define como _Falso_, de la misma manera cualquiera de estos casos tambien son _Falso_\n",
        "+ un **int** o un **float** con valor 0\n",
        "+ cualquier secuencia o colección vacía, como por ejemplo: '', [], (), {}\n",
        "\n",
        "> todos los demas casos de objetos que no son None, o listas no vacías o números que no son 0s, tienen un valor de _True_\n",
        "\n",
        "> #**Operadores**\n",
        "\n",
        ">> existen los clásicos **and**, **or**, **not** con las reglas de presendencia tradicionales, "
      ],
      "metadata": {
        "id": "A1dVSBCLpfCb"
      }
    },
    {
      "cell_type": "code",
      "source": [
        "print((5 - 5) and True)\n",
        "# bool\n",
        "t = True\n",
        "f = False\n",
        "\n",
        "print(t or f)\n",
        "print(bool(3-3))\n",
        "\n",
        "a = []\n",
        "if a:\n",
        "  print(\"no pasa por acá\")\n",
        "else:\n",
        "  print(\"si pasa por acá\")"
      ],
      "metadata": {
        "id": "DZo5XCRTbJOX",
        "colab": {
          "base_uri": "https://localhost:8080/"
        },
        "outputId": "8362cfc3-f347-4b5b-b22b-2d73b9b0724f"
      },
      "execution_count": null,
      "outputs": [
        {
          "output_type": "stream",
          "name": "stdout",
          "text": [
            "0\n",
            "True\n",
            "False\n",
            "si pasa por acá\n"
          ]
        }
      ]
    },
    {
      "cell_type": "markdown",
      "source": [
        "# **Tipos Basicos - parte 2 (secuencias)**\n",
        "\n"
      ],
      "metadata": {
        "id": "x7QmqHyNvH9t"
      }
    },
    {
      "cell_type": "markdown",
      "source": [
        "## **list**\n",
        "\n",
        "> las listas se representan literalmente por una secuencia de elementos entre corchetes [] separadas por comas por ejemplo\n",
        " + []  (lista vacia)\n",
        " + [1, 5]\n",
        " + ['alberto', 'juan']\n",
        " + ['alberto', 4]  (no necesariamente los elementos son del mismo tipo)\n",
        " + [[], [1, 3, 4]] (pueden estar anidadas)\n",
        " + [10, 3, 5, ] se puede tener la ultima coma suelta eso no agrega un elemento\n",
        " + list(1, 3, 4) usando el constructor **list()**\n"
      ],
      "metadata": {
        "id": "liCvZlwqDeEZ"
      }
    },
    {
      "cell_type": "markdown",
      "source": [
        "## **tuple**\n",
        "> las tuplas son elementos separadas por coma, y eventualmente aunque no necesariamente separados por parentesis ()\n",
        " + 1, 2\n",
        " + (1, 2, 3)\n",
        " + (1, 2, 3, )     se puede tener una coma suelta\n",
        " + ()              la tupla vacia\n",
        " + tuple(1, 4, 5)  usando el constructor **tuple()**\n",
        " + ((3,5), (9, 4)) tuplas anidadas\n",
        "\n"
      ],
      "metadata": {
        "id": "PxtAz8nYDkVI"
      }
    },
    {
      "cell_type": "markdown",
      "source": [
        "##**str**\n",
        "\n",
        "> un str se puede construir de las siguientes maneras\n",
        " + \"usando dobles 'comillas'\" permitiendo tener comillas simples adentro\n",
        " + 'usando \"comillas\" simples' permitiendo tener comillas dobles adentro\n",
        " + str(4) con el constructor str\n",
        " + \"\"\" Triples comillas (dobles o simples) que permiten usar enters \"\"\" esto se puede usar para comentar bloques tambien \n",
        "\n",
        "\n"
      ],
      "metadata": {
        "id": "qaaDzyZMDv5V"
      }
    },
    {
      "cell_type": "code",
      "source": [
        "print(\"hola \\\"que\\\" tal\")\n",
        "\n",
        "a = \"\"\" \n",
        "esto\n",
        "es un string\n",
        "de triple comillas\n",
        "\"\"\"\n",
        "\n",
        "print(a)\n",
        "\n",
        "\"\"\"\n",
        "esto es un string \n",
        "que al no ser asignado a nada \n",
        "se puede usar como comentario en bloque\n",
        "\"\"\"\n",
        "b = str(b'esto es byte array con codigos \\xf0\\x9f\\xa4\\xa8' , encoding=\"utf-8\")\n",
        "print(b)\n",
        "\n",
        "print(\"tambien se le pueden poner caracteres unicode \\U0001F606\")"
      ],
      "metadata": {
        "colab": {
          "base_uri": "https://localhost:8080/"
        },
        "id": "U8HWksIiGhOm",
        "outputId": "ee2196df-1666-46ac-9fa9-c03a680cdbc2"
      },
      "execution_count": null,
      "outputs": [
        {
          "output_type": "stream",
          "name": "stdout",
          "text": [
            "hola \"que\" tal\n",
            " \n",
            "esto\n",
            "es un string\n",
            "de triple comillas\n",
            "\n",
            "esto es byte array con codigos 🤨\n",
            "tambien se le pueden poner caracteres unicode 😆\n"
          ]
        }
      ]
    },
    {
      "cell_type": "markdown",
      "source": [
        "**string formating**\n",
        "\n",
        "> existen diversas manera de \"formatear un string\", o insertarle valores a un string opcionalmente respetando un formato (como escribir un hexadecimal, los decimales de un número, etc)\n",
        "\n",
        "> + **\"la manera antigua\"** con uso del operador **string % tupla** es similiar al printf de lenguajes tipo C se intenta dejar de usar ejemplos:\n",
        "  * \"hola que tal señor %s, ha visto usted a %s?\" % (var_sebas, var_maria)\n",
        "  * \"el valor de pi es %.2f\" % math.pi # para 2 decimales\n",
        "  * [mas información sobre que posibilidades de % que existen](https://docs.python.org/3/library/stdtypes.html#old-string-formatting)\n",
        "\n",
        "> + **el método .format()** string tiene un método .format() que permite insertar en el orden establecidos en las posiciones marcadas con {}, las opciones de formateo se especifican dentro de las llaves\n",
        "  * \"hola que tal señor {}, ha visto usted a {}?\".format(var_sebas, var_maria)\n",
        "  * \"el valor de pi es {:03.2f}\".format(math.pi) # para 2 decimales\n",
        "  * [mas información sobre que posibilidades de formateo que existen con .format](https://docs.python.org/3/library/string.html#formatstrings)\n",
        "\n",
        "> + **los f-strings** esta es la manera mas \"moderna\" (y clara) de hacer formateo de string consiste en definir un string con una f adelante: f'esto es un f-string' y en esos string se pueden poner llaves y dentro de esas llaves python interpreta que ya estas fuera de ese string y se pueden usar variables o funciones. Tambien se pueden formatear esas variabbles usando los mismos comandos que en el método .format() pero luego de un dos puntos dentro de las llaves, por ejemplo {promedio:.2f}\n",
        "  * f\"hola que tal señor {var_sebas}, ha visto usted a {var_maria}?\"\n",
        "  * f\"el valor de pi es {:03.2f}\".format(math.pi) # para 2 decimales\n",
        "  * [mas información sobre las f-string](https://peps.python.org/pep-0498/)\n",
        " \n"
      ],
      "metadata": {
        "id": "70JY3sWOPyBw"
      }
    },
    {
      "cell_type": "code",
      "source": [
        "sebas = \"Sebastian\"\n",
        "maria = \"Maria\"\n",
        "\n",
        "# %\n",
        "print(\"hola que tal señor %s, ha visto usted a %s?\" % (sebas, maria))\n",
        "print(\"el codigo hexademial de A es %X \" % 'A'.encode(\"utf-8\")[0])\n",
        "\n",
        "import math\n",
        "print(\"el valor de pi es %.6f y esto es un numero con 2 decimales %.2f\" % (math.pi, 34.234234))  #.6f para 6 decimales\n",
        "\n",
        "#.format()\n",
        "print (\"hola que tal señor {}, ha visto usted a {}?\".format(sebas, maria))\n",
        "print (\"hola que tal señora {1}, ha visto usted a {0}?\".format(sebas, maria)) # se pueden usar posiciones para reordenar o repetir\n",
        "\n",
        "print(\"el valor de pi es {:10.2f}\".format(math.pi))  #el 10 paddea por izquierda completando con espacios y el 2 son la cantidad de digitos\n",
        "\n",
        "#f-strings\n",
        "print (f\"hola que tal señora {sebas}, ha visto usted a {maria}?\") # se pueden usar posiciones para reordenar o repetir\n",
        "print(f\"el valor de pi es {math.pi:.2f}\".format(math.pi))  "
      ],
      "metadata": {
        "colab": {
          "base_uri": "https://localhost:8080/"
        },
        "id": "fUnuKC0IReAb",
        "outputId": "21fa42e1-42d2-4c5a-ca15-92bf1bfdd721"
      },
      "execution_count": null,
      "outputs": [
        {
          "output_type": "stream",
          "name": "stdout",
          "text": [
            "hola que tal señor Sebastian, ha visto usted a Maria?\n",
            "el codigo hexademial de A es 41 \n",
            "el valor de pi es 3.141593 y esto es un numero con 2 decimales 34.23\n",
            "hola que tal señor Sebastian, ha visto usted a Maria?\n",
            "hola que tal señora Maria, ha visto usted a Sebastian?\n",
            "el valor de pi es       3.14\n",
            "hola que tal señora Sebastian, ha visto usted a Maria?\n",
            "el valor de pi es 3.14\n"
          ]
        }
      ]
    },
    {
      "cell_type": "markdown",
      "source": [
        "##**operadores**\n",
        "> las secuencias tienen una sintaxis muy versátil a comparación de otros lenguajes. Los string y tuplas son completamente equivalentes a listas, y todos los operadores de lista pueden ser usados en string y en tuplas.\n",
        " + obj **in** list (para string, esto representa a si es subcadena)\n",
        " + obj **not in** list\n",
        " + list + list (concatenación)\n",
        " + list * int (repetición)\n",
        "\n",
        "> tiene un operador de slicing (recortes)\n",
        " + list[i] (i-esimo elemento), siempre se comienza a contar desde la posición 0\n",
        " + list[i:j] (recorte desde la posicion i a la j)\n",
        " + list[i:j:k] (recorte desde la posicion i a la j, saltando de a k elementos)\n",
        " + se pueden omitir el inicio o final para representar \"desde el comienzo\" o \"hasta el final\", por ejemplo **\"hola\"[1:]** es **\"ola\"** y **\"hola\"[:2]** es **\"hol\"** \n",
        "\n",
        "> además estos recortes funcionan tambien con posiciones negativas marcando posición desde el final de la lista (de atrás para adelante), por ejemplo **'hola que tal'[1:-1]** es **\"ola que ta\"**\n"
      ],
      "metadata": {
        "id": "AWQcTL81D9D6"
      }
    },
    {
      "cell_type": "markdown",
      "source": [
        "##**funciones y métodos**\n",
        "\n",
        "**funciones** \n",
        "> existen funciones que tienen una lista por parámetro\n",
        " + len(lista)\n",
        " + max(lista)\n",
        " + min(lista)\n",
        "\n",
        "**métodos**\n",
        "> las listas tienen métodos\n",
        " + lista.append(4) agrega el elemento 4 al final de la lista\n",
        " + lista.index(x)  primera ocuerrencia de x en la lista\n",
        " + lista.index(x, i) primera ocurrencia de x, posterior a la posicion i\n",
        " + lista.index(x, i, j) primera ocurrencia de x, posterior a la posicion i y anterior a j\n",
        " + lista.count(x) devuelva la cantidad de ocurrencias de x en la lista\n",
        "\n",
        "**cambiar la lista**\n",
        "> se puede modificar un elemento de la lista, accediendolo por el indice\n",
        " + lista = [1, 2, 3]\n",
        " + lista[0] = 8\n",
        " + print(lista)  devuelve [8, 2, 3]\n",
        "\n",
        "**métodos especificos de str**\n",
        "> los strings tienen algunos métodos especiales\n",
        " + string.upper()  devuelve el string convertiendo todo a mayúsculas\n",
        " + string.lower()  devulve todo en minúsculas\n",
        " + string.join(iterable) se usa para \"pegar\" una lista de strings, la forma de uso es que el string al que se le hace el método es el que se usa como separador\n",
        " >> por ejemplo <br />\n",
        " \".\".join([\"mpf\", \"gov\", \"ar\"]) es \"mpf.gov.ar\" <br />\n",
        " se puede usar con \"\".join(lista) para obtener todos los elementos juntos sin separación\n",
        "\n",
        "\n",
        " + string.strip()  elimina los espacios al principio y al final del string (por ejemplo \" hola \".strip() devuelve \"hola\"\n",
        " + string.replace(\"busca\", \"cambia\") reemplaza todas las veces que aparece \"busca\" por \"cambia\" en el string\n",
        " + string.split() devuelve una lista de strings con todas las \"palabras\" del string original, considerando \"palabra\" a los bloques de caracteres separados por espacios por ejemplo \"hola que tal\".split() devuelve [\"hola\", \"que\", \"tal\"]\n",
        " + splitlines() devuelve una lista de strings, con las lineas dels string original. Por ejemplo \"esto es un string\\nde dos lineas\".splitlines() devuelve [\"esto es un string\", \"de dos lineas\"]\n",
        " + [existen muchos mas métodos, para mas detalles](https://docs.python.org/3/library/stdtypes.html#string-methods)\n"
      ],
      "metadata": {
        "id": "d1hTVSlDELGL"
      }
    },
    {
      "cell_type": "code",
      "source": [
        "print(\".\".join([\"mpf\", \"gov\", \"ar\"]))\n",
        "print(\"\".join([\"1\", \"2\", \"3\"]))"
      ],
      "metadata": {
        "colab": {
          "base_uri": "https://localhost:8080/"
        },
        "id": "vrikF2p1xhuX",
        "outputId": "fe8cac31-86c2-438a-db97-55767b882164"
      },
      "execution_count": null,
      "outputs": [
        {
          "output_type": "stream",
          "name": "stdout",
          "text": [
            "mpf.gov.ar\n",
            "123\n"
          ]
        }
      ]
    },
    {
      "cell_type": "markdown",
      "source": [
        "## reversed, reverse y [::-1]\n",
        "\n",
        "> Existen 3 formas para calcular la reversa de una lista (o un string) con sutiles diferencias:\n",
        "\n",
        ">* la manera de hacerlo con slicing es lista[::-1], esta manera devolvera en O(n) la lista o el string invertido\n",
        "\n",
        ">* está la función reversed(lista), pero cuidado, lo que devuelve (en O(1)) es un objeto iterable que devolverá los items en orden inverso si se lo itera. Esto puede mejorar la performance, por ejemplo si se hace la reversa y luego se busca un elemento no necesariamente se la recorre entera, lo que puede ahorrar varios ciclos de cómputo.\n",
        "\n",
        ">* el método lista.reverse(), lo que hace es modificar el objeto original (como los str son inmutables, no puede usarse con strings). hay que usarlo con cuidado porque un error común que se comete es que (a diferencia de muchos lenguajes) **no devuelve la lista invertida** la forma de uso es:\n",
        ">> a = [1, 2, 3] <br /> \n",
        "a.reverse() <br />\n",
        "print(a) <br />\n",
        "<br />\n",
        "si se hace print([1, 2, 3].reverse()) imprime None"
      ],
      "metadata": {
        "id": "maLgHRJLlqvO"
      }
    },
    {
      "cell_type": "code",
      "source": [
        "# lista[::-1]\n",
        "a = [1, 2, 3]\n",
        "print(a[::-1])\n",
        "print(\"hola que tal\"[::-1])  # se puede usar pegado al string directamente\n",
        "print()\n",
        "\n",
        "# reversed(lista)\n",
        "print(reversed(a))  # esto devuelve la representacion en string del objeto iterador, pero no la lista en si\n",
        "print(list(reversed(a)))  # esto lo castea a una lista que puede imprimirse\n",
        "print(reversed(\"string\"))  # pasa lo mismo con string\n",
        "print(str(reversed(\"string\")))  # el problema que al castear como string sigue mostrando la representacion en string del objeto\n",
        "print(\"\".join(reversed(\"string\"))) # la manera de hacerlo con reversed es usar el método join al string vacio\n",
        "\n",
        "print()\n",
        "\n",
        "# .reverse()\n",
        "a = [1, 2, 3]\n",
        "a.reverse()\n",
        "print(a)\n",
        "print([1, 2, 3].reverse())"
      ],
      "metadata": {
        "colab": {
          "base_uri": "https://localhost:8080/"
        },
        "id": "ep_dM72SlqIU",
        "outputId": "3dec2753-8933-4de6-9e95-c0da83eb79b4"
      },
      "execution_count": null,
      "outputs": [
        {
          "output_type": "stream",
          "name": "stdout",
          "text": [
            "[3, 2, 1]\n",
            "lat euq aloh\n",
            "\n",
            "<list_reverseiterator object at 0x7fb80d977ac0>\n",
            "[3, 2, 1]\n",
            "<reversed object at 0x7fb80d977ac0>\n",
            "<reversed object at 0x7fb7f95bb220>\n",
            "gnirts\n",
            "\n",
            "[3, 2, 1]\n",
            "None\n"
          ]
        }
      ]
    },
    {
      "cell_type": "markdown",
      "source": [
        "[texto del vínculo](https://)## lista.reverse() y reversed(lista) lista.sort() y sorted(lista)"
      ],
      "metadata": {
        "id": "TJyjC5EVEbue"
      }
    },
    {
      "cell_type": "code",
      "source": [
        "l = [10, 32, 6]\n",
        "l.sort()\n",
        "print(l)\n",
        "\n",
        "print(sorted([10, 32, 6]))\n",
        "\n",
        "print(sorted((10, 32, 6)))\n",
        "\n",
        "cars = ['Ford', 'Mitsubishi', 'BMW', 'VW']\n",
        "\n",
        "cars.sort()\n",
        "print(cars)\n",
        "\n",
        "\n",
        "def my_func(e):\n",
        "  return len(e)\n",
        "\n",
        "cars.sort(key=my_func)\n",
        "print(cars)\n",
        "\n"
      ],
      "metadata": {
        "colab": {
          "base_uri": "https://localhost:8080/"
        },
        "id": "0Ey-zlB1my5S",
        "outputId": "26e24bfe-624a-4ef0-a3dd-f6313b8d2836"
      },
      "execution_count": null,
      "outputs": [
        {
          "output_type": "stream",
          "name": "stdout",
          "text": [
            "[6, 10, 32]\n",
            "[6, 10, 32]\n",
            "[6, 10, 32]\n",
            "['VW', 'BMW', 'Ford', 'Mitsubishi']\n",
            "['BMW', 'Ford', 'Mitsubishi', 'VW']\n"
          ]
        }
      ]
    },
    {
      "cell_type": "code",
      "source": [
        "# in, not in\n",
        "print(5 in [4, 5, 6])       # busca un elemento en una lista\n",
        "print([4, 5] in [4, 5, 6])  # no funciona en caso de sub cadenas, solo busca elementos en la lista\n",
        "print([4, 5] in [[4, 5], 5, 6])  # aca si lo encuentra porque el primer elemento de la lista es otra lista [4, 5] que es la que estoy buscando\n",
        "print('gg' in \"egg\")        # en el caso de string si se puede usar in para buscar subcadenas"
      ],
      "metadata": {
        "colab": {
          "base_uri": "https://localhost:8080/"
        },
        "id": "bYgJE6cOyVHp",
        "outputId": "eb0497f9-350e-47cf-da19-1407e2c11929"
      },
      "execution_count": null,
      "outputs": [
        {
          "output_type": "stream",
          "name": "stdout",
          "text": [
            "True\n",
            "False\n",
            "True\n",
            "True\n"
          ]
        }
      ]
    },
    {
      "cell_type": "code",
      "source": [
        "print(\"hola \" * 3)          # concatena 3 veces \"hola \"\n",
        "print(\"hola \" + \"que tal\")\n",
        "\n",
        "\n",
        "print(\"hola que tal\"[1:-1])"
      ],
      "metadata": {
        "colab": {
          "base_uri": "https://localhost:8080/"
        },
        "id": "YknfEVaB1pA9",
        "outputId": "f98ee66a-0d4d-49fb-eddd-0a1d8ae5e106"
      },
      "execution_count": null,
      "outputs": [
        {
          "output_type": "stream",
          "name": "stdout",
          "text": [
            "hola hola hola \n",
            "hola que tal\n",
            "ola que ta\n"
          ]
        }
      ]
    },
    {
      "cell_type": "markdown",
      "source": [
        "# **Declaracion de funciones**\n",
        "\n",
        "*   sintaxis: **def nombre_funcion(par1, par2):**\n",
        "*   snake_case como estandar del nombre y el nombre de los parametros\n",
        "*   bloques de codigo y scope con tabulacion / espacio\n",
        "*   return rompe la ejecucion y devuelve\n",
        "*   \n"
      ],
      "metadata": {
        "id": "5G7-Zr35RkBo"
      }
    },
    {
      "cell_type": "code",
      "source": [
        "print(reversed(\"6545321\"))\n",
        "def factorial(n):\n",
        "    if n == 0:\n",
        "      return 1\n",
        "    else:\n",
        "      return n * factorial(n-1)\n"
      ],
      "metadata": {
        "id": "K6HkaZz7QjJu",
        "colab": {
          "base_uri": "https://localhost:8080/"
        },
        "outputId": "dffe2ae6-7d3a-48da-f228-06925a5364b2"
      },
      "execution_count": null,
      "outputs": [
        {
          "output_type": "stream",
          "name": "stdout",
          "text": [
            "<reversed object at 0x7f84b88766a0>\n"
          ]
        }
      ]
    },
    {
      "cell_type": "code",
      "source": [
        "factorial(3)"
      ],
      "metadata": {
        "colab": {
          "base_uri": "https://localhost:8080/"
        },
        "id": "4ndbp4UKQ1-O",
        "outputId": "11bbcd3b-6ffe-4dbe-e5b9-76437c09b397"
      },
      "execution_count": null,
      "outputs": [
        {
          "output_type": "execute_result",
          "data": {
            "text/plain": [
              "6"
            ]
          },
          "metadata": {},
          "execution_count": 8
        }
      ]
    },
    {
      "cell_type": "code",
      "source": [
        "def fibonacci(n):\n",
        "  if  n == 0:\n",
        "    return 0\n",
        "  elif n == 1:\n",
        "    return 1\n",
        "  else:\n",
        "    return fibonacci(n-1) + fibonacci(n-2)"
      ],
      "metadata": {
        "id": "K8UfonnTQ_H-"
      },
      "execution_count": null,
      "outputs": []
    },
    {
      "cell_type": "code",
      "source": [
        "fibonacci(10)"
      ],
      "metadata": {
        "colab": {
          "base_uri": "https://localhost:8080/"
        },
        "id": "dV5o06nZSQrt",
        "outputId": "a14a1d26-1e07-4e3a-b9c1-c39b5660c99b"
      },
      "execution_count": null,
      "outputs": [
        {
          "output_type": "execute_result",
          "data": {
            "text/plain": [
              "55"
            ]
          },
          "metadata": {},
          "execution_count": 10
        }
      ]
    },
    {
      "cell_type": "code",
      "source": [],
      "metadata": {
        "id": "-LXfuFqySSSO"
      },
      "execution_count": null,
      "outputs": []
    },
    {
      "cell_type": "markdown",
      "source": [
        "# **Ejercicios**\n",
        "\n",
        "> ## Ejercicio 1\n",
        ">> definir una funcion que reciba por parámetro un nombre (string) y devuelva un string que diga \"Hola NOMBRE buen día\" (remplazando NOMBRE por el nombre que recibió por parámetro pasado completamente a mayúsculas\n",
        "\n",
        "> por ejemplo si la entrada es **Pablo Gomez** la respuesta será \"Hola PABLO GOMEZ buen día\" \n",
        "\n",
        "> ## Ejercicio 2\n",
        ">> devolver un str que sea de 3 letras, la primera correspondiente a la primerletra de la entrada, la segunda correspondiente a la letra del medio(en caso de cantidad par de elementos tomaremos la mitad como el segundo de los dos elementos centrales) y la tercera con la última letra de mi cadena de entrada, suponer que la entrada no puede venir con el string vacio\n",
        "\n",
        ">> ejemplo si la entrada fuera \"abcdef\" la respuesta deberia ser \"adf\"\n",
        "\n",
        "> ## Ejercicio 3\n",
        ">> dado un string que contiene palabras (separadas por un solo escpacio) devolver un string que sea la reversa de la frase , pero manteniendo cada palabra intacta\n",
        "\n",
        ">> ejemplo si la entrada fuera \"hola que tal\" la respuesta deberia ser \"tal que hola\"\n",
        "\n",
        ">> se puede asumir que solo hay un espacio entre palabras, y que no hay espacios a la izquierda ni derecha\n",
        "\n",
        "\n",
        "> ## Ejercicio 4\n",
        ">> dado un string que contiene palabras (separadas por un solo escpacio) devolver un string que mantenga el orden de las palabras pero cada palabra est'e dada vuelta\n",
        "\n",
        ">> ejemplo si la entrada fuera \"hola que tal\" la respuesta deberia ser \"aloh euq lat\"\n",
        "\n",
        ">> se puede asumir que solo hay un espacio entre palabras, y que no hay espacios a la izquierda ni derecha\n",
        "\n",
        "\n",
        "> ## Ejercicio 5\n",
        ">> dado dos string devolver True o "
      ],
      "metadata": {
        "id": "Yb7kqZTTQbID"
      }
    },
    {
      "cell_type": "code",
      "source": [
        "\n",
        "def ejercicio_1(nombre):\n",
        "  return \"\"\n",
        "\n",
        "print(\"Prueba ejercicio 1:\", ejercicio_1(\"Juan Perez\"))\n",
        "\n",
        "def ejercicio_2(texto):\n",
        "  return \"\"\n",
        "\n",
        "print(\"Prueba ejercicio 2:\", ejercicio_2(\"Juan Perez\"))\n",
        "\n",
        "\n",
        "def ejercicio_3(texto):\n",
        "  return \"\"\n",
        "\n",
        "print(\"Prueba ejercicio 3:\", ejercicio_3(\"Juan Perez\"))\n",
        "\n",
        "\n",
        "def ejercicio_4(texto):\n",
        "  return \"\"\n",
        "\n",
        "print(\"Prueba ejercicio 4:\", ejercicio_4(\"Juan Perez\"))\n"
      ],
      "metadata": {
        "colab": {
          "base_uri": "https://localhost:8080/"
        },
        "id": "UDOAaJ9zqCCZ",
        "outputId": "f27edbd7-c483-4d24-c64c-19042770f322"
      },
      "execution_count": null,
      "outputs": [
        {
          "output_type": "stream",
          "name": "stdout",
          "text": [
            "Prueba ejercicio 1: \n",
            "Prueba ejercicio 2: JPz\n",
            "Prueba ejercicio 3: Perez Juan\n",
            "Prueba ejercicio 4: nauJ zereP\n"
          ]
        }
      ]
    },
    {
      "cell_type": "code",
      "source": [
        "\n",
        "import unittest\n",
        "import inspect\n",
        "\n",
        "def tiene_ciclo(ejercicio):\n",
        "  sc = [ line for line in inspect.getsource(ejercicio).splitlines() if line and line.lstrip()[0] != \"#\"]\n",
        "  return True in [\" for \" in line for line in sc]\n",
        "\n",
        "\n",
        "class TestNotebook(unittest.TestCase):\n",
        "\n",
        "    def test_ejercicio_1(self):\n",
        "        self.assertEqual(\"Hola  buen día\", ejercicio_1(\"\") )\n",
        "        self.assertEqual(\"Hola PABLO GOMEZ buen día\", ejercicio_1(\"Pablo Gomez\") )\n",
        "        self.assertEqual(\"Hola POMPIN EL CONEJO buen día\", ejercicio_1(\"pOmPin eL ConEjO\") )\n",
        "        self.assertFalse(tiene_ciclo(ejercicio_1), msg=\"\\033[91mLa función debe escribirse sin usar ciclos\\033[90m\")\n",
        "\n",
        "    def test_ejercicio_2(self):\n",
        "        self.assertEqual(\"aaa\", ejercicio_2(\"a\"))\n",
        "        self.assertEqual(\"abb\", ejercicio_2(\"ab\"))\n",
        "        self.assertEqual(\"adf\", ejercicio_2(\"abcdef\"))\n",
        "        self.assertFalse(tiene_ciclo(ejercicio_2), msg=\"\\033[91mLa función debe escribirse sin usar ciclos\\033[90m\")\n",
        "        \n",
        "    def test_ejercicio_3(self):\n",
        "        self.assertEqual(\"\", ejercicio_3(\"\"))\n",
        "        self.assertEqual(\"tal que hola\", ejercicio_3(\"hola que tal\"))\n",
        "        self.assertEqual(\"pedro\", ejercicio_3(\"pedro\"))\n",
        "        self.assertFalse(tiene_ciclo(ejercicio_3), msg=\"\\033[91mLa función debe escribirse sin usar ciclos\\033[90m\")\n",
        "        \n",
        "    def test_ejercicio_4(self):\n",
        "        self.assertEqual(\"\", ejercicio_4(\"\"))\n",
        "        self.assertEqual(\"aloh euq lat\", ejercicio_4(\"hola que tal\"))\n",
        "        self.assertEqual(\"ordep\", ejercicio_4(\"pedro\"))\n",
        "        self.assertFalse(tiene_ciclo(ejercicio_4), msg=\"\\033[91mLa función debe escribirse sin usar ciclos\\033[90m\")\n",
        "\n",
        "\n",
        "unittest.main(argv=[''], verbosity=2, exit=False)\n"
      ],
      "metadata": {
        "colab": {
          "base_uri": "https://localhost:8080/"
        },
        "id": "8k91LfmORCFc",
        "outputId": "190a9bdc-2142-42b8-a892-d4223501a84d"
      },
      "execution_count": null,
      "outputs": [
        {
          "output_type": "stream",
          "name": "stderr",
          "text": [
            "test_ejercicio_1 (__main__.TestNotebook) ... FAIL\n",
            "test_ejercicio_2 (__main__.TestNotebook) ... ok\n",
            "test_ejercicio_3 (__main__.TestNotebook) ... ok\n",
            "test_ejercicio_4 (__main__.TestNotebook) ... ok\n",
            "\n",
            "======================================================================\n",
            "FAIL: test_ejercicio_1 (__main__.TestNotebook)\n",
            "----------------------------------------------------------------------\n",
            "Traceback (most recent call last):\n",
            "  File \"<ipython-input-2-988f197c149a>\", line 12, in test_ejercicio_1\n",
            "    self.assertEqual(\"Hola  buen día\", ejercicio_1(\"\") )\n",
            "AssertionError: 'Hola  buen día' != ''\n",
            "- Hola  buen día\n",
            "+ \n",
            "\n",
            "\n",
            "----------------------------------------------------------------------\n",
            "Ran 4 tests in 0.016s\n",
            "\n",
            "FAILED (failures=1)\n"
          ]
        },
        {
          "output_type": "execute_result",
          "data": {
            "text/plain": [
              "<unittest.main.TestProgram at 0x7f2844a6df70>"
            ]
          },
          "metadata": {},
          "execution_count": 2
        }
      ]
    }
  ]
}
