{
  "nbformat": 4,
  "nbformat_minor": 0,
  "metadata": {
    "colab": {
      "provenance": [],
      "toc_visible": true
    },
    "kernelspec": {
      "name": "python3",
      "display_name": "Python 3"
    },
    "language_info": {
      "name": "python"
    }
  },
  "cells": [
    {
      "cell_type": "markdown",
      "source": [
        "# **Hola Mundo**\n",
        "\n",
        "> para imprimir en consola se usa la función **print()** que recibe  una cantidad determinada de parámetros e imprime la representación en string de cada uno de ellos en una misma linea, separados por espacio\n",
        "\n"
      ],
      "metadata": {
        "id": "QwJU-xO9ScaD"
      }
    },
    {
      "cell_type": "code",
      "execution_count": null,
      "metadata": {
        "id": "u0E53zCKQYHu"
      },
      "outputs": [],
      "source": [
        "print(\"hola mundo\")\n",
        "print()                             # esto imprime una linea vacia \n",
        "print(\"hola\", \"mundo\", 1, 2, 3) \n",
        "a = object()                        # crea un objeto de la clase básica object y se lo asigna a la variable a\n",
        "print(a)                            # imprime la representacion en string de a, que es la default para cualquier clase"
      ]
    },
    {
      "cell_type": "markdown",
      "source": [
        "# **Tipos Basicos - parte 1**\n",
        "\n",
        "> los tipos basicos de Python son:\n",
        "+ numéricos (int ,float, complex)\n",
        "+ secuencias (str, list, tuples, bytes)\n",
        "+ otros (dict, set, bool, object)\n",
        "\n",
        "> estos tipos pueden usarse referenciándolos directamente en el código, sin la necesidad de importar ningun módulo\n",
        "\n",
        "> python si bien es fuertemente tipado (a una variable que se define de un tipo, puede que no se le puedan aplicar operadores que son para otros tipos) a su vez es dinámicamente tipado (la variable asume su tipo en tiempo de ejecución y no de compilado, lo que hace que el chequeo de tipos se de solamente en runtime y ante una falla explote.\n",
        "\n",
        "> Gracias a esta característica es muy versátil, y permite programar con muy poco código (sin declaraciones), pero a su vez es peligroso, porque los errores se detectan en tiempo de ejecución, para detectar esos errores tempranamente se recomienda fuertemente utilizar analizadores de códigos (linters) y tests unitarios, incluso, el hecho que sea dinámicamente tipado facilita muchísimo la programación de los tests\n"
      ],
      "metadata": {
        "id": "eZRRf2tiU-wk"
      }
    },
    {
      "cell_type": "code",
      "source": [
        "a = 4\n",
        "b = \"hola\"\n",
        "print(a + b)  # no está permitido sumar un str y un int, pero solo lo detecta en tiempo de ejecucón\n"
      ],
      "metadata": {
        "id": "XZOLKtWujELV"
      },
      "execution_count": null,
      "outputs": []
    },
    {
      "cell_type": "code",
      "source": [
        "o = object()\n",
        "print(o.metodo())  # este error lo detecta en tiempo de ejecucion... y tiene sentido que asi sea, porque al objeto se le puede agregar un metodo en ejecución"
      ],
      "metadata": {
        "id": "BmQqLNOAjplw"
      },
      "execution_count": null,
      "outputs": []
    },
    {
      "cell_type": "markdown",
      "source": [
        "## **int**\n",
        "**operadores**\n",
        "\n",
        "*   operadores basicos \\+ \\- \\* \\/ \n",
        "*   division entera //\n",
        "*   resto o modulo %\n",
        "*   potencia \\** o el equivalente pow()\n",
        "\n",
        "**operadores de bits**\n",
        "* or x | Y \n",
        "* xor X ^ Y\n",
        "* and X & Y\n",
        "* not ~X\n",
        "* shift left X << Y\n",
        "* shift right X >> Y\n",
        "\n",
        "**métodos de la clase int**\n",
        "* n.bit_length() cantidad de bits necesarios\n",
        "* n.bit_count() cantidad de unos en la representacion binaria\n",
        "\n",
        "**funciones nativas de int**\n",
        "* bin(x) devuelve la representacion binaria en un str\n",
        "* max(x, y)\n",
        "* min(x, y)"
      ],
      "metadata": {
        "id": "6vNQb702e-nO"
      }
    },
    {
      "cell_type": "code",
      "source": [
        "# int\n",
        "\n",
        "a = 5\n",
        "print(\"a es\", type(a))\n",
        "print(\"chequeo de tipo con type:\", type(a) is int)            # mas lento y no tiene encuenta herencia\n",
        "print(\"chequeo de tipo con isinstance:\", isinstance(a, int))  # mas rapido y tiene en cuenta herencia\n",
        "\n",
        "millon = 1000000\n",
        "print(millon)\n",
        "\n",
        "millon_lindo = 1_000_000                       # python permite escribir los enteros separando cada tres digito con _ para facilidad de lectura\n",
        "print(millon_lindo)\n",
        "print(\"millon_lindo es\", type(millon_lindo))   # sigue siendo de tipo int\n",
        "\n",
        "int_casteado_a_float = float(1_000_000)                       # se puede castear a float si se necesita especificar que es float\n",
        "print(\"int_casteado_a_float es\", type(int_casteado_a_float)) \n"
      ],
      "metadata": {
        "id": "NdMKzQOQo4Jg"
      },
      "execution_count": null,
      "outputs": []
    },
    {
      "cell_type": "code",
      "source": [
        "# operadores\n",
        "print(\"el tipo de una division es\", type(4/2))                                        # por mas que se dividan dos enteros, el resultado es de tipo float\n",
        "print(\"el valor de la division entera de 5 y 2 es\", 5//2, \"y el tipo es\", type(4//2)) # para hacer division entera se usa el operador //\n",
        "print(\"el tipo de una multiplicacion es\", type(4*2))                                  # al multiplicar dos int el resultado es int\n",
        "print(\"9 modulo 5 es\", 9 % 5 , \"(resto de la division entera)\")                       # el operador % da el resto de la divison entera (o módulo)\n",
        "print(\"2 al cubo es\", 2 ** 3)                                                         # el operador ** es el de la potencia (tambien se puede usar pow())\n"
      ],
      "metadata": {
        "id": "ULhPT8b6o7aQ"
      },
      "execution_count": null,
      "outputs": []
    },
    {
      "cell_type": "code",
      "source": [
        "#constructores\n",
        "print(\"int() es\", int())\n",
        "print(\"se puede castear un str: int('5') es\", int('5'))\n",
        "print(\"se puede expresar en cualquier base: int('10001', base=2) es\", int('10001', base=2))\n"
      ],
      "metadata": {
        "id": "KlI9POMHpDRU"
      },
      "execution_count": null,
      "outputs": []
    },
    {
      "cell_type": "code",
      "source": [
        "#operadores de bits\n",
        "print(\"9 | 6 =\", 9 | 6, \"1001 or 0110 = 1111\")\n",
        "print(\"9 & 7 =\", 9 & 7, \"1001 and 0111 = 0001\")\n",
        "print(\"10 ^ 6 =\", 10 ^ 6, \"1000 xor 0110 = 1100\")\n",
        "print(\"\")\n",
        "\n",
        "#metodo de la clase int\n",
        "x = 234234\n",
        "print(\"234234 requiere\", x.bit_length(), \"bits\")\n",
        "\n",
        "#funciones\n",
        "print(\"la representacion binaria de x es \", bin(x))\n",
        "print(\"max / min son funciones max(10,9) es\", max(10,9))"
      ],
      "metadata": {
        "id": "cY8kpU31TiLN"
      },
      "execution_count": null,
      "outputs": []
    },
    {
      "cell_type": "markdown",
      "source": [
        "## **float**"
      ],
      "metadata": {
        "id": "qxtFTTMFo8SU"
      }
    },
    {
      "cell_type": "code",
      "source": [
        "\n",
        "# float\n",
        "\n",
        "b = 5.0\n",
        "print(\"b es\", type(b))\n",
        "\n",
        "c = a + b\n",
        "print(\"c es\", type(c))\n",
        "\n",
        "# Notaciones alternativas\n",
        "millon_nc = 1e6\n",
        "millon_lindo_f = 1_000_000.0\n",
        "print(\"millon_nc es\", type(millon_nc), \"millon_lindo_f es\", type(millon_lindo_f))\n",
        "\n",
        "# casteo a int\n",
        "float_casteado_int = int(5.99)\n",
        "print(\"float_casteado_int vale\", float_casteado_int)\n",
        "print(\"float_casteado_int es\", float_casteado_int)\n",
        "\n",
        "# funciones de la clase float\n",
        "print(\"b es entero:\", b.is_integer())\n",
        "\n"
      ],
      "metadata": {
        "id": "eQgff7OvbE0E"
      },
      "execution_count": null,
      "outputs": []
    },
    {
      "cell_type": "markdown",
      "source": [
        "##**bool**\n",
        "\n",
        "> el valor **None** se define como _Falso_, de la misma manera cualquiera de estos casos tambien son _Falso_\n",
        "+ un **int** o un **float** con valor 0\n",
        "+ cualquier secuencia o colección vacía, como por ejemplo: '', [], (), {}\n",
        "\n",
        "> todos los demas casos de objetos que no son None, o listas no vacías o números que no son 0s, tienen un valor de _True_\n",
        "\n",
        "> #**Operadores**\n",
        "\n",
        ">> existen los clásicos **and**, **or**, **not** con las reglas de presendencia tradicionales, "
      ],
      "metadata": {
        "id": "A1dVSBCLpfCb"
      }
    },
    {
      "cell_type": "code",
      "source": [
        "print((5 - 5) and True)\n",
        "# bool\n",
        "t = True\n",
        "f = False\n",
        "\n",
        "print(t or f)\n",
        "print(bool(3-3))\n",
        "\n",
        "a = []\n",
        "if a:\n",
        "  print(\"no pasa por acá\")\n",
        "else:\n",
        "  print(\"si pasa por acá\")"
      ],
      "metadata": {
        "id": "DZo5XCRTbJOX"
      },
      "execution_count": null,
      "outputs": []
    },
    {
      "cell_type": "markdown",
      "source": [
        "# **Tipos Basicos - parte 2 (secuencias)**\n",
        "\n"
      ],
      "metadata": {
        "id": "x7QmqHyNvH9t"
      }
    },
    {
      "cell_type": "markdown",
      "source": [
        "## **list**\n",
        "\n",
        "> las listas se representan literalmente por una secuencia de elementos entre corchetes [] separadas por comas por ejemplo\n",
        " + []  (lista vacia)\n",
        " + [1, 5]\n",
        " + ['alberto', 'juan']\n",
        " + ['alberto', 4]  (no necesariamente los elementos son del mismo tipo)\n",
        " + [[], [1, 3, 4]] (pueden estar anidadas)\n",
        " + [10, 3, 5, ] se puede tener la ultima coma suelta eso no agrega un elemento\n",
        " + list(1, 3, 4) usando el constructor **list()**\n"
      ],
      "metadata": {
        "id": "liCvZlwqDeEZ"
      }
    },
    {
      "cell_type": "markdown",
      "source": [
        "## **tuple**\n",
        "> las tuplas son elementos separadas por coma, y eventualmente aunque no necesariamente separados por parentesis ()\n",
        " + 1, 2\n",
        " + (1, 2, 3)\n",
        " + (1, 2, 3, )     se puede tener una coma suelta\n",
        " + ()              la tupla vacia\n",
        " + tuple(1, 4, 5)  usando el constructor **tuple()**\n",
        " + ((3,5), (9, 4)) tuplas anidadas\n",
        "\n"
      ],
      "metadata": {
        "id": "PxtAz8nYDkVI"
      }
    },
    {
      "cell_type": "markdown",
      "source": [
        "##**str**\n",
        "\n",
        "> un str se puede construir de las siguientes maneras\n",
        " + \"usando dobles 'comillas'\" permitiendo tener comillas simples adentro\n",
        " + 'usando \"comillas\" simples' permitiendo tener comillas dobles adentro\n",
        " + str(4) con el constructor str\n",
        " + \"\"\" Triples comillas (dobles o simples) que permiten usar enters \"\"\" esto se puede usar para comentar bloques tambien \n",
        "\n",
        "\n"
      ],
      "metadata": {
        "id": "qaaDzyZMDv5V"
      }
    },
    {
      "cell_type": "code",
      "source": [
        "print(\"hola \\\"que\\\" tal\")\n",
        "\n",
        "a = \"\"\" \n",
        "esto\n",
        "es un string\n",
        "de triple comillas\n",
        "\"\"\"\n",
        "\n",
        "print(a)\n",
        "\n",
        "\"\"\"\n",
        "esto es un string \n",
        "que al no ser asignado a nada \n",
        "se puede usar como comentario en bloque\n",
        "\"\"\"\n",
        "b = str(b'esto es byte array con codigos \\xf0\\x9f\\xa4\\xa8' , encoding=\"utf-8\")\n",
        "print(b)\n",
        "\n",
        "print(\"tambien se le pueden poner caracteres unicode \\U0001F606\")"
      ],
      "metadata": {
        "id": "U8HWksIiGhOm"
      },
      "execution_count": null,
      "outputs": []
    },
    {
      "cell_type": "markdown",
      "source": [
        "**string formating**\n",
        "\n",
        "> existen diversas manera de \"formatear un string\", o insertarle valores a un string opcionalmente respetando un formato (como escribir un hexadecimal, los decimales de un número, etc)\n",
        "\n",
        "> + **\"la manera antigua\"** con uso del operador **string % tupla** es similiar al printf de lenguajes tipo C se intenta dejar de usar ejemplos:\n",
        "  * \"hola que tal señor %s, ha visto usted a %s?\" % (var_sebas, var_maria)\n",
        "  * \"el valor de pi es %.2f\" % math.pi # para 2 decimales\n",
        "  * [mas información sobre que posibilidades de % que existen](https://docs.python.org/3/library/stdtypes.html#old-string-formatting)\n",
        "\n",
        "> + **el método .format()** string tiene un método .format() que permite insertar en el orden establecidos en las posiciones marcadas con {}, las opciones de formateo se especifican dentro de las llaves\n",
        "  * \"hola que tal señor {}, ha visto usted a {}?\".format(var_sebas, var_maria)\n",
        "  * \"el valor de pi es {:03.2f}\".format(math.pi) # para 2 decimales\n",
        "  * [mas información sobre que posibilidades de formateo que existen con .format](https://docs.python.org/3/library/string.html#formatstrings)\n",
        "\n",
        "> + **los f-strings** esta es la manera mas \"moderna\" (y clara) de hacer formateo de string consiste en definir un string con una f adelante: f'esto es un f-string' y en esos string se pueden poner llaves y dentro de esas llaves python interpreta que ya estas fuera de ese string y se pueden usar variables o funciones. Tambien se pueden formatear esas variabbles usando los mismos comandos que en el método .format() pero luego de un dos puntos dentro de las llaves, por ejemplo {promedio:.2f}\n",
        "  * f\"hola que tal señor {var_sebas}, ha visto usted a {var_maria}?\"\n",
        "  * f\"el valor de pi es {math.pi:03.2f}\" # para 2 decimales\n",
        "  * [mas información sobre las f-string](https://peps.python.org/pep-0498/)\n",
        " \n"
      ],
      "metadata": {
        "id": "70JY3sWOPyBw"
      }
    },
    {
      "cell_type": "code",
      "source": [
        "sebas = \"Sebastian\"\n",
        "maria = \"Maria\"\n",
        "\n",
        "# %\n",
        "print(\"hola que tal señor %s, ha visto usted a %s?\" % (sebas, maria))\n",
        "print(\"el codigo hexademial de A es %X \" % 'A'.encode(\"utf-8\")[0])\n",
        "\n",
        "import math\n",
        "print(\"el valor de pi es %.6f y esto es un numero con 2 decimales %.2f\" % (math.pi, 34.234234))  #.6f para 6 decimales\n",
        "\n",
        "#.format()\n",
        "print (\"hola que tal señor {}, ha visto usted a {}?\".format(sebas, maria))\n",
        "print (\"hola que tal señora {1}, ha visto usted a {0}?\".format(sebas, maria)) # se pueden usar posiciones para reordenar o repetir\n",
        "\n",
        "print(\"el valor de pi es {:10.2f}\".format(math.pi))  #el 10 paddea por izquierda completando con espacios y el 2 son la cantidad de digitos\n",
        "\n",
        "#f-strings\n",
        "print (f\"hola que tal señora {sebas}, ha visto usted a {maria}?\") # se pueden usar posiciones para reordenar o repetir\n",
        "print(f\"el valor de pi es {math.pi:.2f}\")  "
      ],
      "metadata": {
        "id": "fUnuKC0IReAb"
      },
      "execution_count": null,
      "outputs": []
    },
    {
      "cell_type": "markdown",
      "source": [
        "##**operadores**\n",
        "> las secuencias tienen una sintaxis muy versátil a comparación de otros lenguajes. Los string y tuplas son completamente equivalentes a listas, y todos los operadores de lista pueden ser usados en string y en tuplas.\n",
        " + obj **in** list (para string, esto representa a si es subcadena)\n",
        " + obj **not in** list\n",
        " + list + list (concatenación)\n",
        " + list * int (repetición)\n",
        "\n",
        "> tiene un operador de slicing (recortes)\n",
        " + list[i] (i-esimo elemento), siempre se comienza a contar desde la posición 0\n",
        " + list[i:j] (recorte desde la posicion i a la j)\n",
        " + list[i:j:k] (recorte desde la posicion i a la j, saltando de a k elementos)\n",
        " + se pueden omitir el inicio o final para representar \"desde el comienzo\" o \"hasta el final\", por ejemplo **\"hola\"[1:]** es **\"ola\"** y **\"hola\"[:2]** es **\"hol\"** \n",
        "\n",
        "> además estos recortes funcionan tambien con posiciones negativas marcando posición desde el final de la lista (de atrás para adelante), por ejemplo **'hola que tal'[1:-1]** es **\"ola que ta\"**\n"
      ],
      "metadata": {
        "id": "AWQcTL81D9D6"
      }
    },
    {
      "cell_type": "markdown",
      "source": [
        "##**funciones y métodos**\n",
        "\n",
        "**funciones** \n",
        "> existen funciones que tienen una lista por parámetro\n",
        " + len(lista)\n",
        " + max(lista)\n",
        " + min(lista)\n",
        "\n",
        "**métodos**\n",
        "> las listas tienen métodos\n",
        " + lista.append(4) agrega el elemento 4 al final de la lista\n",
        " + lista.index(x)  primera ocuerrencia de x en la lista\n",
        " + lista.index(x, i) primera ocurrencia de x, posterior a la posicion i\n",
        " + lista.index(x, i, j) primera ocurrencia de x, posterior a la posicion i y anterior a j\n",
        " + lista.count(x) devuelva la cantidad de ocurrencias de x en la lista\n",
        "\n",
        "**cambiar la lista**\n",
        "> se puede modificar un elemento de la lista, accediendolo por el indice\n",
        " + lista = [1, 2, 3]\n",
        " + lista[0] = 8\n",
        " + print(lista)  devuelve [8, 2, 3]\n",
        "\n",
        "**métodos especificos de str**\n",
        "> los strings tienen algunos métodos especiales\n",
        " + string.upper()  devuelve el string convertiendo todo a mayúsculas\n",
        " + string.lower()  devulve todo en minúsculas\n",
        " + string.join(iterable) se usa para \"pegar\" una lista de strings, la forma de uso es que el string al que se le hace el método es el que se usa como separador\n",
        " >> por ejemplo <br />\n",
        " \".\".join([\"mpf\", \"gov\", \"ar\"]) es \"mpf.gov.ar\" <br />\n",
        " se puede usar con \"\".join(lista) para obtener todos los elementos juntos sin separación\n",
        "\n",
        "\n",
        " + string.strip()  elimina los espacios al principio y al final del string (por ejemplo \" hola \".strip() devuelve \"hola\"\n",
        " + string.replace(\"busca\", \"cambia\") reemplaza todas las veces que aparece \"busca\" por \"cambia\" en el string\n",
        " + string.split() devuelve una lista de strings con todas las \"palabras\" del string original, considerando \"palabra\" a los bloques de caracteres separados por espacios por ejemplo \"hola que tal\".split() devuelve [\"hola\", \"que\", \"tal\"]\n",
        " + splitlines() devuelve una lista de strings, con las lineas dels string original. Por ejemplo \"esto es un string\\nde dos lineas\".splitlines() devuelve [\"esto es un string\", \"de dos lineas\"]\n",
        " + [existen muchos mas métodos, para mas detalles](https://docs.python.org/3/library/stdtypes.html#string-methods)\n"
      ],
      "metadata": {
        "id": "d1hTVSlDELGL"
      }
    },
    {
      "cell_type": "code",
      "source": [
        "print(\".\".join([\"mpf\", \"gov\", \"ar\"]))\n",
        "print(\"\".join([\"1\", \"2\", \"3\"]))"
      ],
      "metadata": {
        "id": "vrikF2p1xhuX"
      },
      "execution_count": null,
      "outputs": []
    },
    {
      "cell_type": "markdown",
      "source": [
        "## **reversed, .reverse() y [::-1]**\n",
        "\n",
        "> Existen 3 formas para calcular la reversa de una lista (o un string) con sutiles diferencias:\n",
        "\n",
        ">* la manera de hacerlo con slicing es lista[::-1], esta manera devolvera en O(n) la lista o el string invertido\n",
        "\n",
        ">* está la función reversed(lista), pero cuidado, lo que devuelve (en O(1)) es un objeto iterable que devolverá los items en orden inverso si se lo itera. Esto puede mejorar la performance, por ejemplo si se hace la reversa y luego se busca un elemento no necesariamente se la recorre entera, lo que puede ahorrar varios ciclos de cómputo.\n",
        "\n",
        ">* el método lista.reverse(), lo que hace es modificar el objeto original (como los str son inmutables, no puede usarse con strings). hay que usarlo con cuidado porque un error común que se comete es que (a diferencia de muchos lenguajes) **no devuelve la lista invertida** la forma de uso es:\n",
        ">> a = [1, 2, 3] <br /> \n",
        "a.reverse() <br />\n",
        "print(a) <br />\n",
        "<br />\n",
        "si se hace print([1, 2, 3].reverse()) imprime None"
      ],
      "metadata": {
        "id": "maLgHRJLlqvO"
      }
    },
    {
      "cell_type": "code",
      "source": [
        "# lista[::-1]\n",
        "a = [1, 2, 3]\n",
        "print(a[::-1])\n",
        "print(\"hola que tal\"[::-1])  # se puede usar pegado al string directamente\n",
        "print()\n",
        "\n",
        "# reversed(lista)\n",
        "print(reversed(a))  # ehttps://colab.research.google.com/github/qsebas/clases-python/blob/main/clases/Curso_Python_clase_1.ipynbsto devuelve la representacion en string del objeto iterador, pero no la lista en si\n",
        "print(list(reversed(a)))  # esto lo castea a una lista que puede imprimirse\n",
        "print(reversed(\"string\"))  # pasa lo mismo con string\n",
        "print(str(reversed(\"string\")))  # el problema que al castear como string sigue mostrando la representacion en string del objeto\n",
        "print(\"\".join(reversed(\"string\"))) # la manera de hacerlo con reversed es usar el método join al string vacio\n",
        "\n",
        "print()\n",
        "\n",
        "# .reverse()\n",
        "a = [1, 2, 3]\n",
        "a.reverse()\n",
        "print(a)\n",
        "print([1, 2, 3].reverse())\n"
      ],
      "metadata": {
        "id": "ep_dM72SlqIU"
      },
      "execution_count": null,
      "outputs": []
    },
    {
      "cell_type": "markdown",
      "source": [
        "## **.sort() y sorted()**\n",
        "\n",
        "> de la misma manera y con las mismas limitaciones existen el método **sort** (que modifica una lista en O(n log(n), pero devuelve None) y la función **sorted** que devuelve en O(1) un iterador que irá devolivendo los elementos en orden demorando un total de O(n log(n)) en caso de recorrer toda la lista "
      ],
      "metadata": {
        "id": "TJyjC5EVEbue"
      }
    },
    {
      "cell_type": "code",
      "source": [
        "l = [10, 32, 6]\n",
        "l.sort()  # esto devuelve None .. por lo que no se puede imprimir en esta mismalinea con print(l.sort())\n",
        "print(l)  # el comando anterior modifico la lista ordándola, por eso ahora puedo imprimirla\n",
        "\n",
        "print(sorted([10, 32, 6]))  # sorted SI devuelve la lista ordenada y no modifica la original, por eso puedo imprimirla\n",
        "\n",
        "cars = ['Ford', 'Mitsubishi', 'BMW', 'VW']\n",
        "\n",
        "cars.sort()\n",
        "print(cars)  # cual es el criterio de ordenamiento en caso de string? alfabético \n",
        "\n",
        "\n",
        "# si quisiera tener otro criterio, tengo que pasarle la función que define el valor de comparación\n",
        "def my_func(e):  # acá defino la función\n",
        "  return len(e)  # devolviendo la longitud del string por ejemplo\n",
        "\n",
        "cars.sort(key=my_func)  # de esta manera se ordena por longtud de string\n",
        "print(cars)\n",
        "\n"
      ],
      "metadata": {
        "id": "0Ey-zlB1my5S"
      },
      "execution_count": null,
      "outputs": []
    },
    {
      "cell_type": "code",
      "source": [
        "# in, not in\n",
        "print(5 in [4, 5, 6])       # busca un elemento en una lista\n",
        "print([4, 5] in [4, 5, 6])  # no funciona en caso de sub cadenas, solo busca elementos en la lista\n",
        "print([4, 5] in [[4, 5], 5, 6])  # aca si lo encuentra porque el primer elemento de la lista es otra lista [4, 5] que es la que estoy buscando\n",
        "print('gg' in \"egg\")        # en el caso de string si se puede usar in para buscar subcadenas"
      ],
      "metadata": {
        "id": "bYgJE6cOyVHp"
      },
      "execution_count": null,
      "outputs": []
    },
    {
      "cell_type": "code",
      "source": [
        "print(\"hola \" * 3)          # concatena 3 veces \"hola \"\n",
        "print(\"hola \" + \"que tal\")  # concatena dos strings\n",
        "\n",
        "\n",
        "print(\"hola que tal\"[1:-1])  # ejemplo de slicing desde el segundo caracter hasta el penúltimo"
      ],
      "metadata": {
        "id": "YknfEVaB1pA9"
      },
      "execution_count": null,
      "outputs": []
    },
    {
      "cell_type": "markdown",
      "source": [
        "# **Declaracion de funciones**\n",
        "\n",
        "*   sintaxis: **def nombre_funcion(par1, par2):**\n",
        "*   snake_case como estandar del nombre y el nombre de los parametros\n",
        "*   bloques de codigo y scope con tabulacion / espacio\n",
        "*   return rompe la ejecucion y devuelve"
      ],
      "metadata": {
        "id": "5G7-Zr35RkBo"
      }
    },
    {
      "cell_type": "code",
      "source": [
        "def factorial(n):\n",
        "    if n == 0:\n",
        "      return 1\n",
        "    else:\n",
        "      return n * factorial(n-1)\n",
        "\n",
        "factorial(3)"
      ],
      "metadata": {
        "id": "K6HkaZz7QjJu"
      },
      "execution_count": null,
      "outputs": []
    },
    {
      "cell_type": "code",
      "source": [
        "def fibonacci(n):\n",
        "  if  n == 0:\n",
        "    return 0\n",
        "  elif n == 1:\n",
        "    return 1\n",
        "  else:\n",
        "    return fibonacci(n-1) + fibonacci(n-2)\n",
        "\n",
        "fibonacci(10)"
      ],
      "metadata": {
        "id": "K8UfonnTQ_H-"
      },
      "execution_count": null,
      "outputs": []
    },
    {
      "cell_type": "markdown",
      "source": [
        "# **Ejercicios**\n",
        "\n",
        "> ## Ejercicio 1\n",
        ">> definir una funcion que reciba por parámetro un nombre (string) y devuelva un string que diga \"Hola NOMBRE buen día\" (remplazando NOMBRE por el nombre que recibió por parámetro pasado completamente a mayúsculas\n",
        "\n",
        "> por ejemplo si la entrada es **Pablo Gomez** la respuesta será \"Hola PABLO GOMEZ buen día\" \n",
        "\n",
        "> ## Ejercicio 2\n",
        ">> devolver un str que sea de 3 letras, la primera correspondiente a la primerletra de la entrada, la segunda correspondiente a la letra del medio(en caso de cantidad par de elementos tomaremos la mitad como el segundo de los dos elementos centrales) y la tercera con la última letra de mi cadena de entrada, suponer que la entrada no puede venir con el string vacio\n",
        "\n",
        ">> ejemplo si la entrada fuera \"abcdef\" la respuesta deberia ser \"adf\"\n",
        "\n",
        "> ## Ejercicio 3\n",
        ">> dado un string que contiene palabras (separadas por un solo escpacio) devolver un string que sea la reversa de la frase , pero manteniendo cada palabra intacta\n",
        "\n",
        ">> ejemplo si la entrada fuera \"hola que tal\" la respuesta deberia ser \"tal que hola\"\n",
        "\n",
        ">> se puede asumir que solo hay un espacio entre palabras, y que no hay espacios a la izquierda ni derecha\n",
        "\n",
        "\n",
        "> ## Ejercicio 4\n",
        ">> dado un string que contiene palabras (separadas por un solo escpacio) devolver un string que mantenga el orden de las palabras pero cada palabra est'e dada vuelta\n",
        "\n",
        ">> ejemplo si la entrada fuera \"hola que tal\" la respuesta deberia ser \"aloh euq lat\"\n",
        "\n",
        ">> se puede asumir que solo hay un espacio entre palabras, y que no hay espacios a la izquierda ni derecha\n",
        "\n",
        "\n",
        "> ## Ejercicio 5 (un toque mas dificil)\n",
        ">> dado un string con una oración, devolver una dupla con la palabra mas larga, y además el texto original con esa palabra en mayúsuculas (puede romper si se le pasa como entrada el string vacio)\n",
        "\n",
        ">> se puede suponer que en el string solo vienen comas, puntos y espacios, hay que tener en cuenta que los símbolos de puntuación no son parte de las palabras, pero deben ser conservados en el texto final\n",
        "\n",
        ">> en caso de haber varias palabras de la misma longitud (la mas larga), tomar a la primera como la palabra a reemplazar\n",
        "\n",
        ">> por ejemplo si le paso \"hola que tal. Chau, me voy\" devuelve (\"hola\", \"HOLA que tal. Chau, me voy\")"
      ],
      "metadata": {
        "id": "Yb7kqZTTQbID"
      }
    },
    {
      "cell_type": "code",
      "source": [
        "\n",
        "def ejercicio_1(nombre):\n",
        "  return \"\"\n",
        "\n",
        "print(\"Prueba ejercicio 1:\", ejercicio_1(\"Juan Perez\"))\n",
        "\n",
        "def ejercicio_2(texto):\n",
        "  return \"\"\n",
        "\n",
        "print(\"Prueba ejercicio 2:\", ejercicio_2(\"Juan Perez\"))\n",
        "\n",
        "\n",
        "def ejercicio_3(texto):\n",
        "  return \"\"\n",
        "\n",
        "print(\"Prueba ejercicio 3:\", ejercicio_3(\"Juan Perez\"))\n",
        "\n",
        "\n",
        "def ejercicio_4(texto):\n",
        "  return \"\"\n",
        "\n",
        "print(\"Prueba ejercicio 4:\", ejercicio_4(\"Juan Perez\"))\n",
        "\n",
        "\n",
        "def ejercicio_5(texto):\n",
        "  return \"\"\n",
        "    \n",
        "lorem_ipsum = \"\"\"\n",
        "Lorem ipsum dolor sit amet, consectetur adipiscing elit, sed do eiusmod tempor incididunt ut labore et dolore magna aliqua. \n",
        "Ut enim ad minim veniam, quis nostrud exercitation ullamco laboris nisi ut aliquip ex ea commodo consequat. \n",
        "Duis aute irure dolor in reprehenderit, in voluptate velit esse cillum dolore eu fugiat nulla pariatur. \"\"\"\n",
        "\n",
        "print(\"Prueba ejercicio 5:\", ejercicio_5(lorem_ipsum))\n"
      ],
      "metadata": {
        "id": "UDOAaJ9zqCCZ"
      },
      "execution_count": null,
      "outputs": []
    },
    {
      "cell_type": "code",
      "source": [
        "#@title **Tests de los ejercicios**\n",
        "import unittest\n",
        "import inspect\n",
        "\n",
        "def tiene_ciclo(ejercicio):\n",
        "  sc = [ line for line in inspect.getsource(ejercicio).splitlines() if line and line.lstrip()[0] != \"#\"]\n",
        "  return True in [\" for \" in line for line in sc]\n",
        "\n",
        "\n",
        "class TestNotebook(unittest.TestCase):\n",
        "\n",
        "    def test_ejercicio_1(self):\n",
        "        self.assertEqual(\"Hola  buen día\", ejercicio_1(\"\") )\n",
        "        self.assertEqual(\"Hola PABLO GOMEZ buen día\", ejercicio_1(\"Pablo Gomez\") )\n",
        "        self.assertEqual(\"Hola POMPIN EL CONEJO buen día\", ejercicio_1(\"pOmPin eL ConEjO\") )\n",
        "        self.assertFalse(tiene_ciclo(ejercicio_1), msg=\"\\033[91mLa función debe escribirse sin usar ciclos\\033[90m\")\n",
        "\n",
        "    def test_ejercicio_2(self):\n",
        "        self.assertEqual(\"aaa\", ejercicio_2(\"a\"))\n",
        "        self.assertEqual(\"abb\", ejercicio_2(\"ab\"))\n",
        "        self.assertEqual(\"adf\", ejercicio_2(\"abcdef\"))\n",
        "        self.assertFalse(tiene_ciclo(ejercicio_2), msg=\"\\033[91mLa función debe escribirse sin usar ciclos\\033[90m\")\n",
        "        \n",
        "    def test_ejercicio_3(self):\n",
        "        self.assertEqual(\"\", ejercicio_3(\"\"))\n",
        "        self.assertEqual(\"tal que hola\", ejercicio_3(\"hola que tal\"))\n",
        "        self.assertEqual(\"pedro\", ejercicio_3(\"pedro\"))\n",
        "        self.assertFalse(tiene_ciclo(ejercicio_3), msg=\"\\033[91mLa función debe escribirse sin usar ciclos\\033[90m\")\n",
        "        \n",
        "    def test_ejercicio_4(self):\n",
        "        self.assertEqual(\"\", ejercicio_4(\"\"))\n",
        "        self.assertEqual(\"aloh euq lat\", ejercicio_4(\"hola que tal\"))\n",
        "        self.assertEqual(\"ordep\", ejercicio_4(\"pedro\"))\n",
        "        self.assertFalse(tiene_ciclo(ejercicio_4), msg=\"\\033[91mLa función debe escribirse sin usar ciclos\\033[90m\")\n",
        "\n",
        "    def test_ejercicio_5(self):\n",
        "        with self.assertRaises(Exception):\n",
        "          self.assertEqual(\"\", ejercicio_5(\"\"))\n",
        "        self.assertEqual((\"Hola\", \"HOLA que tal\"), ejercicio_5(\"Hola que tal\"))\n",
        "        _texto = \"esto es una prueba con dos palabras, ya que la palabra palabras está repetida\"\n",
        "        self.assertEqual((\"palabras\", \"esto es una prueba con dos PALABRAS, ya que la palabra PALABRAS está repetida\"), ejercicio_5(_texto))\n",
        "        self.assertEqual((\"prueba\", \"PRUEBA con..,.. punto\"), ejercicio_5(\"prueba con..,.. punto\"))\n",
        "        self.assertEqual((\"hola\", \"HOLA que tal. Chau, me voy\"), ejercicio_5(\"hola que tal. Chau, me voy\"))\n",
        "        self.assertFalse(tiene_ciclo(ejercicio_5), msg=\"\\033[91mLa función debe escribirse sin usar ciclos\\033[90m\")\n",
        "\n",
        "\n",
        "unittest.main(argv=[''], verbosity=2, exit=False)\n"
      ],
      "metadata": {
        "id": "8k91LfmORCFc",
        "cellView": "form"
      },
      "execution_count": null,
      "outputs": []
    }
  ]
}