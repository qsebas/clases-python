{
  "nbformat": 4,
  "nbformat_minor": 0,
  "metadata": {
    "colab": {
      "provenance": [],
      "toc_visible": true,
      "authorship_tag": "ABX9TyO+U9davJ6XvqfINk6n0yR0",
      "include_colab_link": true
    },
    "kernelspec": {
      "name": "python3",
      "display_name": "Python 3"
    },
    "language_info": {
      "name": "python"
    }
  },
  "cells": [
    {
      "cell_type": "markdown",
      "metadata": {
        "id": "view-in-github",
        "colab_type": "text"
      },
      "source": [
        "<a href=\"https://colab.research.google.com/github/qsebas/clases-python/blob/main/clases/Curso_Python_clase_6.ipynb\" target=\"_parent\"><img src=\"https://colab.research.google.com/assets/colab-badge.svg\" alt=\"Open In Colab\"/></a>"
      ]
    },
    {
      "cell_type": "markdown",
      "source": [
        "# Paquetes / pip / Pypi\n",
        "\n",
        "El manejo de paquetes en Python se refiere a la forma en que los paquetes de software se instalan, actualizan y eliminan en un sistema. Un paquete es un conjunto de módulos que se utilizan para agregar funcionalidad a una instalación de Python. Los paquetes pueden ser creados por terceros o por el usuario y pueden ser compartidos con otros usuarios.\n",
        "\n",
        "El instalador de paquetes recomendado para Python es pip. Con pip, se pueden instalar paquetes desde el Índice de Paquetes de Python (http://pypi.org) y otros repositorios. En las instalaciones modernas de Python, pip suele estar ya instalado, suele ser recomendado actualizar a la últma versión disponible:\n",
        "\n",
        "```shell\n",
        "pip install --upgrade pip\n",
        "```\n",
        "\n",
        "pip se encargará de administrar los paquetes instalados, de tener un caché para evitar descargas posteriores y de administrar las dependencias y la compatibilidad entre versiones\n"
      ],
      "metadata": {
        "id": "HQsI_Ql24ms_"
      }
    },
    {
      "cell_type": "markdown",
      "source": [
        "## Uso de pip\n",
        "\n",
        "Para instalar un paquete determinado se utliliza el comando **pip install** por ejemplo para instalar el paquete [python-dateutil](https://pypi.org/project/python-dateutil/) se usa:\n",
        "\n",
        "```shell\n",
        "pip install python-dateutil\n",
        "```\n",
        "\n",
        "Al instalar un paquete, instala todos los paquetes que este necesita (el paquete propiamente dicho y sus dependencias) en su última versión compatible tanto con la versión de python con todos los demás paquetes ya instalados. Por ejemplo al instalar **python-dateutil** tiene como dependencia el paquete **six** en la versión mayor a 1.5, por lo que instalará la mayor versión que cumpla con esa restricción (actualmente 1.16) además de instalar la ultima version de dateutil (actualmente la 2.8.2)\n",
        "\n",
        "Si se desea instalar una versión anterior, se puede fijar\n",
        "\n",
        "\n",
        "```shell\n",
        "pip install python-dateutil==2.7.0\n",
        "```\n",
        "\n",
        "Existen varios operadores:\n",
        "+ == exactamente\n",
        "+ \\> mayor estricto \\>= mayor o igual\n",
        "+ \\> menor estricto \\<= menor o igual\n",
        "+ != excluyente\n",
        "+ ~=3.4.5 quiere decir **\\>=3.4.5** y  **<3.5.0**\n",
        "+ se pueden usar * en las versiones (**==3.4.***)\n",
        "+ se pueden combinar varias reglas con la coma(**>1.5, !=2,0**)\n",
        "+ existe el concepto de subpaquete opcional que no es instalado por omision, para instalarlos se usa **mi-paquete[sub1, sub2]**, en este caso, si instalo solamente \"mi-paquete\" no instalará los módulos especificados en \"sub1\" y \"sub2\"\n",
        "\n",
        "También se puden restringir según la versión de python por ejemplo\n",
        "```shell\n",
        "pip install \"python-openid==2.2.5 ; python_version < '3.0'\"\n",
        "```\n",
        "Solo instalará el paquete si la versión de python es inferior a 3.0 (por ejemplo 2.7)\n",
        "\n",
        "\n",
        "Otros comandos que se pueden ejecutar con pip\n",
        "\n",
        "+ **pip uninstall paquete** - desinstala un paquete\n",
        "+ **pip install --upgrade paquete** - baja la mayor versión posible del paquete (compatible con el resto)\n",
        "+ **pip show paquete** - muestra los detalles del paquete instalado (entre ellos la versión)\n",
        "+ **pip list** - muestra todos los paquetes instalados y su versión en un formato cómodo de leer\n",
        "+ **pip freeze** - muestra todos los paquetes instalados y su versión en un formato compatible con un requirements.txt\n",
        "\n"
      ],
      "metadata": {
        "id": "sp_CfVjV4056"
      }
    },
    {
      "cell_type": "markdown",
      "source": [
        "## requirements.txt\n",
        "\n",
        "Los requerimientos de un proyecto se pueden escribir en un archivo (usualmente llamado requirements.txt) de tal manera que se pueden instalar todos juntos con el comando\n",
        "\n",
        "```shell\n",
        "pip install -r requirements.txt\n",
        "```\n",
        "el formato del archivo es el siguiente\n",
        "```shell\n",
        "# pueden haber comentarios\n",
        "-r other_requirements.txt # pueden incluirse otros archivos\n",
        "un_paquete # paquetes sin version\n",
        "paquete>=2.0, !=3.0\n",
        "otro==1.2\n",
        "y_otro~=3.4.5\n",
        "\n",
        "# condicional segun la version\n",
        "python-openid==2.2.5   ; python_version < '3.0'\n",
        "python3-openid==3.0.10 ; python_version >= '3.0'\n",
        "\n",
        "# se puede instalar directamente de un archivo wheel\n",
        "/path/to/archivo.whl\n",
        "\n",
        "# se puede instalar directamente de un directorio con un proyecto de paquete\n",
        "/path/to/project\n",
        "\n",
        "# se puede instalar desde un repositorio git\n",
        "git+https://github.com/deepak1725/fabric8-analytics-worker.git@develop\n",
        "# con el @develop se elije el branch\n",
        "\n",
        "```\n"
      ],
      "metadata": {
        "id": "vXwrU0E65I9x"
      }
    },
    {
      "cell_type": "markdown",
      "source": [
        "## repositorios alternativos\n",
        "\n",
        "Por omisión pip utiliza pypi.org como repositorio, se puede utilizar repositorios alternativos\n",
        "\n",
        "```shell\n",
        "pip install pepe --index https://otro-pypi.org\n",
        "```\n",
        "\n",
        "si el acceso es por http y no por https, explicitamente hay que permitirlo con --trusted-host\n",
        "\n",
        "```shell\n",
        "pip install pepe --index https://otro-pypi.org --trusted-host otro-pypi.org\n",
        "```"
      ],
      "metadata": {
        "id": "Yvt0_xk95P3-"
      }
    },
    {
      "cell_type": "code",
      "source": [
        "!echo \"********** Upgrade PIP\"\n",
        "!pip install --upgrade pip\n",
        "!echo \"********** Install dateutil\"\n",
        "!pip install python-dateutil\n",
        "!echo \"********** Show dateutil\"\n",
        "!pip show python-dateutil\n",
        "!echo \"********** Install dateutil 2.7.0\"\n",
        "!pip install python-dateutil==2.7.0\n",
        "!echo \"********** Show dateutil\"\n",
        "!pip show python-dateutil"
      ],
      "metadata": {
        "id": "qgV6Uqfu5PAk"
      },
      "execution_count": null,
      "outputs": []
    },
    {
      "cell_type": "markdown",
      "source": [
        "# Entornos virtuales / venv\n",
        "\n",
        "Pip instalará los paquetes en el Python \"activo\", y los paquetes se instalarán en una única versión. esto genera que el python se llene de paquetes que son necesarios sólo para alguna aplicación y además puede generar conflictos si distintas aplicaciones requieren distintas versiones de paquetes (por ejemplo una aplicación este hecha para Django 2.2 y otra para Django 4.2)\n",
        "\n",
        "Para solucionar estos problemas se utilizan los \"entornos virtuales\" que son entornos aislados que contienen una instalación \"limpia\" de python a los que en caso de instalarle un paquete solo será visible dentro del entorno\n",
        "\n"
      ],
      "metadata": {
        "id": "aCdFYJB_-OVS"
      }
    },
    {
      "cell_type": "markdown",
      "source": [
        "## Creación y Activación\n",
        "\n",
        "Para crear un entorno se usa el módulo de la Standard Lib llamado **venv**, si se tienen varias versiones de python instaladas, según con que versión se invoque el entorno será de esa misma versión.\n",
        "\n",
        "Como parámetro venv recibe el nombre del directorio donde va a grabar todos los archivos del entorno, usualmente se suele usar venv de nombre.\n",
        "\n",
        "```shell\n",
        "python -m venv dir_venv\n",
        "```\n",
        "```shell\n",
        "python -m venv venv\n",
        "```\n",
        "```shell\n",
        "python3.10 -m venv venv\n",
        "```\n",
        "esto generará un directorio, de aproximadamente 20MB con los archivos necesarios para simular una instalación limpia de python, solamente con los paquetes pip y setuptools.\n",
        "\n",
        "Para activar el entorno se usa un script **activate** provisto en el directorio **venv/bin**\n",
        "\n",
        "```shell\n",
        "# MacOS or linux\n",
        "source venv/bin/activate\n",
        "# O el equivalente\n",
        ". venv/bin/activate\n",
        "\n",
        "# Windows\n",
        "venv\\Scripts\\activate.bat\n",
        "```\n",
        "\n",
        "Una vez activado se verá el nombre del entorno entre paréntesis en el prompt del shell y en caso de usar los comando **python** y **pip** serán los del entorno virtual\n",
        "\n",
        "```console\n",
        "(venv) ~/proyectos/mi-app$ python --version\n",
        "Python 3.10.11\n",
        "\n",
        "(venv) ~/proyectos/mi-app$ pip list\n",
        "Package    Version\n",
        "---------- -------\n",
        "pip        23.2.1\n",
        "setuptools 65.5.0\n",
        "```\n",
        "\n",
        "Si se utilza **pip** los paquetes se instalarán en el entorno, se instalan en **venv/lib/python3.10/site-packages/** quedando ahi los fuentes (o binarios). Se pueden aprovechar los fuentes para debugguear, o incluso modificarlos temporalmente (tiene que quedar claro que esa modificación solo será válida en este entorno, y se perderá al hacer un nuevo pip install)\n",
        "\n",
        "Para desactivar el entorno tan solo se tiene que usar el script **deactivate**\n",
        "\n",
        "```console\n",
        "(venv) ~/proyectos/miapp$ deactivate\n",
        "```"
      ],
      "metadata": {
        "id": "ATcPxYePDA9X"
      }
    },
    {
      "cell_type": "markdown",
      "source": [
        "## requirements.txt / lock file\n",
        "\n",
        "Como forma de trabajo standard, se suele dejar un archivo llamado requirements.txt en el git que contiene lo necesario para saber que es necesario instalar para poder correr la aplicación\n",
        "\n",
        "### lock\n",
        "\n",
        "Existen igualmente dos conceptos genéricos de archivos de requerimientos, uno es el que contiene los requerimientos minimales que vamos a usar, por ejemplo **libreria>=3.9** o que son laxos con las versiones menores o parches ejemplo **otra-lib~=3.4.5** y solo contienen las dependencias directas de nuestra aplicacion (o a lo sumo fija una subdependencia por problemas de compatibilidad) y el otro concepto es el de lock de requerimientos, y esto es un listado completo de los requerimientos y sus subdependencias en una versión exacta (generada por ejemplo por un **pip freeze**) la ventaja de esto es que podemos estar seguro que lo que subimos a produccion y a ambientes intermedios contienen exactamente las mismas librerias en las mismas versiones para evitar posibilidad de problemas que solo se producen en algunos ambientes.\n",
        "\n",
        "No existe un standard de como organizarse con estos conceptos, algunos nombran al requerimiento laxo **requirements.in** y al lock **requirements.txt** y otros nombran **requirements.txt** al laxo y **requirements.lock.txt** al lock\n",
        "\n",
        "### desarrollo\n",
        "\n",
        "Tambien es util separar los requerimientos de producción y los requerimientos de desarrollo de tal manera que no se va a llevar a produccion decenas de librerías que no se utilizan, para eso se suele hacer un archivo llamado **requirements-dev.txt** con los paquetes de testing, coverage, tox, linters y similares.\n",
        "\n",
        "### Pipenv / Poetry / Pyenv\n",
        "\n",
        "Existen otros paquetes mas avanzados de gestionar entornos y requerimientos (principalmente Pipenv que lo usamos en muchos proyectos y Poetry que se está volviendo en un standard de adopción) pero excede esta clase el uso de estos paquetes.\n",
        "\n",
        "De la misma manera, Pyenv es un script que permite gestionar la convivencia de varias versiones de python en una computadora, pero tambien excede el contenido de esta clase la forma de uso de esta herramienta."
      ],
      "metadata": {
        "id": "NwVu7ywNUWPy"
      }
    },
    {
      "cell_type": "markdown",
      "source": [
        "# Django\n",
        "\n",
        "Django es una librería de trabajo para desarrollo de aplicaciones web de alto nivel escrito en Python que fomenta el desarrollo rápido y un diseño limpio y pragmático. Django se utiliza para crearAPIs,  aplicaciones web y sitios web de manera eficiente y escalable.\n",
        "\n",
        "Fue creado para ayudar a los desarrolladores a construir aplicaciones web complejas rápidamente, teniendo en cuenta la reutilización de código. Se basa en el principio DRY (Don’t Repeat Yourself), lo que significa que los desarrolladores pueden escribir su código una vez y reutilizarlo en diferentes partes de la aplicación.\n"
      ],
      "metadata": {
        "id": "E3FEpPEdlRba"
      }
    },
    {
      "cell_type": "markdown",
      "source": [
        "## Principales características\n",
        "\n",
        "+ **ORM (Object-Relational Mapping)**: Django proporciona un ORM que permite a los desarrolladores interactuar con la base de datos utilizando objetos Python en lugar de escribir consultas SQL directamente. Lo que permite abstraerse completamente del motor utilizado, y poder cambiar de motor a muy bajo costo\n",
        "\n",
        "+ **Sistema de plantillas**: Django tiene un sistema de plantillas que permite a los desarrolladores crear páginas web dinámicas utilizando HTML y Python.\n",
        "\n",
        "+ **Autenticación y autorización**: Django proporciona un sistema de autenticación y autorización incorporado que facilita la gestión de usuarios, permisos y grupos.\n",
        "\n",
        "+ **Administrador de Django**: Django incluye un administrador web preconstruido que permite a los desarrolladores gestionar fácilmente los datos del sitio web sin tener que escribir código adicional.\n",
        "\n",
        "+ **Enrutamiento URL**: Django tiene un sistema de enrutamiento URL que permite a los desarrolladores definir cómo se deben manejar las solicitudes HTTP para diferentes rutas URL.\n",
        "\n",
        "+ **Seguridad**: Django incluye características de seguridad incorporadas, como protección contra ataques CSRF (Cross-Site Request Forgery) y XSS (Cross-Site Scripting).\n",
        "\n",
        "+ **Middleware**: el procesamiento de solicitudes (request / response) tiene posibilidad de se interceptado a través de los middleware. Es un sistema de “plugin” ligero y de bajo nivel para alterar globalmente la entrada o salida de Django. gracias a esto cada middleware puede realizar una función específica, y de esta manera se puede simplificar la autenticacion, el control de CSRF, o todo lo que quiera hacerse interseptando un request/response."
      ],
      "metadata": {
        "id": "IICBoRcHqR0a"
      }
    }
  ]
}