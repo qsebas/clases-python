{
  "nbformat": 4,
  "nbformat_minor": 0,
  "metadata": {
    "colab": {
      "provenance": [],
      "toc_visible": true,
      "authorship_tag": "ABX9TyN3vZeMn/bwQQaw4nzTZicR",
      "include_colab_link": true
    },
    "kernelspec": {
      "name": "python3",
      "display_name": "Python 3"
    },
    "language_info": {
      "name": "python"
    }
  },
  "cells": [
    {
      "cell_type": "markdown",
      "metadata": {
        "id": "view-in-github",
        "colab_type": "text"
      },
      "source": [
        "<a href=\"https://colab.research.google.com/github/qsebas/clases-python/blob/main/clases/Curso_Python_clase_5.ipynb\" target=\"_parent\"><img src=\"https://colab.research.google.com/assets/colab-badge.svg\" alt=\"Open In Colab\"/></a>"
      ]
    },
    {
      "cell_type": "markdown",
      "source": [
        "### metodos de clase y estaticos\n",
        "\n",
        "## atributos y propiedades\n",
        "\n",
        "### clases abstractas / Protocols\n",
        "\n",
        "### Mixin\n",
        "\n",
        "### Dunder methods o métodos mágicos / sobrecarga de operadores\n",
        "\n",
        "\n"
      ],
      "metadata": {
        "id": "13NruoFy9oBg"
      }
    },
    {
      "cell_type": "markdown",
      "source": [
        "# Programacion Orientada a Objetos\n",
        "\n",
        "La programación orientada a objetos (POO) es un paradigma de programación que se basa en el concepto de “objetos”.\n",
        "\n",
        "En POO, existen dos conceptos básicos, La **clase** y la **instancia**,\n",
        "\n",
        "+ La clase representa al \"molde\" que puede describir e interactuar con un objeto (por ejemplo **Persona**, **Automobil**)\n",
        "\n",
        "+ Una instancia representa a un objeto puntual que se circunscribe con ese molde (ejemplo, para Persona podrian ser **\"Juan Gomez\"**, **\"Araceli Gonzalez\"**, para Automobil, algunas instancias podrian ser las correspondientes a las patentes **\"IKE 333\"** o **\"JOP 123\"**\n",
        "\n",
        "Los objetos son entidades que tienen un determinado estado, comportamiento e identidad. Los objetos contienen:\n",
        "+ información en forma de **atributos** (a veces también referidos como campos o propiedades, por ejemplo para una Persona los atributos pueden ser nombre, apellido, dni, edad)\n",
        "+ código en forma de **métodos**. Los métodos son funciones que pertenecen a la clase o al objeto, y permiten que los objetos interactúen entre sí, o se computen cosas en base a los atributos, e incluso los modifiquen.\n",
        "\n",
        "La programación orientada a objetos se utiliza para estructurar un programa de software en piezas simples y reutilizables código. Algunas características clave de la programación orientada a objetos son **herencia**, **cohesión**, **abstracción**, **polimorfismo**, **acoplamiento** y **encapsulamiento**."
      ],
      "metadata": {
        "id": "lZB-nHgLdwNH"
      }
    },
    {
      "cell_type": "markdown",
      "source": [
        "## Herencia\n",
        "\n",
        "En POO, la herencia es un mecanismo que permite que una clase herede las características (atributos y métodos) de otra clase. La herencia permite que se puedan definir nuevas clases basadas en otras ya existentes a fin de reutilizar el código, generando así una jerarquía de clases dentro de una aplicación. Si una clase deriva de otra, esta hereda sus atributos y métodos y puede añadir nuevos atributos, métodos o redefinir los heredados. La herencia es uno de los aspectos más importantes de la programación orientada a objetos, ya que proporciona reutilización del código y permite crear jerarquías de clases dentro de una aplicación\n",
        "\n",
        "Un ejemplo podría ser:\n",
        "\n",
        "+ Clase Vehiculo\n",
        "  * atributo: dominio\n",
        "  * atributo: marca\n",
        "  * atributo: modelo\n",
        "  * metodo: desplazar\n",
        "\n",
        "+ Clase Automóbil hereda de Vehículo\n",
        "  * atributo: cantidad_puertas\n",
        "  * atributo: tipo (sedan, hatchback..)\n",
        "\n",
        "+ Clase Moto hereda de Vehículo\n",
        "  * atributo: Cilindradas\n"
      ],
      "metadata": {
        "id": "KM3BYvSNntCG"
      }
    },
    {
      "cell_type": "markdown",
      "source": [
        "## Cohesión\n",
        "\n",
        "La cohesión se refiere a la medida en que los métodos que sirven a una clase tienden a ser similares. Si una clase tiene una alta cohesión, los métodos y atributos que pertenecen a ella están altamente relacionados y comparten un propósito común. Por lo tanto, la legibilidad y reusabilidad del código es mayor, mientras que la complejidad se mantiene manejable.\n",
        "\n",
        "La cohesión es un tipo de medición ordinal y se describe generalmente como “cohesión alta” o “cohesión baja”."
      ],
      "metadata": {
        "id": "hvaFVLJrrtPu"
      }
    },
    {
      "cell_type": "markdown",
      "source": [
        "## Abstracción\n",
        "\n",
        "La abstracción es un principio que consiste en modelar las características esenciales de un objeto, las cuales lo distinguen de los demás y definen sus límites conceptuales.\n",
        "\n",
        "La abstracción se enfoca en la visión externa de un objeto y separa su comportamiento específico y que logra definir límites conceptuales respecto a quien está haciendo dicha abstracción del objeto. La abstracción se utiliza para aislar un elemento de su contexto o del resto de los elementos que lo acompañan. En programación, el término se refiere al énfasis en el “¿qué hace?” más que en el “¿cómo lo hace?” (característica de caja negra)."
      ],
      "metadata": {
        "id": "rjI5fGBgsjJC"
      }
    },
    {
      "cell_type": "markdown",
      "source": [
        "## Polimorfismo\n",
        "\n",
        "El polimorfismo es la capacidad de un objeto de tomar diferentes formas. En otras palabras, el polimorfismo permite que los objetos de diferentes clases respondan a un mismo mensaje de diferentes maneras. Esto implica que el mismo método puede tener diferentes comportamientos según la clase del objeto que lo recibe. El polimorfismo es una característica importante de la programación orientada a objetos porque permite que las clases derivadas implementen métodos específicos para ellas mismas, mientras que comparten la misma interfaz con la clase base.\n",
        "\n",
        "Por ejemplo en nuestras clases de vehiculo, cada subclase puede reimplementar el método \"desplazar\""
      ],
      "metadata": {
        "id": "qaZMZSoJvzXz"
      }
    },
    {
      "cell_type": "markdown",
      "source": [
        "## Acoplamiento\n",
        "\n",
        "El acoplamiento se refiere a la dependencia entre módulos o clases. Si una clase X usa una clase Y, se dice que X depende de Y, y existe acoplamiento entre ambas clases.\n",
        "\n",
        "Si hay demasiado acoplamiento entre las diferentes clases de un sistema, puede hacer que el código sea difícil de mantener y modificar, ya que los cambios en una clase pueden afectar a otras clases que dependen de ella.\n",
        "\n"
      ],
      "metadata": {
        "id": "x20HxEE2wnIr"
      }
    },
    {
      "cell_type": "markdown",
      "source": [
        "## Encapsulamiento\n",
        "\n",
        "El encapsulamiento es un mecanismo que permite agrupar y proteger los datos y los métodos de un objeto. El encapsulamiento limita el acceso directo a algunas propiedades o métodos de un objeto, y solo permite acceder a ellos a través de otros métodos públicos. El elemento más común de encapsulamiento son las clases, que engloban tanto métodos como propiedades.\n",
        "\n",
        "El encapsulamiento se utiliza para ocultar la complejidad interna de un objeto y para proteger sus datos de modificaciones no autorizadas. Esto ayuda a prevenir errores y a mejorar la seguridad del código. El encapsulamiento también permite que los objetos se comuniquen entre sí sin necesidad de conocer los detalles internos del otro objeto.\n"
      ],
      "metadata": {
        "id": "qZGlOB7LxeFA"
      }
    },
    {
      "cell_type": "markdown",
      "source": [
        "## Constructor\n",
        "\n",
        "Un constructor es un método especial que se utiliza para inicializar un objeto recién creado y asignarle valores iniciales a sus variables de instancia. Los constructores se definen dentro de una clase y se llaman automáticamente cuando se crea un objeto de una clase (instancia).\n",
        "\n",
        "Los constructores pueden tomar argumentos, que se utilizan para inicializar las variables de instancia del objeto. Si no se define un constructor para una clase, el lenguaje de programación proporciona uno por omisión que no toma argumentos y tan solo devuelve una instancia."
      ],
      "metadata": {
        "id": "J9rVMp_31l-b"
      }
    },
    {
      "cell_type": "markdown",
      "source": [
        "# POO en Python"
      ],
      "metadata": {
        "id": "3XVDb-KZ0vp4"
      }
    },
    {
      "cell_type": "markdown",
      "source": [
        "## definición de Clases\n",
        "\n",
        "Los objetos son instancias de una clase.\n",
        "+ Para crear una clase en Python se usa la palabra clave **class** seguida por el nombre de la clase. Por convención los nombres de clase se escriben en **PascalCase**\n",
        "+ Los métodos son funciones que pertenecen a la clase o a la instancia. Para definir un método se usa la palabra clave **def**, si el método es de instancia el primer parámetro necesariamente debe ser **self**, por convención los nombres de métodos se escriben en **snake_case**\n",
        "+ Los constructores se definen como métodos de instancia con el nombre **\\_\\_init__**, pueden haber varios constructores, pero necesariamente deben diferenciarse en la signatura de los parámetros, luego para crear una instancia e invocar al constructor, se llama a la clase con los parámetros correspondientes\n",
        "+ existe un método de instancia llamado **\\_\\_repr__** que permite definir cual es la representación en string de un objeto, por lo que si uso la función **print()** va a ejecutar este método\n",
        "+ se puede acceder a los atributos y métodos de una instancia usando el operador de punto (.)\n",
        "+ para referenciar a la instancia actual dentro de un método de instancia se usa la variable **self**\n",
        "+ Los atributos son variables que pertenecen a la clase o a la instancia. Por convención los atributos se escriben en **snake_case**\n",
        "\n"
      ],
      "metadata": {
        "id": "3dpSWwsFnRjF"
      }
    },
    {
      "cell_type": "code",
      "source": [
        "class Persona:\n",
        "    version = \"1.2\"  # atributo de clase\n",
        "    lista_personas = []  # atributo de clase\n",
        "\n",
        "    # constructor\n",
        "    def __init__(self, nombre, edad):\n",
        "        self.nombre = nombre  # atributo de instancia\n",
        "        self.edad = edad  # atributo de instancia\n",
        "        Persona.lista_personas.append(self)\n",
        "\n",
        "    def __repr__(self):  # método de representación en texto de la instancia\n",
        "        return f\"[{self.nombre}]\"\n",
        "\n",
        "    def saludar(self):  # método de instancia\n",
        "        print(f\"Hola, mi nombre es {self.nombre} y tengo {self.edad} años.\")\n",
        "\n",
        "    def listar():  # método de clase\n",
        "      print(Persona.lista_personas)\n",
        "\n",
        "print(Persona.version)\n",
        "Persona.listar()\n",
        "juan = Persona(\"Juan Gomez\", 32)\n",
        "juan.saludar()\n",
        "Persona.listar()\n",
        "juan = Persona(\"Paula Perez\", 24)\n",
        "juan.saludar()\n",
        "Persona.listar()\n"
      ],
      "metadata": {
        "colab": {
          "base_uri": "https://localhost:8080/"
        },
        "id": "9qBzuwXB1bY5",
        "outputId": "9ef36e6a-c238-4e27-cd27-2897603b5a2a"
      },
      "execution_count": 19,
      "outputs": [
        {
          "output_type": "stream",
          "name": "stdout",
          "text": [
            "1.2\n",
            "[]\n",
            "Hola, mi nombre es Juan Gomez y tengo 32 años.\n",
            "[[Juan Gomez]]\n",
            "Hola, mi nombre es Paula Perez y tengo 24 años.\n",
            "[[Juan Gomez], [Paula Perez]]\n"
          ]
        }
      ]
    },
    {
      "cell_type": "markdown",
      "source": [
        "## métodos \\_\\_repr__() y \\_\\_str__()\n",
        "\n",
        "Ambos métodos sirven para dar una representación textual del objeto, la diferencia principal es que \\_\\_repr\\_\\_() esta orientado a la representación de debug, para ser mostrada en los logs o en consola a travéz de la función **print()** en cambio \\_\\_str__() está orientado a como representar ese objeto ante el usuario, por ejemplo en una grilla.\n"
      ],
      "metadata": {
        "id": "y82ccpO6_yEd"
      }
    },
    {
      "cell_type": "markdown",
      "source": [
        "## Herencia y polimorfismo\n",
        "\n",
        "en Python la herencia se especifica al definir una clase, poniendo entre paréntesis a la \"clase madre\"\n",
        "\n",
        "```python\n",
        "class ClaseMadre:\n",
        "    pass\n",
        "\n",
        "class ClaseHija(ClaseMadre):\n",
        "    pass\n",
        "```\n",
        "\n",
        "en caso de no especificar la clase madre, toma por omisión a la clase interna llamada **object** (notar que no es PascalCase)"
      ],
      "metadata": {
        "id": "V4OZrxzoA2qu"
      }
    },
    {
      "cell_type": "markdown",
      "source": [
        "### Polimorfismo\n",
        "\n",
        "en caso de querer usar polimorfismo, simplemente hay que \"sobreescribir\" (override) el método, redefiniendolo en la clase hija\n"
      ],
      "metadata": {
        "id": "Un0rjqm_K2bu"
      }
    },
    {
      "cell_type": "code",
      "source": [
        "class ClaseMadre():\n",
        "    def saludar(self):\n",
        "        print(\"soy la clase madre\")\n",
        "\n",
        "class ClaseHija(ClaseMadre):\n",
        "    def saludar(self):\n",
        "        print(\"soy la clase hija\")\n",
        "\n",
        "madre = ClaseMadre()\n",
        "madre.saludar()\n",
        "\n",
        "hija = ClaseHija()\n",
        "hija.saludar()\n",
        "\n",
        "## uso de polimorfismo:\n",
        "def mi_metodo(obj_madre):\n",
        "  obj_madre.saludar()\n",
        "\n",
        "obj = ClaseHija()\n",
        "mi_metodo(obj)\n",
        "\n",
        "obj2 = ClaseMadre()\n",
        "mi_metodo(obj2)\n"
      ],
      "metadata": {
        "colab": {
          "base_uri": "https://localhost:8080/"
        },
        "id": "m3E9FEpPCwlC",
        "outputId": "48708e2d-0b42-41cc-b78b-a62626eb155f"
      },
      "execution_count": 23,
      "outputs": [
        {
          "output_type": "stream",
          "name": "stdout",
          "text": [
            "soy la clase madre\n",
            "soy la clase hija\n",
            "soy la clase hija\n",
            "soy la clase madre\n"
          ]
        }
      ]
    },
    {
      "cell_type": "markdown",
      "source": [
        "### uso de super()\n",
        "\n",
        "En Python, super() se utiliza para llamar a un método de la clase base desde una subclase. Esto es útil cuando se quiere sobrescribir un método de la clase base en la subclase, pero aún así se quiere utilizar el método original de la clase base.\n",
        "\n",
        "Para usar super() en una subclase, simplemente llama al método que deseas sobrescribir y utiliza super() para llamar al método original de la clase base.\n",
        "\n",
        "Este concepto se puede usar incluso en\n",
        "el constructor."
      ],
      "metadata": {
        "id": "YPxL6KBTF-aJ"
      }
    },
    {
      "cell_type": "code",
      "source": [
        "class Animal:\n",
        "    def hacer_sonido(self):\n",
        "        print(\"El animal hace un sonido.\")\n",
        "\n",
        "class Perro(Animal):\n",
        "    def hacer_sonido(self):\n",
        "        super().hacer_sonido()\n",
        "        print(\"El perro ladra.\")\n",
        "\n",
        "p = Perro()\n",
        "p.hacer_sonido()\n"
      ],
      "metadata": {
        "colab": {
          "base_uri": "https://localhost:8080/"
        },
        "id": "kbgo5PANHaC1",
        "outputId": "6015ff4d-d768-4913-c8a6-64306e2b8c00"
      },
      "execution_count": 26,
      "outputs": [
        {
          "output_type": "stream",
          "name": "stdout",
          "text": [
            "El animal hace un sonido.\n",
            "El perro ladra.\n"
          ]
        }
      ]
    },
    {
      "cell_type": "markdown",
      "source": [
        "### Herencia múltiple\n",
        "\n",
        "a diferencia de la gran mayoría de los lenguajes orientados a Objetos, en Python se puede tener herencia múltiple, o sea heredar de dos o más clases. Se puede hacer simplemente pasando las clases base separadas por comas en la definición de la clase."
      ],
      "metadata": {
        "id": "5w9YykgZEAh8"
      }
    },
    {
      "cell_type": "code",
      "source": [
        "class A:\n",
        "    def metodo_a(self):\n",
        "        print(\"Este es el método A.\")\n",
        "\n",
        "class B:\n",
        "    def metodo_b(self):\n",
        "        print(\"Este es el método B.\")\n",
        "\n",
        "class C(A, B):\n",
        "    pass\n",
        "\n",
        "obj = C()\n",
        "obj.metodo_a()\n",
        "obj.metodo_b()"
      ],
      "metadata": {
        "colab": {
          "base_uri": "https://localhost:8080/"
        },
        "id": "Aljv-ApeE-Y6",
        "outputId": "007c11ba-d139-46e2-c971-319559b8d39e"
      },
      "execution_count": 24,
      "outputs": [
        {
          "output_type": "stream",
          "name": "stdout",
          "text": [
            "Este es el método A.\n",
            "Este es el método B.\n"
          ]
        }
      ]
    },
    {
      "cell_type": "markdown",
      "source": [
        "### Orden de evaluación (Method Resolution Order - MRO)\n",
        "\n",
        " En Python, la herencia se resuelve de izquierda a derecha. Esto significa que el orden en que se especifican las clases base en la definición de una clase hija es importante. Si dos clases base tienen un método con el mismo nombre, Python usará el método de la primera clase base que tenga ese método"
      ],
      "metadata": {
        "id": "ej_Qw_ImFmVJ"
      }
    },
    {
      "cell_type": "code",
      "source": [
        "class A:\n",
        "    def metodo(self):\n",
        "        print(\"Este es el método A.\")\n",
        "\n",
        "class B:\n",
        "    def metodo(self):\n",
        "        print(\"Este es el método B.\")\n",
        "\n",
        "class C(A, B):\n",
        "    pass\n",
        "\n",
        "c = C()\n",
        "c.metodo() # Salida: Este es el método A."
      ],
      "metadata": {
        "colab": {
          "base_uri": "https://localhost:8080/"
        },
        "id": "pLMn9NmqJW6F",
        "outputId": "72152bf4-1488-4eb4-e756-78d5678e5501"
      },
      "execution_count": 27,
      "outputs": [
        {
          "output_type": "stream",
          "name": "stdout",
          "text": [
            "Este es el método A.\n"
          ]
        }
      ]
    },
    {
      "cell_type": "markdown",
      "source": [
        "El orden de evaluación es una mezcla de DFS con BFS (puede ser un grafo y no un arbol), si no hay ancestros en común será DFS, pero si hay ancestros en común, primero se evalúa DFS hasta esos ancestros, y se completa por BFS todas las ramas que tienen a ese ancestro y luego sigue DFS para arriba"
      ],
      "metadata": {
        "id": "rq23CZXpJhde"
      }
    },
    {
      "cell_type": "code",
      "source": [
        "class A: pass\n",
        "class B(A): pass\n",
        "class C(A): pass\n",
        "class D_0(B, C): pass\n",
        "class D_1(B, C): pass\n",
        "class E_0(D_0): pass\n",
        "class E_1(D_1): pass\n",
        "class F(E_0, E_1): pass\n",
        "\n",
        "[x.__name__ for x in F.__mro__]"
      ],
      "metadata": {
        "colab": {
          "base_uri": "https://localhost:8080/"
        },
        "id": "4J2Fn_NGKPZ0",
        "outputId": "88a1dc19-3cfb-482c-a324-dde24f22b65f"
      },
      "execution_count": 29,
      "outputs": [
        {
          "output_type": "execute_result",
          "data": {
            "text/plain": [
              "['F', 'E_0', 'D_0', 'E_1', 'D_1', 'B', 'C', 'A', 'object']"
            ]
          },
          "metadata": {},
          "execution_count": 29
        }
      ]
    },
    {
      "cell_type": "markdown",
      "source": [
        "## Encapsulamiento\n",
        "\n",
        "En Python, no existen las clasicas directivas como **\"private\"**, **\"public\"** o **\"protected\"** el encapsulamiento se logra mediante la convención de nomenclatura.\n",
        "\n",
        "+ **\\_metodo_con_guion** Los atributos y métodos que comienzan con un guión bajo (_) se consideran protegidos, en caso de importar la clase con:\n",
        "```python\n",
        "from Clase import *\n",
        "```\n",
        "estos métodos no serán importados y no deberían ser accedidos directamente desde fuera de la clase (aunque se puede). En caso de importarlos o usarlos explicitamente los linters darán error\n",
        "\n",
        "+ **\\___metodo_con_dos_guiones** Los atributos y métodos que comienzan con dos guiones bajos (__) son privados y no pueden ser usados directamente desde fuera (sin usar un renombre explicito _Clase_metodo)\n"
      ],
      "metadata": {
        "id": "jttEHbJox7Qp"
      }
    },
    {
      "cell_type": "code",
      "source": [
        "class A():\n",
        "  def _protegido(self):\n",
        "    print(\"protegido\")\n",
        "  def __privado(self):\n",
        "    print(\"privado\")\n",
        "\n",
        "a = A()\n",
        "a._protegido()  # se úede usar igual\n",
        "a._A__privado()  # uso con renombre"
      ],
      "metadata": {
        "colab": {
          "base_uri": "https://localhost:8080/"
        },
        "id": "May40X7OMhn8",
        "outputId": "cd350aae-42d7-41ea-d0b1-fd128b71da7c"
      },
      "execution_count": 39,
      "outputs": [
        {
          "output_type": "stream",
          "name": "stdout",
          "text": [
            "protegido\n",
            "privado\n"
          ]
        }
      ]
    }
  ]
}