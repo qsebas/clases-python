{
  "nbformat": 4,
  "nbformat_minor": 0,
  "metadata": {
    "colab": {
      "provenance": [],
      "toc_visible": true
    },
    "kernelspec": {
      "name": "python3",
      "display_name": "Python 3"
    },
    "language_info": {
      "name": "python"
    }
  },
  "cells": [
    {
      "cell_type": "markdown",
      "source": [
        "# Programacion Orientada a Objetos\n",
        "\n",
        "La programación orientada a objetos (POO) es un paradigma de programación que se basa en el concepto de “objetos”.\n",
        "\n",
        "En POO, existen dos conceptos básicos, La **clase** y la **instancia**,\n",
        "\n",
        "+ La clase representa al \"molde\" que puede describir e interactuar con un objeto (por ejemplo **Persona**, **Automobil**)\n",
        "\n",
        "+ Una instancia representa a un objeto puntual que se circunscribe con ese molde (ejemplo, para Persona podrian ser **\"Juan Gomez\"**, **\"Araceli Gonzalez\"**, para Automobil, algunas instancias podrian ser las correspondientes a las patentes **\"IKE 333\"** o **\"JOP 123\"**\n",
        "\n",
        "Los objetos son entidades que tienen un determinado estado, comportamiento e identidad. Los objetos contienen:\n",
        "+ información en forma de **atributos** (a veces también referidos como campos o propiedades, por ejemplo para una Persona los atributos pueden ser nombre, apellido, dni, edad)\n",
        "+ código en forma de **métodos**. Los métodos son funciones que pertenecen a la clase o al objeto, y permiten que los objetos interactúen entre sí, o se computen cosas en base a los atributos, e incluso los modifiquen.\n",
        "\n",
        "La programación orientada a objetos se utiliza para estructurar un programa de software en piezas simples y reutilizables código. Algunas características clave de la programación orientada a objetos son **herencia**, **cohesión**, **abstracción**, **polimorfismo**, **acoplamiento** y **encapsulamiento**."
      ],
      "metadata": {
        "id": "lZB-nHgLdwNH"
      }
    },
    {
      "cell_type": "markdown",
      "source": [
        "## Herencia\n",
        "\n",
        "En POO, la herencia es un mecanismo que permite que una clase herede las características (atributos y métodos) de otra clase. La herencia permite que se puedan definir nuevas clases basadas en otras ya existentes a fin de reutilizar el código, generando así una jerarquía de clases dentro de una aplicación. Si una clase deriva de otra, esta hereda sus atributos y métodos y puede añadir nuevos atributos, métodos o redefinir los heredados. La herencia es uno de los aspectos más importantes de la programación orientada a objetos, ya que proporciona reutilización del código y permite crear jerarquías de clases dentro de una aplicación\n",
        "\n",
        "Un ejemplo podría ser:\n",
        "\n",
        "+ Clase Vehiculo\n",
        "  * atributo: dominio\n",
        "  * atributo: marca\n",
        "  * atributo: modelo\n",
        "  * metodo: desplazar\n",
        "\n",
        "+ Clase Automóbil hereda de Vehículo\n",
        "  * atributo: cantidad_puertas\n",
        "  * atributo: tipo (sedan, hatchback..)\n",
        "\n",
        "+ Clase Moto hereda de Vehículo\n",
        "  * atributo: Cilindradas\n"
      ],
      "metadata": {
        "id": "KM3BYvSNntCG"
      }
    },
    {
      "cell_type": "markdown",
      "source": [
        "## Cohesión\n",
        "\n",
        "La cohesión se refiere a la medida en que los métodos que sirven a una clase tienden a ser similares. Si una clase tiene una alta cohesión, los métodos y atributos que pertenecen a ella están altamente relacionados y comparten un propósito común. Por lo tanto, la legibilidad y reusabilidad del código es mayor, mientras que la complejidad se mantiene manejable.\n",
        "\n",
        "Para ilustrar con un ejemplo:\n",
        "\n",
        "Una clase Impresora que tiene métodos para **imprimir**, **calibrar** y **limpiarCabezal** tiene una alta cohesión porque todos estos métodos están estrechamente relacionados con la tarea de imprimir.\n",
        "\n",
        "Si esa misma clase Impresora también tuviera métodos para **conectarABaseDeDatos**, **generarReporteFinanciero**, y **enviarEmail**, entonces tendría una baja cohesión porque estas responsabilidades no están directamente relacionadas con las operaciones básicas de una impresora.\n",
        "\n",
        "La cohesión es un tipo de medición ordinal y se describe generalmente como “cohesión alta” o “cohesión baja”."
      ],
      "metadata": {
        "id": "hvaFVLJrrtPu"
      }
    },
    {
      "cell_type": "markdown",
      "source": [
        "## Abstracción\n",
        "\n",
        "La abstracción es un principio que consiste en modelar las características esenciales de un objeto, las cuales lo distinguen de los demás y definen sus límites conceptuales.\n",
        "\n",
        "La abstracción se enfoca en la visión externa de un objeto y separa su comportamiento específico y que logra definir límites conceptuales respecto a quien está haciendo dicha abstracción del objeto. La abstracción se utiliza para aislar un elemento de su contexto o del resto de los elementos que lo acompañan. En programación, el término se refiere al énfasis en el “¿qué hace?” más que en el “¿cómo lo hace?” (característica de caja negra)."
      ],
      "metadata": {
        "id": "rjI5fGBgsjJC"
      }
    },
    {
      "cell_type": "markdown",
      "source": [
        "## Polimorfismo\n",
        "\n",
        "El polimorfismo es la capacidad de un objeto de tomar diferentes formas. En otras palabras, el polimorfismo permite que los objetos de diferentes clases respondan a un mismo mensaje de diferentes maneras. Esto implica que el mismo método puede tener diferentes comportamientos según la clase del objeto que lo recibe. El polimorfismo es una característica importante de la programación orientada a objetos porque permite que las clases derivadas implementen métodos específicos para ellas mismas, mientras que comparten la misma interfaz con la clase base.\n",
        "\n",
        "Por ejemplo en nuestras clases de vehiculo, cada subclase puede reimplementar el método \"desplazar\""
      ],
      "metadata": {
        "id": "qaZMZSoJvzXz"
      }
    },
    {
      "cell_type": "markdown",
      "source": [
        "## Acoplamiento\n",
        "\n",
        "El acoplamiento se refiere a la dependencia entre módulos o clases. Si una clase X usa una clase Y, se dice que X depende de Y, y existe acoplamiento entre ambas clases.\n",
        "\n",
        "Si hay demasiado acoplamiento entre las diferentes clases de un sistema, puede hacer que el código sea difícil de mantener y modificar, ya que los cambios en una clase pueden afectar a otras clases que dependen de ella.\n",
        "\n"
      ],
      "metadata": {
        "id": "x20HxEE2wnIr"
      }
    },
    {
      "cell_type": "markdown",
      "source": [
        "## Encapsulamiento\n",
        "\n",
        "El encapsulamiento es un mecanismo que permite agrupar y proteger los datos y los métodos de un objeto. El encapsulamiento limita el acceso directo a algunas propiedades o métodos de un objeto, y solo permite acceder a ellos a través de otros métodos públicos. El elemento más común de encapsulamiento son las clases, que engloban tanto métodos como propiedades.\n",
        "\n",
        "El encapsulamiento se utiliza para ocultar la complejidad interna de un objeto y para proteger sus datos de modificaciones no autorizadas. Esto ayuda a prevenir errores y a mejorar la seguridad del código. El encapsulamiento también permite que los objetos se comuniquen entre sí sin necesidad de conocer los detalles internos del otro objeto.\n"
      ],
      "metadata": {
        "id": "qZGlOB7LxeFA"
      }
    },
    {
      "cell_type": "markdown",
      "source": [
        "## Constructor\n",
        "\n",
        "Un constructor es un método especial que se utiliza para inicializar un objeto recién creado y asignarle valores iniciales a sus variables de instancia. Los constructores se definen dentro de una clase y se llaman automáticamente cuando se crea un objeto de una clase (instancia).\n",
        "\n",
        "Los constructores pueden tomar argumentos, que se utilizan para inicializar las variables de instancia del objeto. Si no se define un constructor para una clase, el lenguaje de programación proporciona uno por omisión que no toma argumentos y tan solo devuelve una instancia."
      ],
      "metadata": {
        "id": "J9rVMp_31l-b"
      }
    },
    {
      "cell_type": "markdown",
      "source": [
        "# POO en Python"
      ],
      "metadata": {
        "id": "3XVDb-KZ0vp4"
      }
    },
    {
      "cell_type": "markdown",
      "source": [
        "## definición de Clases\n",
        "\n",
        "Python es un lenguaje plenamente compatible con los conceptos principales de la Programación Orientada a Objetos. A diferencia de otros lenguajes el uso de objetos es laxo y no es obligatorio, por lo que es frecuente encontrarse con código más orientado a la separación por módulos que a las definiciones de clases\n",
        "\n",
        "Detalles de la POO en Python:\n",
        "\n",
        "+ Para crear una clase en Python se usa la palabra clave **class** seguida por el nombre de la clase. Por convención los nombres de clase se escriben en **PascalCase**\n",
        "+ Los métodos son funciones que pertenecen a la clase o a la instancia. Para definir un método se usa la palabra clave **def**, si el método es de instancia el primer parámetro necesariamente debe ser **self**, por convención los nombres de métodos se escriben en **snake_case**\n",
        "+ Los constructores se definen como métodos de instancia con el nombre **\\_\\_init__**, pueden haber varios constructores, pero necesariamente deben diferenciarse en la signatura de los parámetros, luego para crear una instancia e invocar al constructor, se llama a la clase con los parámetros correspondientes\n",
        "+ existe un método de instancia llamado **\\_\\_repr__** que permite definir cual es la representación en string de un objeto, por lo que si uso la función **print()** va a ejecutar este método\n",
        "+ se puede acceder a los atributos y métodos de una instancia usando el operador de punto (.)\n",
        "+ para referenciar a la instancia actual dentro de un método de instancia se usa la variable **self**\n",
        "+ Los atributos son variables que pertenecen a la clase o a la instancia. Por convención los atributos se escriben en **snake_case**\n",
        "\n"
      ],
      "metadata": {
        "id": "3dpSWwsFnRjF"
      }
    },
    {
      "cell_type": "code",
      "source": [
        "class Persona:\n",
        "    version = \"1.2\"  # atributo de clase\n",
        "    lista_personas = []  # atributo de clase\n",
        "\n",
        "    # constructor\n",
        "    def __init__(self, nombre, edad):\n",
        "        self.nombre = nombre  # atributo de instancia\n",
        "        self.edad = edad  # atributo de instancia\n",
        "        Persona.lista_personas.append(self)\n",
        "\n",
        "    def __repr__(self):  # método de representación en texto de la instancia\n",
        "        return f\"[{self.nombre}]\"\n",
        "\n",
        "    def saludar(self):  # método de instancia\n",
        "        print(f\"Hola, mi nombre es {self.nombre} y tengo {self.edad} años.\")\n",
        "\n",
        "    def listar():  # método de clase\n",
        "      print(Persona.lista_personas)\n",
        "\n",
        "print(Persona.version)\n",
        "Persona.listar()\n",
        "juan = Persona(\"Juan Gomez\", 32)\n",
        "juan.saludar()\n",
        "Persona.listar()\n",
        "juan = Persona(\"Paula Perez\", 24)\n",
        "juan.saludar()\n",
        "Persona.listar()\n"
      ],
      "metadata": {
        "id": "9qBzuwXB1bY5"
      },
      "execution_count": null,
      "outputs": []
    },
    {
      "cell_type": "markdown",
      "source": [
        "## métodos \\_\\_repr__() y \\_\\_str__()\n",
        "\n",
        "Ambos métodos sirven para dar una representación textual del objeto, la diferencia principal es que \\_\\_repr\\_\\_() esta orientado a la representación de debug, para ser mostrada en los logs o en consola a travéz de la función **print()** en cambio \\_\\_str__() está orientado a como representar ese objeto ante el usuario, por ejemplo en una grilla.\n"
      ],
      "metadata": {
        "id": "y82ccpO6_yEd"
      }
    },
    {
      "cell_type": "markdown",
      "source": [
        "## Herencia y polimorfismo\n",
        "\n",
        "en Python la herencia se especifica al definir una clase, poniendo entre paréntesis a la \"clase madre\"\n",
        "\n",
        "```python\n",
        "class ClaseMadre:\n",
        "    pass\n",
        "\n",
        "class ClaseHija(ClaseMadre):\n",
        "    pass\n",
        "```\n",
        "\n",
        "en caso de no especificar la clase madre, toma por omisión a la clase interna llamada **object** (notar que no es PascalCase)"
      ],
      "metadata": {
        "id": "V4OZrxzoA2qu"
      }
    },
    {
      "cell_type": "markdown",
      "source": [
        "### Polimorfismo\n",
        "\n",
        "en caso de querer usar polimorfismo, simplemente hay que \"sobreescribir\" (override) el método, redefiniendolo en la clase hija\n"
      ],
      "metadata": {
        "id": "Un0rjqm_K2bu"
      }
    },
    {
      "cell_type": "code",
      "source": [
        "class ClaseMadre():\n",
        "    def saludar(self):\n",
        "        print(\"soy la clase madre\")\n",
        "\n",
        "class ClaseHija(ClaseMadre):\n",
        "    def saludar(self):\n",
        "        print(\"soy la clase hija\")\n",
        "\n",
        "madre = ClaseMadre()\n",
        "madre.saludar()\n",
        "\n",
        "hija = ClaseHija()\n",
        "hija.saludar()\n",
        "\n",
        "## uso de polimorfismo:\n",
        "def mi_metodo(obj_madre):\n",
        "  obj_madre.saludar()\n",
        "\n",
        "obj = ClaseHija()\n",
        "mi_metodo(obj)\n",
        "\n",
        "obj2 = ClaseMadre()\n",
        "mi_metodo(obj2)\n"
      ],
      "metadata": {
        "id": "m3E9FEpPCwlC"
      },
      "execution_count": null,
      "outputs": []
    },
    {
      "cell_type": "markdown",
      "source": [
        "### uso de super()\n",
        "\n",
        "En Python, super() se utiliza para llamar a un método de la clase base desde una subclase. Esto es útil cuando se quiere sobrescribir un método de la clase base en la subclase, pero aún así se quiere utilizar el método original de la clase base.\n",
        "\n",
        "Para usar super() en una subclase, simplemente llama al método que deseas sobrescribir y utiliza super() para llamar al método original de la clase base.\n",
        "\n",
        "Este concepto se puede usar incluso en\n",
        "el constructor."
      ],
      "metadata": {
        "id": "YPxL6KBTF-aJ"
      }
    },
    {
      "cell_type": "code",
      "source": [
        "class Animal:\n",
        "    def hacer_sonido(self):\n",
        "        print(\"El animal hace un sonido.\")\n",
        "\n",
        "class Perro(Animal):\n",
        "    def hacer_sonido(self):\n",
        "        super().hacer_sonido()\n",
        "        print(\"El perro ladra.\")\n",
        "\n",
        "p = Perro()\n",
        "p.hacer_sonido()\n"
      ],
      "metadata": {
        "id": "kbgo5PANHaC1"
      },
      "execution_count": null,
      "outputs": []
    },
    {
      "cell_type": "markdown",
      "source": [
        "### Herencia múltiple\n",
        "\n",
        "a diferencia de la gran mayoría de los lenguajes orientados a Objetos, en Python se puede tener herencia múltiple, o sea heredar de dos o más clases. Se puede hacer simplemente pasando las clases base separadas por comas en la definición de la clase."
      ],
      "metadata": {
        "id": "5w9YykgZEAh8"
      }
    },
    {
      "cell_type": "code",
      "source": [
        "class A:\n",
        "    def metodo_a(self):\n",
        "        print(\"Este es el método A.\")\n",
        "\n",
        "class B:\n",
        "    def metodo_b(self):\n",
        "        print(\"Este es el método B.\")\n",
        "\n",
        "class C(A, B):\n",
        "    pass\n",
        "\n",
        "obj = C()\n",
        "obj.metodo_a()\n",
        "obj.metodo_b()"
      ],
      "metadata": {
        "id": "Aljv-ApeE-Y6"
      },
      "execution_count": null,
      "outputs": []
    },
    {
      "cell_type": "markdown",
      "source": [
        "### Orden de evaluación (Method Resolution Order - MRO)\n",
        "\n",
        " En Python, la herencia se resuelve de izquierda a derecha. Esto significa que el orden en que se especifican las clases base en la definición de una clase hija es importante. Si dos clases base tienen un método con el mismo nombre, Python usará el método de la primera clase base que tenga ese método"
      ],
      "metadata": {
        "id": "ej_Qw_ImFmVJ"
      }
    },
    {
      "cell_type": "code",
      "source": [
        "class A:\n",
        "    def metodo(self):\n",
        "        print(\"Este es el método A.\")\n",
        "\n",
        "class B:\n",
        "    def metodo(self):\n",
        "        print(\"Este es el método B.\")\n",
        "\n",
        "class C(A, B):\n",
        "    pass\n",
        "\n",
        "c = C()\n",
        "c.metodo() # Salida: Este es el método A."
      ],
      "metadata": {
        "id": "pLMn9NmqJW6F"
      },
      "execution_count": null,
      "outputs": []
    },
    {
      "cell_type": "markdown",
      "source": [
        "El orden de evaluación es una mezcla de DFS con BFS, si no hay ancestros en común será DFS, pero si hay ancestros en común, primero se evalúa DFS hasta esos ancestros, y se completa por BFS todas las ramas que tienen a ese ancestro y luego sigue DFS para arriba"
      ],
      "metadata": {
        "id": "rq23CZXpJhde"
      }
    },
    {
      "cell_type": "code",
      "source": [
        "class A: pass\n",
        "class B(A): pass\n",
        "class C(A): pass\n",
        "class D_0(B, C): pass\n",
        "class D_1(B, C): pass\n",
        "class E_0(D_0): pass\n",
        "class E_1(D_1): pass\n",
        "class F(E_0, E_1): pass\n",
        "\n",
        "[x.__name__ for x in F.__mro__]"
      ],
      "metadata": {
        "id": "4J2Fn_NGKPZ0"
      },
      "execution_count": null,
      "outputs": []
    },
    {
      "cell_type": "markdown",
      "source": [
        "## Encapsulamiento\n",
        "\n",
        "En Python, no existen las clasicas directivas (modificadores de acceso) como **\"private\"**, **\"public\"** o **\"protected\"** el encapsulamiento se logra mediante la convención de nomenclatura.\n",
        "\n",
        "+ **\\_metodo_con_guion** Los atributos y métodos que comienzan con un guión bajo (_) se consideran protegidos, en caso de importar la clase con:\n",
        "```python\n",
        "from Clase import *\n",
        "```\n",
        "estos métodos no serán importados y no deberían ser accedidos directamente desde fuera de la clase (aunque se puede). En caso de importarlos o usarlos explicitamente los linters darán error\n",
        "\n",
        "+ **\\___metodo_con_dos_guiones** Los atributos y métodos que comienzan con dos guiones bajos (__) son privados y no pueden ser usados directamente desde fuera (sin usar un renombre explicito _Clase_metodo). No confundir los métodos con doble guión bajo al principio y al final que veremos después\n"
      ],
      "metadata": {
        "id": "jttEHbJox7Qp"
      }
    },
    {
      "cell_type": "code",
      "source": [
        "class A():\n",
        "  def _protegido(self):\n",
        "    print(\"protegido\")\n",
        "  def __privado(self):\n",
        "    print(\"privado\")\n",
        "\n",
        "a = A()\n",
        "a._protegido()  # se úede usar igual\n",
        "a._A__privado()  # uso con renombre\n"
      ],
      "metadata": {
        "id": "May40X7OMhn8"
      },
      "execution_count": null,
      "outputs": []
    },
    {
      "cell_type": "markdown",
      "source": [
        "## Atributos y Propiedades\n",
        "\n",
        "Los atributos y las propiedades son términos que se utilizan para describir las características de un objeto. Los atributos son variables que pertenecen a la clase o a la instancia, mientras que las propiedades son métodos que se utilizan para acceder y modificar los atributos. Las propiedades se utilizan para proteger los atributos de modificaciones no autorizadas y para proporcionar una interfaz más clara y fácil de usar para el objeto.\n",
        "\n"
      ],
      "metadata": {
        "id": "DUbZxtQqXlui"
      }
    },
    {
      "cell_type": "code",
      "source": [
        "class Persona:\n",
        "    def __init__(self, nombre, edad):\n",
        "        self._nombre = nombre\n",
        "        self._edad = edad\n",
        "\n",
        "    @property  # defie la propiedad y su getter\n",
        "    def nombre(self):\n",
        "        return self._nombre\n",
        "\n",
        "    @nombre.setter  # define el setter de la propiedad\n",
        "    def nombre(self, nuevo_nombre):\n",
        "        self._nombre = nuevo_nombre\n",
        "\n",
        "    @property\n",
        "    def edad(self):\n",
        "        return self._edad\n",
        "\n",
        "    @edad.setter\n",
        "    def edad(self, nueva_edad):\n",
        "        if nueva_edad < 0:\n",
        "            raise ValueError(\"La edad no puede ser negativa.\")\n",
        "        self._edad = nueva_edad\n",
        "\n",
        "p = Persona(\"Juan\", 30)\n",
        "print(p.nombre) # Salida: Juan\n",
        "p.nombre = \"Pedro\"\n",
        "print(p.nombre) # Salida: Pedro\n",
        "print(p.edad) # Salida: 30\n",
        "p.edad = 35\n",
        "print(p.edad) # Salida: 35\n",
        "try:\n",
        "    p.edad = -5\n",
        "except ValueError as ex:\n",
        "  print(ex)"
      ],
      "metadata": {
        "id": "-Rp1zBLvfZr5"
      },
      "execution_count": null,
      "outputs": []
    },
    {
      "cell_type": "markdown",
      "source": [
        "## Métodos de Clase, Métodos Estáticos y decorador @staticmethod\n",
        "\n",
        "Los métodos de clase son métodos que se definen en una clase y se llaman en la clase en lugar de en una instancia de la clase. En algunos lenguajes de programación estos métodos también son llamados \"métodos estáticos\" por la forma en que fueron programados antiguamente en C++\n",
        "\n",
        "En python existen 3 maneras de crear métodos de clase:\n",
        "\n",
        "+ Utilizando el decorador **@classmethod**, estos métodos reciben la clase como primer parámetro (usualmente llamada cls), a primera vista parecería no ser necesario porque es un método de clase, pero también entran los conceptos de Herencia y Polimorfismo con estos métodos, por lo que ese parámetro puede sernos útil. Es preferible usar los @classmethod cuando en el método vamos a usar el parámetro de la clase, ya seapara comprobar o utilizar la clase en si, o para ultilizar algún atributo de clase\n",
        "+ simplente definir un método sin el primer parámetro \"self\", esto generará un métdodo de clase que para ser invocado hay que llamarlo a través de la clase **Clase.metodo_clase()**\n",
        "+ también se puede utilizar el decorador @staticmethod en un método definido sin parámetro self, la diferencia es que además de poder invocarlo desde una clase, puede ser invocado desde una instancia\n",
        "\n",
        "Para referenciar en estas últimas dos maneras a algun otro atributo o método de clase, hayq ue calificarlo con el nombre de la clase"
      ],
      "metadata": {
        "id": "ddy7G1vRgt9p"
      }
    },
    {
      "cell_type": "code",
      "source": [
        "class Rectangulo:\n",
        "    def __init__(self, ancho, altura):\n",
        "        self.ancho = ancho\n",
        "        self.altura = altura\n",
        "\n",
        "    def area(self):  # método de instancia\n",
        "        return self.ancho * self.altura\n",
        "\n",
        "    @classmethod  # método de clase\n",
        "    def cuadrado(cls, lado):\n",
        "        return cls(lado, lado) # al llamar a cls() llama al constructor\n",
        "\n",
        "cuadrado = Rectangulo.cuadrado(5)\n",
        "print(cuadrado.area()) # Salida: 25\n",
        "\n",
        "class Pizza:\n",
        "    prohibido = \"ananá\"\n",
        "    def __init__(self, ingredientes):\n",
        "        self.ingredientes = ingredientes\n",
        "\n",
        "    @staticmethod\n",
        "    def validar_ingredientes(ingredientes):\n",
        "        if Pizza.prohibido in ingredientes:\n",
        "            raise ValueError(\"¡No pongas ananá en tu pizza!\")\n",
        "        else:\n",
        "            return True\n",
        "\n",
        "    @classmethod\n",
        "    def validar_ingredientes2(cls, ingredientes):\n",
        "        if cls.prohibido in ingredientes:\n",
        "            raise ValueError(\"¡No pongas ananá en tu pizza!\")\n",
        "        else:\n",
        "            return True\n",
        "\n",
        "    def validar_ingredietes3(ingredientes):\n",
        "        if Pizza.prohibido in ingredientes:\n",
        "            raise ValueError(\"¡No pongas ananá en tu pizza!\")\n",
        "        else:\n",
        "            return True\n",
        "\n",
        "    def validar_ingredientes4(self):\n",
        "        if Pizza.prohibido in self.ingredientes:\n",
        "            raise ValueError(\"¡No pongas ananá en tu pizza!\")\n",
        "        else:\n",
        "            return True\n",
        "\n",
        "\n",
        "\n",
        "ingredientes = [\"queso\", \"cebolla\", \"jamón\"]\n",
        "if Pizza.validar_ingredientes(ingredientes):\n",
        "    pizza = Pizza(ingredientes)\n",
        "\n",
        "pizza2 = Pizza(ingredientes)\n",
        "pizza2.validar_ingredientes(ingredientes)  # se puede acceder al metodo de clase a través del objeto\n",
        "Pizza.validar_ingredientes(ingredientes)  # se puede acceder al metodo de clase a través de la clase\n",
        "\n",
        "\n",
        "pizza3 = Pizza(ingredientes)\n",
        "# pizza3.validar_ingredientes(ingredientes)  # no se puede acceder al metodo de clase a través del objeto\n",
        "Pizza.validar_ingredientes(ingredientes)  # se puede acceder al metodo de clase a través de la clase\n",
        "\n",
        "\n",
        "pizza4 = Pizza(ingredientes)\n",
        "pizza4.validar_ingredientes4()  # llama al método de instancia"
      ],
      "metadata": {
        "id": "RmzwWg4inW9e"
      },
      "execution_count": null,
      "outputs": []
    },
    {
      "cell_type": "markdown",
      "source": [
        "## Clases abstractas y Protocols\n",
        "\n",
        "Las clases abstractas son clases que no se pueden instanciar directamente, sino que se utilizan como base para otras clases. En Python, se pueden crear clases abstractas utilizando el módulo abc.\n",
        "\n"
      ],
      "metadata": {
        "id": "JrWXTR4lvAs9"
      }
    },
    {
      "cell_type": "code",
      "source": [
        "from abc import ABC, abstractmethod\n",
        "\n",
        "class Animal(ABC):\n",
        "    @abstractmethod\n",
        "    def hacer_sonido(self):\n",
        "        raise NotImplementedError()\n",
        "\n",
        "class Perro(Animal):\n",
        "    def hacer_sonido(self):\n",
        "        print(\"Guau\")\n",
        "\n",
        "class Gato(Animal):\n",
        "    def hacer_sonido(self):\n",
        "        print(\"Miau\")\n",
        "\n"
      ],
      "metadata": {
        "id": "ORE8d31hvbGs"
      },
      "execution_count": null,
      "outputs": []
    },
    {
      "cell_type": "markdown",
      "source": [
        "En Python, un protocolo es una especificación de una interfaz que define un conjunto de métodos y atributos que una clase debe implementar para ser compatible con el protocolo.\n",
        "\n",
        "La principal funcionalidad de esto, es poder usar los Hints de tipos y de esa manera especificar cuales son los métodos que tiene un objeto recibido por parámetro"
      ],
      "metadata": {
        "id": "vPIRsdLGvX07"
      }
    },
    {
      "cell_type": "code",
      "source": [
        "from typing import Protocol\n",
        "\n",
        "class Ordenable(Protocol):\n",
        "    def __lt__(self, other) -> bool:\n",
        "        pass\n",
        "\n",
        "def ordenar(lista: list[Ordenable]) -> list[Ordenable]:\n",
        "    return sorted(lista)"
      ],
      "metadata": {
        "id": "Cgy8KouXxLzt"
      },
      "execution_count": null,
      "outputs": []
    },
    {
      "cell_type": "markdown",
      "source": [
        "## Mixin\n",
        "\n",
        "Un mixin es una clase que proporciona funcionalidad adicional a otras clases sin ser la clase principal, se suele acoplar esta funcionalidad utilizando la herencia múltiple. En Python, se pueden crear mixins simplemente creando una clase con los métodos adicionales y luego heredando esa clase en otras clases donde sea necesario.\n"
      ],
      "metadata": {
        "id": "PKL_wrrJ0Vdf"
      }
    },
    {
      "cell_type": "code",
      "source": [
        "class MiClaseBase:\n",
        "  pass\n",
        "class MixinAdicional:\n",
        "    def metodo_adicional(self):\n",
        "        print(\"Este es un método adicional.\")\n",
        "\n",
        "class ClasePrincipal(MiClaseBase, MixinAdicional):\n",
        "    pass\n",
        "\n",
        "objeto = ClasePrincipal()\n",
        "objeto.metodo_adicional() # Salida: Este es un método adicional."
      ],
      "metadata": {
        "id": "nHNsCZVc0zHj"
      },
      "execution_count": null,
      "outputs": []
    },
    {
      "cell_type": "markdown",
      "source": [
        "## Dunder methods o métodos mágicos\n",
        "\n",
        "Los dunder methods son métodos especiales que comienzan y terminan con doble guión bajo (\\_\\_). Estos métodos son \"la magia detrás de escenas\" en el funcionamiento de python, por ejemplo cuando se invoca al constructor, se invoca al método \\_\\_init\\_\\_(), cuando se usa la funcion len() se invoca al metodo \\_\\_len\\_\\_() que supone tener por duck typing, cuando se compara por == se usa el método \\_\\_eq\\_\\_(), cuando se usa print() a un objeto, se imprime el resultado de \\_\\_repr\\_\\_().\n",
        "\n",
        "Otros métodos mágicos:\n",
        "+ \\_\\_dict\\_\\_\n",
        "+ \\_\\_getattr\\_\\_()\n",
        "+ \\_\\_setattr\\_\\_()\n",
        "+ \\_\\_str\\_\\_()\n",
        "+ \\_\\_doc\\_\\_()\n",
        "+ \\_\\_name\\_\\_\n",
        "\n",
        "se puede tener mas informacion en\n",
        "https://docs.python.org/3/reference/datamodel.html\n"
      ],
      "metadata": {
        "id": "CTgoEdRK1MGu"
      }
    },
    {
      "cell_type": "markdown",
      "source": [
        "## Sobrecarga de Operadores\n",
        "\n",
        "La sobrecarga de operadores consiste en redinir el comportamiento de los operadores + - * == / (entre otros) con la clase... si queremos porejemplo tener una clase que represente un Arbol de Busqueda de estudiantes y queremos que al usar el operador + con un estudiante de la forma:\n",
        "\n",
        "arbol +  estudiante\n",
        "\n",
        "devuelva el Arbol resultante de agregarle el estudiante al arbol original\n",
        "\n",
        "para realizar esto simplemente se sobreesribe el dunder method correspondiente por ejemplo:\n",
        "\n",
        "+ \\_\\_add\\_\\_()\n",
        "+ \\_\\_sub\\_\\_()\n",
        "+ \\_\\_mul\\_\\_()\n",
        "+ \\_\\_eq\\_\\_()\n"
      ],
      "metadata": {
        "id": "UxLw7o-r42iO"
      }
    },
    {
      "cell_type": "markdown",
      "source": [
        "# Ejercicios\n",
        "\n",
        "* Crea una clase abstracta llamada CuentaBancaria que tenga un atributo saldo (Decimal). Luego, crea dos subclases de CuentaBancaria llamadas CuentaCorriente y CajaDeAhorro.\n",
        " + La clase CuentaCorriente debe tener un atributo adicional llamado limite_descubierto (Decimal).\n",
        " + Ambas subclases deben tener métodos para depositar y retirar dinero de la cuenta, así como para obtener el saldo actual.\n",
        " + El depósito funciona de la misma manera en ambos casos, pero el retiro en caso de Caja de ahorro no debe permitir llevar el saldo a negativo, mientras que el caso de Cuenta Corriente no debe permitir tener saldo negativo mayor al limite_descubierto.\n",
        " + El límite de descubierto puede ser modificado.\n",
        " + Se debe sobrecargar los operadores + y - que tomaran una cuenta y un monto y funcionarán como deposito y retiro respectivamente\n",
        " + La clase CuentaBancaria de tener un metodo de clase que devuelva al suma de todos los saldos de todas las cuentas creadas, según con que clase sea invocada.\n"
      ],
      "metadata": {
        "id": "WTPiGhCxx0AY"
      }
    },
    {
      "cell_type": "markdown",
      "source": [
        "\n",
        " + Revisar y tratar de entender estas dos formas de definir una clase a la que al construir le puedo pasar parametros con nombre para obtener un objeto con esos atributos accesibles a través del uso del . como si fueran atributos definidos en la instancia.\n"
      ],
      "metadata": {
        "id": "s7NvQ7AB1Be2"
      }
    },
    {
      "cell_type": "code",
      "source": [
        "class Bunch(object):\n",
        "  def __init__(self, **kwds):\n",
        "    self.__dict__.update(kwds)\n",
        "\n",
        "  def __eq__(self, other):\n",
        "    return self.__dict__ == other.__dict__\n",
        "\n",
        "\n",
        "class Bunch2(dict):\n",
        "  __getattr__, __setatr__ = dict.get, dict.__setitem__\n",
        "\n",
        "x = Bunch(pepe=23)\n",
        "print(x.pepe)\n",
        "\n",
        "print(x)\n",
        "\n",
        "x = Bunch2(pepe=23,update=33)\n",
        "print(x.pepe)\n",
        "print(x)\n",
        "print(x.update)\n",
        "\n"
      ],
      "metadata": {
        "id": "oJ7ZPeBUUtWu"
      },
      "execution_count": null,
      "outputs": []
    }
  ]
}