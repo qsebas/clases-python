{
  "nbformat": 4,
  "nbformat_minor": 0,
  "metadata": {
    "colab": {
      "provenance": [],
      "toc_visible": true,
      "authorship_tag": "ABX9TyO47/kfwLj/+543VyVkRvha",
      "include_colab_link": true
    },
    "kernelspec": {
      "name": "python3",
      "display_name": "Python 3"
    },
    "language_info": {
      "name": "python"
    }
  },
  "cells": [
    {
      "cell_type": "markdown",
      "metadata": {
        "id": "view-in-github",
        "colab_type": "text"
      },
      "source": [
        "<a href=\"https://colab.research.google.com/github/qsebas/clases-python/blob/main/clases/Curso_Python_clase_7.ipynb\" target=\"_parent\"><img src=\"https://colab.research.google.com/assets/colab-badge.svg\" alt=\"Open In Colab\"/></a>"
      ]
    },
    {
      "cell_type": "markdown",
      "source": [
        "# Paquetes / pip / Pypi\n",
        "\n",
        "El manejo de paquetes en Python se refiere a la forma en que los paquetes de software se instalan, actualizan y eliminan en un sistema. Un paquete es un conjunto de módulos que se utilizan para agregar funcionalidad a una instalación de Python. Los paquetes pueden ser creados por terceros o por el usuario y pueden ser compartidos con otros usuarios.\n",
        "\n",
        "El instalador de paquetes recomendado para Python es pip. Con pip, se pueden instalar paquetes desde el Índice de Paquetes de Python (http://pypi.org) y otros repositorios. En las instalaciones modernas de Python, pip suele estar ya instalado, suele ser recomendado actualizar a la últma versión disponible:\n",
        "\n",
        "```shell\n",
        "pip install --upgrade pip\n",
        "```\n",
        "\n",
        "pip se encargará de administrar los paquetes instalados, de tener un caché para evitar descargas posteriores y de administrar las dependencias y la compatibilidad entre versiones\n"
      ],
      "metadata": {
        "id": "HQsI_Ql24ms_"
      }
    },
    {
      "cell_type": "markdown",
      "source": [
        "## Uso de pip\n",
        "\n",
        "Para instalar un paquete determinado se utliliza el comando **pip install** por ejemplo para instalar el paquete [python-dateutil](https://pypi.org/project/python-dateutil/) se usa:\n",
        "\n",
        "```shell\n",
        "pip install python-dateutil\n",
        "```\n",
        "\n",
        "Al instalar un paquete, instala todos los paquetes que este necesita (el paquete propiamente dicho y sus dependencias) en su última versión compatible tanto con la versión de python con todos los demás paquetes ya instalados. Por ejemplo al instalar **python-dateutil** tiene como dependencia el paquete **six** en la versión mayor a 1.5, por lo que instalará la mayor versión que cumpla con esa restricción (actualmente 1.16) además de instalar la ultima version de dateutil (actualmente la 2.8.2)\n",
        "\n",
        "Si se desea instalar una versión anterior, se puede fijar\n",
        "\n",
        "\n",
        "```shell\n",
        "pip install python-dateutil==2.7.0\n",
        "```\n",
        "\n",
        "Existen varios operadores:\n",
        "+ == exactamente\n",
        "+ \\> mayor estricto \\>= mayor o igual\n",
        "+ \\< menor estricto \\<= menor o igual\n",
        "+ != excluyente\n",
        "+ ~=3.4.5 quiere decir **\\>=3.4.5** y  **<3.5.0**\n",
        "+ se pueden usar * en las versiones (**==3.4.***)\n",
        "+ se pueden combinar varias reglas con la coma(**>1.5, !=2,0**)\n",
        "+ existe el concepto de subpaquete opcional que no es instalado por omision, para instalarlos se usa **mi-paquete[sub1, sub2]**, en este caso, si instalo solamente \"mi-paquete\" no instalará los módulos especificados en \"sub1\" y \"sub2\"\n",
        "\n",
        "También se puden restringir según la versión de python por ejemplo\n",
        "```shell\n",
        "pip install \"python-openid==2.2.5 ; python_version < '3.0'\"\n",
        "```\n",
        "Solo instalará el paquete si la versión de python es inferior a 3.0 (por ejemplo 2.7)\n",
        "\n",
        "\n",
        "Otros comandos que se pueden ejecutar con pip\n",
        "\n",
        "+ **pip uninstall paquete** - desinstala un paquete\n",
        "+ **pip install --upgrade paquete** - baja la mayor versión posible del paquete (compatible con el resto)\n",
        "+ **pip show paquete** - muestra los detalles del paquete instalado (entre ellos la versión)\n",
        "+ **pip list** - muestra todos los paquetes instalados y su versión en un formato cómodo de leer\n",
        "+ **pip freeze** - muestra todos los paquetes instalados y su versión en un formato compatible con un requirements.txt\n",
        "\n"
      ],
      "metadata": {
        "id": "sp_CfVjV4056"
      }
    },
    {
      "cell_type": "markdown",
      "source": [
        "## requirements.txt\n",
        "\n",
        "Los requerimientos de un proyecto se pueden escribir en un archivo (usualmente llamado requirements.txt) de tal manera que se pueden instalar todos juntos con el comando\n",
        "\n",
        "```shell\n",
        "pip install -r requirements.txt\n",
        "```\n",
        "el formato del archivo es el siguiente\n",
        "```shell\n",
        "# pueden haber comentarios\n",
        "-r other_requirements.txt # pueden incluirse otros archivos\n",
        "un_paquete # paquetes sin version\n",
        "paquete>=2.0, !=3.0\n",
        "otro==1.2\n",
        "y_otro~=3.4.5\n",
        "\n",
        "# condicional segun la version\n",
        "python-openid==2.2.5   ; python_version < '3.0'\n",
        "python3-openid==3.0.10 ; python_version >= '3.0'\n",
        "\n",
        "# se puede instalar directamente de un archivo wheel\n",
        "/path/to/archivo.whl\n",
        "\n",
        "# se puede instalar directamente de un directorio con un proyecto de paquete\n",
        "/path/to/project\n",
        "\n",
        "# se puede instalar desde un repositorio git\n",
        "git+https://github.com/deepak1725/fabric8-analytics-worker.git@develop\n",
        "# con el @develop se elije el branch\n",
        "\n",
        "```\n"
      ],
      "metadata": {
        "id": "vXwrU0E65I9x"
      }
    },
    {
      "cell_type": "markdown",
      "source": [
        "## repositorios alternativos\n",
        "\n",
        "Por omisión pip utiliza pypi.org como repositorio, se puede utilizar repositorios alternativos\n",
        "\n",
        "```shell\n",
        "pip install pepe --index https://otro-pypi.org\n",
        "```\n",
        "\n",
        "si el acceso es por http y no por https, explicitamente hay que permitirlo con --trusted-host\n",
        "\n",
        "```shell\n",
        "pip install pepe --index http://otro-pypi.org --trusted-host otro-pypi.org\n",
        "```"
      ],
      "metadata": {
        "id": "Yvt0_xk95P3-"
      }
    },
    {
      "cell_type": "code",
      "source": [
        "!echo \"********** Upgrade PIP\"\n",
        "!pip install --upgrade pip\n",
        "!echo \"********** Install dateutil\"\n",
        "!pip install python-dateutil\n",
        "!echo \"********** Show dateutil\"\n",
        "!pip show python-dateutil\n",
        "!echo \"********** Install dateutil 2.7.0\"\n",
        "!pip install python-dateutil==2.7.0\n",
        "!echo \"********** Show dateutil\"\n",
        "!pip show python-dateutil"
      ],
      "metadata": {
        "id": "qgV6Uqfu5PAk"
      },
      "execution_count": null,
      "outputs": []
    },
    {
      "cell_type": "markdown",
      "source": [
        "# Entornos virtuales / venv\n",
        "\n",
        "Pip instalará los paquetes en el Python \"activo\", y los paquetes se instalarán en una única versión. esto genera que el python se llene de paquetes que son necesarios sólo para alguna aplicación y además puede generar conflictos si distintas aplicaciones requieren distintas versiones de paquetes (por ejemplo una aplicación este hecha para Django 2.2 y otra para Django 4.2)\n",
        "\n",
        "Para solucionar estos problemas se utilizan los \"entornos virtuales\" que son entornos aislados que contienen una instalación \"limpia\" de python a los que en caso de instalarle un paquete solo será visible dentro del entorno\n",
        "\n"
      ],
      "metadata": {
        "id": "aCdFYJB_-OVS"
      }
    },
    {
      "cell_type": "markdown",
      "source": [
        "## Creación y Activación\n",
        "\n",
        "Para crear un entorno se usa el módulo de la Standard Lib llamado **venv**, si se tienen varias versiones de python instaladas, según con que versión se invoque el entorno será de esa misma versión.\n",
        "\n",
        "Como parámetro venv recibe el nombre del directorio donde va a grabar todos los archivos del entorno, usualmente se suele usar venv de nombre.\n",
        "\n",
        "```shell\n",
        "python -m venv dir_venv\n",
        "```\n",
        "```shell\n",
        "python -m venv venv\n",
        "```\n",
        "```shell\n",
        "python3.10 -m venv venv\n",
        "```\n",
        "esto generará un directorio, de aproximadamente 20MB con los archivos necesarios para simular una instalación limpia de python, solamente con los paquetes pip y setuptools.\n",
        "\n",
        "Para activar el entorno se usa un script **activate** provisto en el directorio **venv/bin**\n",
        "\n",
        "```shell\n",
        "# MacOS or linux\n",
        "source venv/bin/activate\n",
        "# O el equivalente\n",
        ". venv/bin/activate\n",
        "\n",
        "# Windows\n",
        "venv\\Scripts\\activate.bat\n",
        "```\n",
        "\n",
        "Una vez activado se verá el nombre del entorno entre paréntesis en el prompt del shell y en caso de usar los comando **python** y **pip** serán los del entorno virtual\n",
        "\n",
        "```console\n",
        "(venv) ~/proyectos/mi-app$ python --version\n",
        "Python 3.10.11\n",
        "\n",
        "(venv) ~/proyectos/mi-app$ pip list\n",
        "Package    Version\n",
        "---------- -------\n",
        "pip        23.2.1\n",
        "setuptools 65.5.0\n",
        "```\n",
        "\n",
        "Si se utilza **pip** los paquetes se instalarán en el entorno, se instalan en **venv/lib/python3.10/site-packages/** quedando ahi los fuentes (o binarios). Se pueden aprovechar los fuentes para debugguear, o incluso modificarlos temporalmente (tiene que quedar claro que esa modificación solo será válida en este entorno, y se perderá al hacer un nuevo pip install)\n",
        "\n",
        "Para desactivar el entorno tan solo se tiene que usar el script **deactivate**\n",
        "\n",
        "```console\n",
        "(venv) ~/proyectos/miapp$ deactivate\n",
        "```"
      ],
      "metadata": {
        "id": "ATcPxYePDA9X"
      }
    },
    {
      "cell_type": "markdown",
      "source": [
        "## requirements.txt / lock file\n",
        "\n",
        "Como forma de trabajo standard, se suele dejar un archivo llamado requirements.txt en el git que contiene lo necesario para saber que es necesario instalar para poder correr la aplicación\n",
        "\n",
        "### lock\n",
        "\n",
        "Existen igualmente dos conceptos genéricos de archivos de requerimientos, uno es el que contiene los requerimientos minimales que vamos a usar, por ejemplo **libreria>=3.9** o que son laxos con las versiones menores o parches ejemplo **otra-lib~=3.4.5** y solo contienen las dependencias directas de nuestra aplicacion (o a lo sumo fija una subdependencia por problemas de compatibilidad) y el otro concepto es el de lock de requerimientos, y esto es un listado completo de los requerimientos y sus subdependencias en una versión exacta (generada por ejemplo por un **pip freeze**) la ventaja de esto es que podemos estar seguro que lo que subimos a produccion y a ambientes intermedios contienen exactamente las mismas librerias en las mismas versiones para evitar posibilidad de problemas que solo se producen en algunos ambientes.\n",
        "\n",
        "No existe un standard de como organizarse con estos conceptos, algunos nombran al requerimiento laxo **requirements.in** y al lock **requirements.txt** y otros nombran **requirements.txt** al laxo y **requirements.lock.txt** al lock\n",
        "\n",
        "### desarrollo\n",
        "\n",
        "Tambien es util separar los requerimientos de producción y los requerimientos de desarrollo de tal manera que no se va a llevar a produccion decenas de librerías que no se utilizan, para eso se suele hacer un archivo llamado **requirements-dev.txt** con los paquetes de testing, coverage, tox, linters y similares.\n",
        "\n",
        "### Pipenv / Poetry / Pyenv\n",
        "\n",
        "Existen otros paquetes mas avanzados de gestionar entornos y requerimientos (principalmente Pipenv que lo usamos en muchos proyectos y Poetry que se está volviendo en un standard de adopción) pero excede esta clase el uso de estos paquetes.\n",
        "\n",
        "De la misma manera, Pyenv es un script que permite gestionar la convivencia de varias versiones de python en una computadora, pero tambien excede el contenido de esta clase la forma de uso de esta herramienta."
      ],
      "metadata": {
        "id": "NwVu7ywNUWPy"
      }
    },
    {
      "cell_type": "markdown",
      "source": [
        "# Django\n",
        "\n",
        "Django es una librería de trabajo para desarrollo de aplicaciones web de alto nivel escrito en Python que fomenta el desarrollo rápido y un diseño limpio y pragmático. Django se utiliza para crearAPIs,  aplicaciones web y sitios web de manera eficiente y escalable.\n",
        "\n",
        "Fue creado para ayudar a los desarrolladores a construir aplicaciones web complejas rápidamente, teniendo en cuenta la reutilización de código. Se basa en el principio DRY (Don’t Repeat Yourself), lo que significa que los desarrolladores pueden escribir su código una vez y reutilizarlo en diferentes partes de la aplicación.\n"
      ],
      "metadata": {
        "id": "E3FEpPEdlRba"
      }
    },
    {
      "cell_type": "markdown",
      "source": [
        "## Principales características\n",
        "\n",
        "+ **ORM (Object-Relational Mapping)**: Django proporciona un ORM que permite a los desarrolladores interactuar con la base de datos utilizando objetos Python en lugar de escribir consultas SQL directamente. Lo que permite abstraerse completamente del motor utilizado, y poder cambiar de motor con muy bajo esfuerzo\n",
        "\n",
        "+ **Sistema de plantillas**: Django tiene un sistema de plantillas que permite a los desarrolladores crear páginas web dinámicas utilizando HTML y Python.\n",
        "\n",
        "+ **Autenticación y autorización**: Django proporciona un sistema de autenticación y autorización incorporado que facilita la gestión de usuarios, permisos y grupos.\n",
        "\n",
        "+ **Administrador de Django**: Django incluye un administrador web preconstruido que permite a los desarrolladores gestionar fácilmente los datos del sitio web sin tener que escribir código adicional.\n",
        "\n",
        "+ **Enrutamiento URL**: Django tiene un sistema de enrutamiento URL que permite a los desarrolladores definir cómo se deben manejar las solicitudes HTTP para diferentes rutas URL.\n",
        "\n",
        "+ **Seguridad**: Django incluye características de seguridad incorporadas, como protección contra ataques CSRF (Cross-Site Request Forgery) y XSS (Cross-Site Scripting).\n",
        "\n",
        "+ **Middleware**: el procesamiento de solicitudes (request / response) tiene posibilidad de ser interceptado a través de los middleware. Es un sistema de “plugin” ligero y de bajo nivel para alterar globalmente la entrada o salida de Django. gracias a esto cada middleware puede realizar una función específica, y de esta manera se puede simplificar la autenticacion, el control de CSRF, o todo lo que quiera hacerse interseptando un request/response.\n"
      ],
      "metadata": {
        "id": "IICBoRcHqR0a"
      }
    },
    {
      "cell_type": "markdown",
      "source": [
        "## Arquitectura MVT(U)\n",
        "\n",
        "### Modelo MVC\n",
        "\n",
        "La mayoría de los framework de desarrollo web (Laravel, ASP-Net, Spring) responden al patrón de diseño MVC (Model View Controller)\n",
        "\n",
        "![Model-View-Controller](https://raw.githubusercontent.com/qsebas/clases-python/main/clases/img/mvc.png)\n",
        "\n",
        "Ese modelo se puede resumir en separar una aplicación en 3 partes:\n",
        "\n",
        "+ **Modelo (M)**: el modelos es la forma de acceder a los datos, _debería_ encargarse también de la lógica de negocios (aunque muchas veces cae en el controlador)\n",
        "+ **Vista (V)**: tiene como única tarea renderizar la respuesta para el usuario (archivos .cshtml y .cshtml.cs por ejemplo)\n",
        "+ **Controlador (C)**: Es el encargado de registrar el ruteo de URLS, recibir las peticiones (requests) obtener los datos en el modelo, y enviar a la vista los datos, para que le renderice al usuario.\n",
        "\n",
        "### Modelo MVT\n",
        "\n",
        "Django tiene una sutil variación de este modelo comunmente llamada MVT o Model - View -Template, algunos le agregan la U de Url.\n",
        "\n",
        "![Model-View-Template](https://raw.githubusercontent.com/qsebas/clases-python/main/clases/img/MVT.png)\n",
        "\n",
        "\n",
        "+ **Modelo (M)**: el modelos es la forma de acceder a los datos, _debería_ encargarse también de la lógica de negocios (aunque muchas veces cae en la vista)\n",
        "+ **Vista (V)**: tiene como tarea recibir los requests HTTP y hacer las peticiones de datos al modelo, y luego devolver una respuesta (previamente pasando por el Template de ser necesario). Se parece más a las tareas del \"Controlador\" del modelo MVC\n",
        "\n",
        "+ **Template (T)**: Es el encargado de producir código html a partir de los datos devueltos por la vista y una plantilla que sabe trabajar con objetos de python (datos), bloques de control (if / for loop), llamada a funciones de python (tags). Es más parecido a las tareas de la \"Vista\" del modelo MVC\n",
        "\n",
        "+ **URL (U)**: En django el módulo de ruteo de urls está completamente desacoplado y lo que hace es hacer un mapeo entre las URLs (y sus parámetros) y las vistas que las atienden\n",
        "\n",
        "\n"
      ],
      "metadata": {
        "id": "k3AVRVvWePSC"
      }
    },
    {
      "cell_type": "markdown",
      "source": [
        "## Creación de proyecto / Hello World\n",
        "\n",
        "A modo introductorio vamos a crear un proyecto de cero, y vamos a redireccionar el ruteo para que la url **/hello** responda un **\"hello horld\"**"
      ],
      "metadata": {
        "id": "xiHWF6W1ZTaQ"
      }
    },
    {
      "cell_type": "markdown",
      "source": [
        "### Creación del proyecto\n",
        "\n",
        "1. Primero crearemos un directorio donde se alojen todos los archivos del proyecto\n",
        "```shell\n",
        "mkdir django-hello\n",
        "cd django-hello\n",
        "```\n",
        "<br>\n",
        "1. Luego crearemos un entorno virtual para ese proyecto\n",
        "```shell\n",
        "python -m venv venv\n",
        ". venv/bin/activate\n",
        "```\n",
        "recordar que en windows es:\n",
        "```shell\n",
        "python -m venv venv\n",
        "venv/Scripts/activate.bat\n",
        "```\n",
        "<br>\n",
        "1. Luego instalaremos el paquete django\n",
        "```shell\n",
        "pip install django\n",
        "```\n",
        "<br>\n",
        "1. El paso siguiente es crear el \"sitio\" o el \"proyecto\" (conjunto de apps) (notar que aqui ya no se pueden utilizar guiones medios)\n",
        "```shell\n",
        "django-admin startproject django_hello .\n",
        "```\n",
        "esto creará la siguiente estructura:\n",
        "```\n",
        "├── django_hello\n",
        "│   ├── __init__.py\n",
        "|   ├── asgi.py\n",
        "│   ├── settings.py\n",
        "│   ├── urls.py\n",
        "│   └── wsgi.py\n",
        "├── manage.py\n",
        "└── venv/\n",
        "```\n",
        "Notar que el último parámetro (.) hizo que se cree en el directorio actual directamente, se podría haber puesto otro directorio (por ejemplo **src** en cuyo caso habría un directorio src que contiene tanto a django_hello como al archivo manage.py, o de no ponerse el parámetro crea un directorio con el mismo nombre que contiene todo)\n",
        "<br>\n",
        "<br>\n",
        "1. Ya podemos verificar que el proyecto funcione correctamente y ejecutaremos:\n",
        "```shell\n",
        "./manage.py runserver\n",
        "```\n",
        "(notar que nos muestra el siguiente error en consola):\n",
        "> You have 18 unapplied migration(s). Your project may not work properly until you apply the migrations for app(s): admin, auth, contenttypes, sessions.\n",
        ">\n",
        "> Run 'python manage.py migrate' to apply them.\n",
        ">\n",
        "por ahora podemos ignorarlo\n",
        "<br>\n",
        "<br>\n",
        "1. Abrir un navegador en la url\n",
        "```\n",
        "http://localhost:8000/\n",
        "```\n",
        "Y podremos ver una pantalla de bienvenida\n",
        "![Django Welcome](https://raw.githubusercontent.com/qsebas/clases-python/main/clases/img/django_welcome.png)\n"
      ],
      "metadata": {
        "id": "oMzKbNFLy_uy"
      }
    },
    {
      "cell_type": "markdown",
      "source": [
        "### manage.py runserver\n",
        "\n",
        "runserver es un servidor multithread de aplicaciones ultra liviano, solo pensado para debug y desarrollo y jamás debe ser utilizado para producción (es lento, no tiene en mente cuestiones de seguridad)\n",
        "\n",
        "se puede correr en otro puerto de ser necesario\n",
        "\n",
        "```shell\n",
        "manage.py runserver 8080\n",
        "```"
      ],
      "metadata": {
        "id": "VFjjpsRk_bHu"
      }
    },
    {
      "cell_type": "markdown",
      "source": [
        "### Crear App - diferencia Proyecto - App\n",
        "\n",
        "Si queremos responder el **/hello** podríamos simplemente en el archivo **django_hello/urls.py** agregar una regla que atienda esa url, y redireccione a un método escrito en ese mismo módulo que devuelva el mensaje, pero estaríamos mezclando los conceptos de URL y Vista del MVT y los conceptos de \"proyecto\" y \"app\".\n",
        "\n",
        "el proyecto es el directorio creado contiene los siguientes archivos:\n",
        "+ **\\_\\_init__.py:** archivo vacío que le indica a python que ese directorio contiene un paquete\n",
        "+ **asgi.py:** expone la configuracion ASGI para levantar el servicio asincrónico\n",
        "+ **settings.py:** archivo de settings del proyecto, contiene muchisimas cosas, como el lenguaje de la aplicación (español, inglés), la conexión a la base de datos y toda la configuración necesaria\n",
        "+ **urls.py:** archivo principal de ruteo del proyecto, puede incluir varios urls.py de distintas sub aplicaciones\n",
        "+ **wsgi.py:** expone la configuracion WSGI para levantar el servicio sincrónico\n",
        "\n",
        "En el proyecto no deberíamos poner modelos, vistas o templates, eso es justamente lo que van a hacer las Apps. Un proyecto puede contener varias Apps, que van subdivir el alcance del sitio en conjuntos de funcionalidades con alta cohesión.\n",
        "\n",
        "Vamos a crear una App llamada **hello**, para eso iremos al directorio raiz del proyecto y pondremos:\n",
        "\n",
        "```shell\n",
        "./manage.py startapp hello\n",
        "```\n",
        "\n",
        "eso generará un nuevo directorio hello:\n",
        "```\n",
        "├── django_hello\n",
        "│   ├── __init__.py\n",
        "|   ├── asgi.py\n",
        "│   ├── settings.py\n",
        "│   ├── urls.py\n",
        "│   └── wsgi.py\n",
        "├── hello\n",
        "|   ├── migrations\n",
        "|   |   └── __init__.py\n",
        "│   ├── __init__.py\n",
        "|   ├── apps.py\n",
        "│   ├── admin.py\n",
        "│   ├── models.py\n",
        "│   ├── tests.py\n",
        "│   └── views.py\n",
        "├── manage.py\n",
        "└── venv/\n",
        "```\n",
        "\n",
        "con los siguientes archivos:\n",
        "+ **apps.py:** archivo de entrada de la aplicación\n",
        "+ **admin.py:** acá se configura las ventanas de administración de los modelos de la aplicación\n",
        "+ **models.py:** acá se definen los modelos (ORM) y las reglas de negocio de la app\n",
        "+ **tests.py:** acá van los tests de la app\n",
        "+ **views.py:** acá van las vistas invocadas desde el **urls.py**\n"
      ],
      "metadata": {
        "id": "nV3miP4HjJVE"
      }
    },
    {
      "cell_type": "markdown",
      "source": [
        "### Agregar vista y ruteo en urls\n",
        "\n",
        "Modifiquemos el archivo **hello/views.py**\n",
        "\n",
        "```python\n",
        "from django.http import HttpResponse\n",
        "\n",
        "\n",
        "def hello_world(request):\n",
        "    return HttpResponse(\"Hello, world\")\n",
        "```\n",
        "\n",
        "y agreguemos la regla de ruteo en **hello/urls.py**\n",
        "\n",
        "```python\n",
        "from django.contrib import admin\n",
        "from django.urls import path\n",
        "from hello.views import hello_world  # agregar\n",
        "\n",
        "urlpatterns = [\n",
        "    path('admin/', admin.site.urls),\n",
        "    path('hello', hello_world),  # agregar\n",
        "]\n",
        "```\n",
        "\n",
        "Ya podemos levantar nuevamente el server\n",
        "\n",
        "```shell\n",
        "./manage.py runserver\n",
        "```\n",
        "\n",
        "y al fin podemos llamar a la url /hello\n",
        "\n",
        "    http://localhost:8000/hello\n",
        "\n",
        "y ver como resultado el hello world\n"
      ],
      "metadata": {
        "id": "ZQfbQzuA2rA9"
      }
    },
    {
      "cell_type": "markdown",
      "source": [
        "### Migraciones\n",
        "\n",
        "volvamos al error que nos muestra al arrancar el runserver\n",
        "\n",
        "> You have 18 unapplied migration(s). Your project may not work properly until you apply the migrations for app(s): admin, auth, contenttypes, sessions.\n",
        ">\n",
        "\n",
        "Nos está diciendo que a nuestra base de datos le falta correr actualizaciones de los modelos. Técnicamente nuestra base está vacía (y es un sqlite, ver configuración en django_hello/settings.py), se preguntarán a que modelos se refiere si no hemos definido ningunos, se refiere a los básicos de django que incluyen los que representan a los usuarios, las sesiones y otros propios de django.\n",
        "\n",
        "Si fueramos a la url\n",
        "\n",
        "    http://localhost:8000/admin\n",
        "\n",
        "(ver en el archivo urls.py que está definida) nos muestra una ventana de login, porque para acceder ahí hay que estar logueado, pero si ponemos un usuario y un password, da un error:\n",
        "\n",
        "![Error Migraciones](https://raw.githubusercontent.com/qsebas/clases-python/main/clases/img/error_migraciones.png)\n",
        "\n",
        "donde dice que la tabla auth_user (que almacena los usuarios de sistema) no existe.\n",
        "\n",
        "Lo que vamos a hacer es actualizar la base de datos con el comando:\n",
        "\n",
        "```shell\n",
        "./manage.py migrate\n",
        "```\n",
        "\n",
        "y veremos las siguientes lineas mostrándonos que la migración se realizó con éxito\n",
        "\n",
        "<pre><span><b>Operations to perform:</b></span>\n",
        "<b>  Apply all migrations: </b>admin, auth, contenttypes, sessions\n",
        "<b>Running migrations:</b>\n",
        "  Applying contenttypes.0001_initial...<b> OK</b>\n",
        "  Applying auth.0001_initial...<b> OK</b>\n",
        "  Applying admin.0001_initial...<b> OK</b>\n",
        "  Applying admin.0002_logentry_remove_auto_add...<b> OK</b>\n",
        "  Applying admin.0003_logentry_add_action_flag_choices...<b> OK</b>\n",
        "  Applying contenttypes.0002_remove_content_type_name...<b> OK</b>\n",
        "  Applying auth.0002_alter_permission_name_max_length...<b> OK</b>\n",
        "  Applying auth.0003_alter_user_email_max_length...<b> OK</b>\n",
        "  Applying auth.0004_alter_user_username_opts...<b> OK</b>\n",
        "  Applying auth.0005_alter_user_last_login_null...<b> OK</b>\n",
        "  Applying auth.0006_require_contenttypes_0002.. <b> OK</b>\n",
        "  Applying auth.0007_alter_validators_add_error_messages...<b> OK</b>\n",
        "  Applying auth.0008_alter_user_username_max_length...<b> OK</b>\n",
        "  Applying auth.0009_alter_user_last_name_max_length...<b> OK</b>\n",
        "  Applying auth.0010_alter_group_name_max_length...<b> OK</b>\n",
        "  Applying auth.0011_update_proxy_permissions...<b> OK</b>\n",
        "  Applying auth.0012_alter_user_first_name_max_length...<b> OK</b>\n",
        "  Applying sessions.0001_initial...<b> OK</b></pre>\n",
        "\n",
        "  Una vez hecho esto podremos  cargar nuevamente el runserver e intentar loguearnos, pero esta vez veremos que no podemos loguearnos, porque no existe ningun usuario, pero el error de que la tabla no existía ya no está"
      ],
      "metadata": {
        "id": "4G2-5tefAbNg"
      }
    },
    {
      "cell_type": "markdown",
      "source": [
        "### Crear el primer super-usuario\n",
        "\n",
        "Necesitamos el primer superusuario (con permiso para ejecutar todo) porque el se podrá loguear y desde allí se podrán crear otros usuarios.\n",
        "\n",
        "Para crearlo se crea con:\n",
        "\n",
        "```shell\n",
        "./manage.py createsuperuser\n",
        "```\n",
        "y nos pedirá el username y password ademas de otros datos personales que pueden quedar en blanco\n",
        "\n",
        "una vez agregado el usuario, podemos correr el runserver, y loguearnos con ese usuario, y llegaremos al sistema de administración de nuestro sitio con (por ahora) ABMs de **usuario** y **grupo** para gestionar la autenticación y la autorización.\n",
        "\n",
        "![Django Admin Migraciones](https://raw.githubusercontent.com/qsebas/clases-python/main/clases/img/django_admin1.png)"
      ],
      "metadata": {
        "id": "-984eRuXGiQS"
      }
    }
  ]
}