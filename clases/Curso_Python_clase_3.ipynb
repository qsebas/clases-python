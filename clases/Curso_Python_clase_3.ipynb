{
  "nbformat": 4,
  "nbformat_minor": 0,
  "metadata": {
    "colab": {
      "provenance": [],
      "toc_visible": true,
      "authorship_tag": "ABX9TyNC1uWhBHN0P6apFt8jXqzc",
      "include_colab_link": true
    },
    "kernelspec": {
      "name": "python3",
      "display_name": "Python 3"
    },
    "language_info": {
      "name": "python"
    }
  },
  "cells": [
    {
      "cell_type": "markdown",
      "metadata": {
        "id": "view-in-github",
        "colab_type": "text"
      },
      "source": [
        "<a href=\"https://colab.research.google.com/github/qsebas/clases-python/blob/main/clases/Curso_Python_clase_3.ipynb\" target=\"_parent\"><img src=\"https://colab.research.google.com/assets/colab-badge.svg\" alt=\"Open In Colab\"/></a>"
      ]
    },
    {
      "cell_type": "markdown",
      "source": [
        "# Agregado a la clase pasada\n",
        "\n",
        "* En los ciclos se puede usar el comando break para cortarlos, el ciclo completo se termina.\n",
        "\n",
        "```python\n",
        "for i in range(100):\n",
        "  if i == 5:\n",
        "    break\n",
        "  print(i)\n",
        "\n",
        "```\n",
        "\n",
        "este ciclo se cortará cuando i sea 5 por lo tanto imprime numeros de 0 a 4\n",
        "\n",
        "\n",
        "* En los ciclos se puede usar el comando continue para cortar solo esa iteración del ciclo pero continuar a partir de la siguiente\n",
        "\n",
        "```python\n",
        "for i in range(10):\n",
        "  if i == 3:\n",
        "    continue\n",
        "  print(i)\n",
        "```\n",
        "\n",
        "este ciclo se cortará en la iteración 3 por lo tanto imprime numeros de 0 a 9 pero sin imprimir el 3 \n",
        "\n",
        "* ambos comandos se pueden usar en un while de la misma manera\n"
      ],
      "metadata": {
        "id": "LO9DYvMFgX4T"
      }
    },
    {
      "cell_type": "code",
      "source": [
        "for i in range(100):\n",
        "  if i == 5:\n",
        "    break\n",
        "  print(i)\n",
        "\n",
        "print()\n",
        "\n",
        "for i in range(10):\n",
        "  if i == 3:\n",
        "    continue\n",
        "  print(i)\n"
      ],
      "metadata": {
        "id": "sp0YUaCHjLj6"
      },
      "execution_count": null,
      "outputs": []
    },
    {
      "cell_type": "markdown",
      "source": [
        "# Control de flujo, manejo de excepciones\n",
        "\n",
        "En python se pueden manejar las excepciones con el bloque de código\n",
        "\n",
        "```python\n",
        "try\n",
        "  sentencia_1\n",
        "  sentencia_2\n",
        "except:\n",
        "  sentencia_except_1\n",
        "  sentencia_except_2\n",
        "```\n",
        "\n",
        "se ejecutarán todas las sentencias dentro del bloque **try**, en caso de haber una excepción durante el código, se ejecuta lo que está definido en el bloque **except**, que si este bloque a su vez no dispara otra excepción (o la misma) simplemente la ejecución continúa.\n",
        "\n"
      ],
      "metadata": {
        "id": "6MjIV8ApbUQr"
      }
    },
    {
      "cell_type": "markdown",
      "source": [
        "### Restringir la excepción\n",
        "\n",
        "Se puede definir que un bloque de excepción solo atrape un tipo de excpeción (o subclase), y se pueden combinar\n",
        "\n",
        "```python\n",
        "try\n",
        "  sentencia_1\n",
        "  sentencia_2\n",
        "except ValidationError:\n",
        "  validation_1  # Este código solo se ejecuta si salta una ValidationError\n",
        "except TypeError:\n",
        "  type_1  # Este código solo se ejecuta si salta un TypeError\n",
        "except:\n",
        "  cualquier_otra_1  # esto se ejecuta en caso de que salte otra excepcion que no sea las anteriores\n",
        "```\n",
        "\n",
        "No es obligatorio atrapar todas las excepciones posibles, por ejemplo\n",
        "\n",
        "```python\n",
        "try\n",
        "  sentencia_1\n",
        "  sentencia_2\n",
        "except ValidationError:\n",
        "  validation_1  # Este código solo se ejecuta si salta una ValidationError\n",
        "sentencia_post_1\n",
        "```\n",
        "\n",
        "En este caso, si el error es de tipo ValidationError, el código ejecutará la sentencia validation_1 y seguirá normalmente con la sentencia_post_1\n",
        "\n",
        "En cambio si el error es de cualquier otro tipo, se cortará la ejecución completa de la función en la que estamos y se propagará hacia la funcion que nos invocó para ver si es atrapada o no\n",
        "\n",
        "En caso de que nadie la atrape, la ejecución del programa se termina.\n",
        "\n"
      ],
      "metadata": {
        "id": "Ct_ixYyjAP6t"
      }
    },
    {
      "cell_type": "markdown",
      "source": [
        "### Disparar una Excepción\n",
        "\n",
        "la instrucción para disparar una excepción es raise. Si estoy dentro de un bloque except, el comando **raise** solo dispara la misma excepción que fue atrapada.\n",
        "\n",
        "```python\n",
        "try:\n",
        "  sentencia_1\n",
        "  sentencia_2\n",
        "except:\n",
        "  logger.warn(\"hubo excepción\")\n",
        "  raise\n",
        "```\n",
        "\n",
        "También puedo utilizar raise para cambiar el tipo de excpeción en un except, tengo que construir la excepción utlizando los paréntesis\n",
        "\n",
        "```python\n",
        "class MyOwnException(Exception):\n",
        "  pass\n",
        "\n",
        "try:\n",
        "  sentencia_1\n",
        "  sentencia_2\n",
        "except ValidationError:\n",
        "  logger.warn(\"hubo excepción\")\n",
        "  raise MyOwnException(\"esto es un error\")\n",
        "```\n",
        "\n",
        "No es necesario estar dentro de un bloque except para invocar la directiva **raise**\n",
        "\n",
        "Por ejemplo, en el siguiente código si p vale 0 se dispara la excepción cortando la ejecución de la llamada de la función actual y propagando la excepción hacia las llamadas anteriores con la esperanza de ser aptrapada.\n",
        "\n",
        "```python\n",
        "if p == 0:\n",
        "  raise MyOwnException(\"esto es un error\")\n",
        "```\n",
        "\n"
      ],
      "metadata": {
        "id": "mizbY51fAWFO"
      }
    },
    {
      "cell_type": "code",
      "source": [
        "try:\n",
        "  a = 4 / 0 \n",
        "except Exception as ex:\n",
        "  print(f\"se disparo el error: {ex}\")\n",
        "  #al no tener raise sigue con la ejecución\n",
        "\n",
        "try:\n",
        "  a = 4 / 0 \n",
        "except Exception as ex:\n",
        "  print(f\"se disparo el error: {ex}\")\n",
        "  raise"
      ],
      "metadata": {
        "id": "BZpu8eRAA4cr"
      },
      "execution_count": null,
      "outputs": []
    },
    {
      "cell_type": "markdown",
      "source": [
        "### Nombrar la excepción\n",
        "\n",
        "En un bloque except se puede utilizar la directiva **as** para ponerle nombre a la excpeción (asignarla a un variable), para hacer algo con ella en el bloque.\n",
        "\n",
        "```python\n",
        "try:\n",
        "  sentencia_1\n",
        "  sentencia_2\n",
        "except ValidationError as ex:\n",
        "  enviar_kibana(ex.__traceback__)\n",
        "```\n",
        "o se podría invocarla de todas maneras, luego de hacer algo\n",
        "\n",
        "```python\n",
        "try:\n",
        "  sentencia_1\n",
        "  sentencia_2\n",
        "except ValidationError as ex:\n",
        "  enviar_kibana(ex)\n",
        "  raise ex\n",
        "```\n",
        "\n",
        "No se puede utilizar **as** si no se instancia una clase de excepción, este código no es válido\n",
        "\n",
        "```python\n",
        "try:\n",
        "  sentencia_1\n",
        "  sentencia_2\n",
        "except as ex: # No es valido\n",
        "  enviar_kibana(ex)\n",
        "```\n",
        "\n",
        "Pero se puede usar la clase Exception como la clase madre de todas las excepciones\n",
        "\n",
        "```python\n",
        "try:\n",
        "  sentencia_1\n",
        "  sentencia_2\n",
        "except Exception as ex:\n",
        "  enviar_kibana(ex)\n",
        "```\n",
        "\n"
      ],
      "metadata": {
        "id": "1pKlr8EwAbQs"
      }
    },
    {
      "cell_type": "markdown",
      "source": [
        "### bloque finally\n",
        "\n",
        "Existe el bloque finally que se ejecuta tanto si no se dispara ninguna excepción, como si se dispara una excepción (antes de la propagación). Es útil para la liberación de recursos tomados en el bloque try.\n",
        "\n",
        "por ejemplo si abrimos un archivo, deberíamos cerrarlo siempre.\n",
        "\n",
        "```python\n",
        "f = open(\"demofile.txt\")\n",
        "try:\n",
        "  f.write(\"Lorum Ipsum\")\n",
        "except:\n",
        "  print(\"hubo un error escribiendo el archivo\")\n",
        "finally:\n",
        "  f.close()\n",
        "```\n",
        "\n",
        "En el código anterior, tanto si no se dispara la excepción como si se dispara el codigo del finally se ejecuta. Pero como el raise a su vez no dispara nada podria escribirse asi, y sería lo mismo:\n",
        "\n",
        "```python\n",
        "f = open(\"demofile.txt\")\n",
        "try:\n",
        "  f.write(\"Lorum Ipsum\")\n",
        "except:\n",
        "  print(\"hubo un error escribiendo el archivo\")\n",
        "f.close()\n",
        "```\n",
        "\n",
        "Ahora en caso de que el bloque except también dispare una excepción ese f.close() no se ejecutaría, ahi es donde el finally interviene\n",
        "\n",
        "```python\n",
        "f = open(\"demofile.txt\")\n",
        "try:\n",
        "  f.write(\"Lorum Ipsum\")\n",
        "except:\n",
        "  print(\"hubo un error escribiendo el archivo\")\n",
        "  raise\n",
        "finally:\n",
        "  f.close()\n",
        "```\n",
        "En este caso tanto si la operación termina como si se dispara la excepción, se ejecutará el f.close() antes de continuar con el códgio siguiente (lo que viene despeus del try-except en caso de que no salta la excepción y la propagación de la excepcion en caso de haberla).\n",
        "\n",
        "Esta manera de programar las liberaciones de recursos tomados en caso de excepción no es la mas habitual ya que se suele usar el concepto de **contexto** (directiva **with**) que es mucho mas claro visualmente, lo veremos más adelante\n"
      ],
      "metadata": {
        "id": "pqZTriK4AehE"
      }
    },
    {
      "cell_type": "code",
      "source": [],
      "metadata": {
        "id": "-T2BkbnWn0eO"
      },
      "execution_count": null,
      "outputs": []
    },
    {
      "cell_type": "markdown",
      "source": [
        "# Intérprete Python\n",
        "\n",
        "### Instalación\n",
        "\n",
        "#### Ubuntu\n",
        "\n",
        "En Ubuntu python ya viene instalado, cada versión de Ubuntu viene con una versión de python determinada, hay que tratar de no \"hacer lío\" con esta instalación por que puede dejar de andar Ubuntu\n",
        "\n",
        "+ Ubuntu 22.04 y 22.10 vienen con pyhton 3.10\n",
        "+ Ubuntu 21.04 y 21.10 vienen con pyhton 3.9\n",
        "+ Ubuntu 20.04 y 20.10 vienen con pyhton 3.8 y python 2.7\n",
        "\n",
        "se pueden instalar otras versiones ya sea bajando los fuentes y compilando, usando un repositorio PPA o usando alguna herramienta específica como Anaconda o Pyenv, pero por ahora solo usaremos la ya instalada\n",
        "\n",
        "#### Windows\n",
        "\n",
        "En windows se puede tener el linux subsystem WSL y manejarse de la misma manera que en linux, o se puede instalar directamente el python como ejecutable en el windows de diversas maneras:\n",
        "\n",
        "+ Con el [Instalador oficial](https://www.python.org/downloads/windows/)\n",
        "+ Con el repositorio de [Chocolatey](https://community.chocolatey.org/packages/python)\n",
        "+ Bajando los fuentes y compilando\n",
        "+ Usando algún gestionador como Anaconda o Pyenv\n",
        "\n",
        "#### Consideraciones \n",
        "\n",
        "No debería influir demasiado la versión elegida (entre python 3.8 y python 3.12) para el alcance de este curso \n",
        "\n",
        "para ejecutar el intérprete simplemente hay que ejecutar el comando python correspondiente (usando el path absoluto o usando la variable de entorno PATH). Según de donde tome el ejecutable se ejecutará la versión correspondiente, por eso es necesario controlar que python está en el path. Se puede comprobar el correcto funcionamiento y la versión simplemente tipeando\n",
        "\n",
        "```bash\n",
        "python --version\n",
        "```\n",
        "\n",
        "si se ejecuta el comando python, se entra en un interprete donde se pueden ejecutar comandos python directamente. Para salir del comando hay que presionar ctrl-D o escribir exit()\n",
        "\n",
        "\n"
      ],
      "metadata": {
        "id": "DCk-hxF-iqhU"
      }
    },
    {
      "cell_type": "markdown",
      "source": [
        "# Módulos y Paquetes\n",
        "\n",
        "Un concepto de programación extremadament útil es la **programación modular** que consiste en separar nuestro código en pequeños módulos para mantener:\n",
        "+ _Simplicidad_: si cada módulo mantiene solo una tarea específica pequeña y concreta, se puede trabajar enfocando en resolver problemas mas pequeños y simple.\n",
        "+ _Mantenimiento_: si el dominio de mi problema esta divido por modulos que tienen cada uno baja cohesión con el resto del dominio, se pueden hacer modificaciones al código (bugs, features o refactors) sin que tengan un impacto en todo el sistema\n",
        "+ _Reusabilidad_ la división modular ayuda a poder reusar código en un proyecto o incluso entre proyectos\n",
        "+ _Scoping_ gracias a esta división se permiten reutilizacion de nombres de variables y funciones, pero por el hecho de venir de diferentes namespaces no se provocan confusiones.\n",
        "\n"
      ],
      "metadata": {
        "id": "O2ZoeytwGaWs"
      }
    },
    {
      "cell_type": "markdown",
      "source": [
        "### Módulos (modules)\n",
        "\n",
        "Un archivo de python (con extesión .py) utilizado para agrupar y organizar código relacionado, se lo denomina módulo.\n",
        "\n",
        "#### Ejecutar un módulo\n",
        "\n",
        "Supongamos que tenemos un archivo hola.py con el siguiente código:\n",
        "\n",
        "```python\n",
        "print(\"hola mundo\")\n",
        "```\n",
        "\n",
        "existen varias maneras de ejecutar ese módulo, la primera es simplemente correr python y el nombre del archivo\n",
        "\n",
        "```bash\n",
        "python hola.py \n",
        "```\n",
        "\n",
        "o invocando el archivo de manera absoluta\n",
        "\n",
        "```bash\n",
        "python /path/to/file/hola.py \n",
        "```\n",
        "también se puede inocar el módulo usando la directiva -m y no utilizando .py, acá no se pone el nombre del archivo, sino el nombre del módulo, que lo buscará primero en el directorio donde estamos parados, y de no encontrarlo ahi lo busca en los repositorios internos de librerías. De esta manera se puede ejecutar un módulo de python propiamente dicho, sin conocer su ubicación\n",
        "\n",
        "Por ejemplo para ejecutar nuestro módulo:\n",
        "```bash\n",
        "python -m hola \n",
        "```\n",
        "\n",
        "Y para invocar el módulo venv para crear entornos virtuales (más adelante veremos que es) se puede utilizar\n",
        "\n",
        "```bash\n",
        "python -m venv -h\n",
        "```\n",
        "\n"
      ],
      "metadata": {
        "id": "07Y319laBXIL"
      }
    },
    {
      "cell_type": "markdown",
      "source": [
        "### Paquetes (packages)\n",
        "\n",
        "Los paquetes nos permiten ordenar y jerarquizar nuestros módulos con la notación de puntos, por ejemplo **django.tests** conforma todo el código específico de testsing unitarios para Django y **django.db** todo lo referido a la persistencia de los modelos (ORM)\n",
        "\n",
        "Físicamente un paquete no es más que un directorio dentro del sistema operativo, y el subarbol de direcotrios se corresponden a la jerarquia de paquetes, por ejemplo los directorios django/db/models corresponden a los paquetes django.db.models\n",
        "\n",
        "Para que sea un paquete además es necesario que exista un archivo **\\_\\_init\\_\\_.py** en el directorio (aunque sea un archivo vacío, sin texto). Omitir el archivo, puede a veces generar problemas, pero en ciertas ocaciones funciona. La regla general es que siempre se debe poner el archivo **\\_\\_init\\_\\_.py** salvo en los casos que hubiera una gerarquia previa que queremos compartir entre varios proyectos (generalmente el nombre de la empresa, o el de un paquete que se subdivide en varios subroyectos)\n",
        "\n",
        "por ejemplo (en negrita los paquetes que necesitan el __init__.py):\n",
        "\n",
        "un proyecto puede tener:\n",
        "\n",
        "mpf.herramientas_testing.**herramienta_1.models**\n",
        "mpf.herramientas_testing.**herramienta_1.tests**\n",
        "\n",
        "y otro proyecto \n",
        "\n",
        "mpf.herramientas_testing.**herramienta_2.models**\n",
        "mpf.herramientas_testing.**herramienta_2.db**\n",
        "\n",
        "\n",
        "mpf y herramientas_testings no son parte del proyecto, solo sirven para organizar mis paquetes (algo asi como el com.empresa.rubro que se suele poner a los paquetes de Java)\n",
        "\n",
        "para mas información sobre este tema:\n",
        "\n",
        "+ [leer esto](https://12ft.io/proxy?&q=https%3A%2F%2Frealpython.com%2Fpython-modules-packages)\n",
        "+ [o esto](https://12ft.io/proxy?&q=https%3A%2F%2Ftowardsdatascience.com%2Funderstanding-python-imports-init-py-and-pythonpath-once-and-for-all-4c5249ab6355)\n",
        "+ [o el PEP420](https://peps.python.org/pep-0420/) que introduce los \"Namespace Packages\"\n",
        "\n"
      ],
      "metadata": {
        "id": "MH3_9ejGBmzI"
      }
    },
    {
      "cell_type": "markdown",
      "source": [
        "### Recursos exportables\n",
        "\n",
        "En Python no existe el concepto de privado/público todo lo que se define en un módulo pyuede ser importado por otro. Se puede \"señalar\" con un guión bajo o doble guión bajo antes del nombre de la variable o de la función su condición de privada.\n",
        "\n",
        "Se puede usar la función dir para listar todos los recursos de un módulo\n",
        "\n",
        "```python\n",
        "import platform\n",
        "dir(platform)\n",
        "```\n"
      ],
      "metadata": {
        "id": "KHxsieQRMAOS"
      }
    },
    {
      "cell_type": "code",
      "source": [
        "import platform\n",
        "dir(platform)"
      ],
      "metadata": {
        "id": "yviLaIqEOhWu"
      },
      "execution_count": null,
      "outputs": []
    },
    {
      "cell_type": "markdown",
      "source": [
        "### Importar código de otro módulo, directiva **import**\n",
        "\n",
        "Un módulo puede utilizar código definido en otro módulo, para hacerlo se puede importar ya sea tódo el módulo, ya sea algo definido en ese módulo (una variable, una función, una clase)\n",
        "\n",
        "Para importar un módulo (o paquete) completo, se utiliza la directiva **import**, luego para utilizar un recurso se utiliza el nombre calificado del recurso (el nombre del modulo importado junto con un punto y luego nombre del recurso a utilizar)\n",
        "\n",
        "Por ejemplo si tengo la siguiente estructura de directorios:\n",
        "\n",
        "    +--mod1.py\n",
        "    +--utils\n",
        "        +-- __init__.py\n",
        "        +-- helpers.py\n",
        "\n",
        "y helpers define la funcion get_hash()\n",
        "\n",
        "+ Se puede importar todo el módulo helpers, entonces en mod1.py puedo escribir:\n",
        "\n",
        "```python\n",
        "# mod1.py\n",
        "import utils.helpers\n",
        "\n",
        "print(utils.helpers.get_hash())\n",
        "```\n",
        "\n",
        "+ Se puede importar el package utils, pero eso no me importa automaticamente el contenido de helpers, solamente imorta el **\\_\\_init\\_\\_.py** del paquete. Este podría importar a su vez el modulo helpers para que esté disponible si se importa el paquete\n",
        "\n",
        "```python\n",
        "# mod1.py\n",
        "import utils\n",
        "\n",
        "print(utils.helpers.get_hash())  # esto da error por no se importó helpers\n",
        "```\n",
        "\n",
        "ahora si en el init del paquete se importa helpers:\n",
        "\n",
        "```python\n",
        "# utils/__init__.py\n",
        "import utils.helpers  \n",
        "```\n",
        "(suena raro y contra intuitivo pero dentro de utils tengo que importar con el npombre utils)\n",
        "\n",
        "```python\n",
        "# mod1.py\n",
        "import utils\n",
        "\n",
        "print(utils.helpers.get_hash())  # esto funciona\n",
        "```\n",
        "\n"
      ],
      "metadata": {
        "id": "UAW04lU_Btw9"
      }
    },
    {
      "cell_type": "markdown",
      "source": [
        "#### Path de búsqueda de los imports\n",
        "\n",
        "Al hacer un import va a buscar el módulo (o en caso de ser una ruta de paquetes/módulo, el primer paquete) en diversos lugares\n",
        "+ a la par del módulo invocado por python (directorio corriente)\n",
        "+ establecido por la variable de entrorno PYTHONPATH\n",
        "+ directorios predefinidos por la instalacion del python que estamos utilizando (por ejemplo /path/to/python3.10/site-packages) aca se instalan los paquetes de terceros\n",
        "+ entre las librerias estandar de la distribución de python\n",
        "\n",
        "podemos ver el path utilizado para la búsqueda si corremos una consola python y escribimos\n",
        "\n",
        "```python\n",
        "import sys\n",
        "print(sys.path)\n",
        "```\n",
        "\n",
        "\n",
        "    $python\n",
        "    Python 3.10.10 (main, Mar  5 2023, 12:20:53) [GCC 11.3.0] on linux\n",
        "    Type \"help\", \"copyright\", \"credits\" or \"license\" for more information.\n",
        "    >>> import sys\n",
        "    >>> sys.path\n",
        "    ['', '/home/sebas/.pyenv/versions/3.10.10/lib/python310.zip', '/home/sebas/.pyenv/versions/3.10.10/lib/python3.10', '/home/sebas/.pyenv/versions/3.10.10/lib/python3.10/lib-dynload', '/home/sebas/.pyenv/versions/3.10.10/lib/python3.10/site-packages']\n",
        "    >>> \n"
      ],
      "metadata": {
        "id": "Td8q_cYEVO75"
      }
    },
    {
      "cell_type": "markdown",
      "source": [
        "#### Importar un paquete, arhivo **\\_\\_init\\_\\_.py** \n",
        "\n",
        "El archivo **\\_\\_init\\_\\_.py** tiene otra utilidad, contiene el código que se ejecuta si se importa el paquete o incluso puede contener definiciones de funciones, variables y clases que se pueden acceder con por ejemplo mi_paquete. Clase donde esa clase esta definida en el módulo init del paquete \"mi_paquete\" \n",
        "\n",
        "Al importar un módulo se ejecuta todo el código \"suelto\" y se incorporan las definiciones de funciones o classes\n",
        "\n",
        "```python\n",
        "# utils/__init__.py\n",
        "print(\"importando utils\")\n",
        "\n",
        "def func_hello():\n",
        "  return \"hello world\"\n",
        "\n",
        "a = func_hello()\n",
        "\n",
        "class Pepe:\n",
        "  pass\n",
        "```\n",
        "\n",
        "```python\n",
        "# mod1.py\n",
        "import utils\n",
        "\n",
        "print(utils.func_hello())\n",
        "```\n",
        " "
      ],
      "metadata": {
        "id": "ww1foXWEDmdp"
      }
    },
    {
      "cell_type": "markdown",
      "source": [
        "#### Renombre de un import, directiva **as**\n",
        "\n",
        "Se puede renombrar lo que se está importando utilizando el comando **as**.\n",
        "\n",
        "por ejemplo:\n",
        "```python\n",
        "import numpy as np\n",
        "\n",
        "arr = np.array([1, 2, 3, 4, 5])\n",
        "print(arr)\n",
        "```\n"
      ],
      "metadata": {
        "id": "RjguYCWyDy2R"
      }
    },
    {
      "cell_type": "markdown",
      "source": [
        "#### Ubicación del comando import\n",
        "\n",
        "Un comando **import** no necesariamente va arriba de un archivo, puede ir en cualquier momento, incluso dentro del código de una función o dentro de un bloque if o incluso dentro de un try except\n",
        "\n",
        "En caso de ir dentro de una función, solo se ejecutará el import en caso de que la función sea ejecutada, \"liberando\" un poco el tiempo de carga del módulo actual (esto puede ser útil en algunos casos)\n",
        "\n",
        "```python\n",
        "def funcion(x):\n",
        "  import math\n",
        "  return math.factorial(x)\n",
        "```\n",
        "\n",
        "Un ejemplo de import dentro de un bloque if puede ser en caso de que querramos hacer un módulo compatible con distintas versiones de python (o de django por ejemplo) e importar según que versión estamos usando con la ruta correspondiente a la versión\n",
        "\n",
        "```python\n",
        "import sys\n",
        "if sys.version_info <= (2, 7):\n",
        "    import urlib2\n",
        "else:\n",
        "    import urlib.request as urlib2\n",
        "\n",
        "response = urllib2.urlopen('http://python.org/')\n",
        "html = response.read()\n",
        "```\n",
        "notar que para \"unificar\" se renombró el módulo a urlib2\n",
        "\n",
        "esto mimo se puede hacer con un try except\n",
        "\n",
        "```python\n",
        "try:\n",
        "    import urlib2\n",
        "except:\n",
        "    import urlib.request as urlib2\n",
        "```\n",
        "\n",
        "También se puede \"intentar\" importar con try-except, y recordar si se pudo hacerlo\n",
        "\n",
        "```python\n",
        "try:\n",
        "    import django.urls\n",
        "    _has_django = True\n",
        "except:\n",
        "    _has_django = False\n",
        "```\n",
        "\n",
        "Si bien el comando import puede escribirse en cualquier parte de un módulo, no podremos utilizar un recurso antes de importar, por ejemplo, el siguiente código no es válido:\n",
        "\n",
        "```python\n",
        "req = urlib.requests.urlopen(\"http://python.org\")\n",
        "import urlib.requests\n",
        "```\n"
      ],
      "metadata": {
        "id": "_UcHmHVfD7ZA"
      }
    },
    {
      "cell_type": "code",
      "source": [
        "def factor(x):\n",
        "  import math\n",
        "  return math.factorial(x)\n",
        "\n",
        "print(factor(12))"
      ],
      "metadata": {
        "id": "53VDdlAfU9Sx"
      },
      "execution_count": null,
      "outputs": []
    },
    {
      "cell_type": "markdown",
      "source": [
        "### Importación selectiva, directiva **from modulo import recurso**\n",
        "\n",
        "Con la directiva **from nombre.de.modulo import recurso1, recurso2** se pueden importar recursos y luego utilizarlos directamente, sin calificar\n",
        "\n",
        "Por ejemplo si volvemos al módulo mod1 y el paquete utils previamente definido, podríamos importar el método get_hash()\n",
        "\n",
        "```python\n",
        "# mod1.py\n",
        "from utils.helpers import get_hash\n",
        "# dentro del paquete utils, del módulo helpers importar la función get_hash\n",
        "\n",
        "print(get_hash())  # se usa directamente\n",
        "```\n",
        "\n",
        "Todo lo explicado anteriormente para los imports calificados tiene su similitud aqui.\n",
        "+ el path de búsqueda es el mismo\n",
        "+ se pueden escribir en cualquier lado del módulo y una vez que se ejecuta, el recurso está disponible de ai en adelante\n",
        "+ se puede usar as para renombrar el recurso, incluso a veces es necesario cuando se importan recursos con el mismo nombre\n",
        "\n",
        "> por ejemplo\n",
        "\n",
        "```python\n",
        "from django.contrib.auth import User as DjangoUser\n",
        "from alguna_api.dataclasses import User as ApiUser\n",
        "```\n",
        "> de ahi en adelante en el módulo se usarán las clases DjangoUser y ApiUser\n"
      ],
      "metadata": {
        "id": "cEi7dNyGGbG9"
      }
    },
    {
      "cell_type": "markdown",
      "source": [
        "#### Importación selectiva de varios recursos\n",
        "\n",
        "El from-import puede importar varios recursos de un módulo o paquete en la misma línea.\n",
        "\n",
        "```python\n",
        "from math import acos, atan, cos, pi\n",
        "```\n",
        "\n",
        "Si la cantidad de recursos a importar es muy grande, se puede cortar la linea con una contrabarra (\\) (esta forma de cortar una linea se puede usar en otros lados)\n",
        "\n",
        "```python\n",
        "from math import acos, acosh, asin, atan, cos, ceil, \\\n",
        "    comb, copysing, dist, exp, e\n",
        "```\n",
        "\n",
        "También se puede usar una tupla para ordenar una lista grande\n",
        "\n",
        "```python\n",
        "from math import (acos, acosh, asin, atan, cos, ceil, \n",
        "    comb, copysing, dist, exp, e)\n",
        "```\n",
        "\n",
        "o incluso\n",
        "\n",
        "```python\n",
        "from math import (acos, \n",
        "                  acosh, \n",
        "                  asin, \n",
        "                  atan, \n",
        "                  cos, \n",
        "                  ceil, \n",
        "                  comb, \n",
        "                  copysing, \n",
        "                  dist, \n",
        "                  exp, \n",
        "                  e)\n",
        "```\n",
        "\n"
      ],
      "metadata": {
        "id": "rHBMLld8_dxf"
      }
    },
    {
      "cell_type": "code",
      "source": [],
      "metadata": {
        "id": "JlGwRJS58dGr"
      },
      "execution_count": null,
      "outputs": []
    },
    {
      "cell_type": "markdown",
      "source": [
        "#### Imports absolutos o relativos\n",
        "Con la directiva import sin el from, solo se pueden hacer imports absolutos (en realidad siguen siendo relativos al path de busqueda)\n",
        "\n",
        "Pero con el **from xxx import yyyy** se pueden hacer tanto imports absolutos (en realidad siguen siendo relativos al path de busqueda) o para simplificar (aunque no muy recomendado) imports relativos al módulo\n",
        "\n",
        "por ejemplo\n",
        "\n",
        "```python\n",
        "# utils/helpers2.py\n",
        "from utils.helpers import get_hash  # import absoluto\n",
        "from .helpers import get_hash  # import relativo\n",
        "from . import pepe  # import relativo del paquete  \n",
        "```\n",
        "\n",
        "el import relativo solo buscará en el mismo directorio, también se puede usar **..** para buscar en el directorio padre"
      ],
      "metadata": {
        "id": "p_OW7Rwwbuhm"
      }
    },
    {
      "cell_type": "markdown",
      "source": [
        "#### Import *\n",
        "\n",
        "En python existe la directiva\n",
        "\n",
        "```python\n",
        "from path.to.modulo import *\n",
        "```\n",
        "\n",
        "La cual a modo general está desaconsejada para usar. No es lo mismo que hacer \n",
        "\n",
        "```python\n",
        "import path.to.modulo \n",
        "```\n",
        "porque las importaciones del primer caso no quedan calificadas y se pueden usar sin utilización de . en cambio en el segundo caso estamos obligados a usar path.to.modulo.recurso\n",
        "\n",
        "en un módulo se puede definir la variable \\_\\_all\\_\\_ con una lista de strings de recursos a exportar. De existir esa variable un __import *__ sólo importará esos recursos, pero si podre hacer **from modulo import recurso**  de un recurso no presente en \\_\\_all\\_\\_ (aunque muchos linters me avisan de este problema)"
      ],
      "metadata": {
        "id": "SBi5EiDLx_k2"
      }
    },
    {
      "cell_type": "markdown",
      "source": [],
      "metadata": {
        "id": "lLQVMvi0ztfu"
      }
    },
    {
      "cell_type": "markdown",
      "source": [
        "### Buenas prácticas de los imports, PEP8\n",
        "\n",
        "A pesar de que los imports pueden hacerse en cualquier lado, existen buenas prácticas que lo desaconsejan (mayormente establecidas en PEP8)\n",
        "\n",
        "+ Los imports deben hacerse arriba de los módulos, o al principio de las funciones en caso de estar en una función\n",
        "+ Los imports deben ordenarse por grupos\n",
        "\n",
        "  1. Imports de la standard lib\n",
        "  1. Imports de librerás de terceros\n",
        "  1. Imports del desarrollo actual\n",
        "\n",
        "+ Cada grupo debe estar dividido, primero con los imports solo, y luego con los from-imports\n",
        "\n",
        "+ Cada grupo debe estar a su vez ordenado alfabéticamente, y los recursos de un from import también ordenados alfabéticamente\n",
        "\n",
        "+ Debe haber una linea de espacio entre los tres grupos, y en el segundo grupo una linea entre cada librería\n",
        "\n",
        "\n",
        "Nada de todo esto es necesario para que funcione, son sólo recomendaciones. Existen herramientas que ordenan automáticamente los imports para cumplir con esto"
      ],
      "metadata": {
        "id": "t5UwCir1U7Ui"
      }
    },
    {
      "cell_type": "markdown",
      "source": [
        "### Carga de un módulo, ejecución de código\n",
        "\n",
        "Al cargar un módulo, se ejecuta el código del módulo linea por linea.\n",
        "+ si es una asignación de un variable, esa variable quedará disponible como recurso global del módulo (y puede ser importada por otro)\n",
        "+ si el código es la definición de una función, simplemente se agregará a la tabla de funciones disponibles esa función con el código asociado, no se evaluará el código de la función, por lo que si dentro del código de la función tiene un error, o utiliza una variable inexistente, la ejecución continuará hasta que se ejecute esa función. (salvo que el error sea un problema que confunda al interprete por ejemplo un problema de identación)\n",
        "+ Si el código es de una clase, también va a cargar la clase en una tabla, y también ejecutará linea a linea el código de la clase pero no sus definiciones"
      ],
      "metadata": {
        "id": "vRfS2c-rETLB"
      }
    },
    {
      "cell_type": "code",
      "source": [
        "print(\"se imprime\")\n",
        "class Pepe:\n",
        "  print(\"tambien se imprime\")\n",
        "  def metodo_instancia(self):\n",
        "    print(\"no se imprime\")\n",
        "  def metodo_estático():\n",
        "    print(\"no se imprime\")\n",
        "  @classmethod\n",
        "  def metodo_clase(cls):\n",
        "    print(\"no se imprime\")"
      ],
      "metadata": {
        "id": "6UqmlNePwPc9",
        "outputId": "7adaf834-bc8a-460b-df9c-d3acdd74c691",
        "colab": {
          "base_uri": "https://localhost:8080/"
        }
      },
      "execution_count": null,
      "outputs": [
        {
          "output_type": "stream",
          "name": "stdout",
          "text": [
            "se imprime\n",
            "tambien se imprime\n"
          ]
        }
      ]
    }
  ]
}