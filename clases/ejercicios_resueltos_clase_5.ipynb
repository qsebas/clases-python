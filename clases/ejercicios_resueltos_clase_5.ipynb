{
  "nbformat": 4,
  "nbformat_minor": 0,
  "metadata": {
    "colab": {
      "provenance": [],
      "toc_visible": true
    },
    "kernelspec": {
      "name": "python3",
      "display_name": "Python 3"
    },
    "language_info": {
      "name": "python"
    }
  },
  "cells": [
    {
      "cell_type": "markdown",
      "source": [
        "# Ejercicios\n",
        "\n",
        "* Crea una clase abstracta llamada CuentaBancaria que tenga un atributo saldo (Decimal). Luego, crea dos subclases de CuentaBancaria llamadas CuentaCorriente y CajaDeAhorro.\n",
        " + La clase CuentaCorriente debe tener un atributo adicional llamado limite_descubierto (Decimal).\n",
        " + Ambas subclases deben tener métodos para depositar y retirar dinero de la cuenta, así como para obtener el saldo actual.\n",
        " + El depósito funciona de la misma manera en ambos casos, pero el retiro en caso de Caja de ahorro no debe permitir llevar el saldo a negativo, mientras que el caso de Cuenta Corriente no debe permitir tener saldo negativo mayor al limite_descubierto.\n",
        " + El límite de descubierto puede ser modificado.\n",
        " + Se debe sobrecargar los operadores + y - que tomaran una cuenta y un monto y funcionarán como deposito y retiro respectivamente\n",
        " + La clase CuentaBancaria de tener un metodo de clase que devuelva al suma de todos los saldos de todas las cuentas creadas, según con que clase sea invocada.\n"
      ],
      "metadata": {
        "id": "WTPiGhCxx0AY"
      }
    },
    {
      "cell_type": "markdown",
      "source": [
        "\n",
        " + Revisar y tratar de entender estas dos formas de definir una clase a la que al construir le puedo pasar parametros con nombre para obtener un objeto con esos atributos accesibles a través del uso del . como si fueran atributos definidos en la instancia.\n"
      ],
      "metadata": {
        "id": "s7NvQ7AB1Be2"
      }
    },
    {
      "cell_type": "code",
      "source": [
        "class Bunch(object):\n",
        "  def __init__(self, **kwds):\n",
        "    self.__dict__.update(kwds)\n",
        "\n",
        "  def __eq__(self, other):\n",
        "    return self.__dict__ == other.__dict__\n",
        "\n",
        "\n",
        "class Bunch2(dict):\n",
        "  __getattr__, __setatr__ = dict.get, dict.__setitem__\n",
        "\n",
        "x = Bunch(pepe=23)\n",
        "print(x.pepe)\n",
        "\n",
        "print(x)\n",
        "\n",
        "x = Bunch2(pepe=23,update=33)\n",
        "print(x.pepe)\n",
        "print(x)\n",
        "print(x.update)\n",
        "\n"
      ],
      "metadata": {
        "id": "oJ7ZPeBUUtWu"
      },
      "execution_count": null,
      "outputs": []
    }
  ]
}