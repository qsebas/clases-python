{
  "nbformat": 4,
  "nbformat_minor": 0,
  "metadata": {
    "colab": {
      "provenance": [],
      "toc_visible": true
    },
    "kernelspec": {
      "name": "python3",
      "display_name": "Python 3"
    },
    "language_info": {
      "name": "python"
    }
  },
  "cells": [
    {
      "cell_type": "markdown",
      "source": [
        "# **Ejercicios**\n",
        "\n",
        "> ## Ejercicio 1\n",
        ">> definir una funcion que reciba por parámetro un nombre (string) y devuelva un string que diga \"Hola NOMBRE buen día\" (remplazando NOMBRE por el nombre que recibió por parámetro pasado completamente a mayúsculas\n",
        "\n",
        "> por ejemplo si la entrada es **Pablo Gomez** la respuesta será \"Hola PABLO GOMEZ buen día\" \n",
        "\n",
        "> ## Ejercicio 2\n",
        ">> devolver un str que sea de 3 letras, la primera correspondiente a la primerletra de la entrada, la segunda correspondiente a la letra del medio(en caso de cantidad par de elementos tomaremos la mitad como el segundo de los dos elementos centrales) y la tercera con la última letra de mi cadena de entrada, suponer que la entrada no puede venir con el string vacio\n",
        "\n",
        ">> ejemplo si la entrada fuera \"abcdef\" la respuesta deberia ser \"adf\"\n",
        "\n",
        "> ## Ejercicio 3\n",
        ">> dado un string que contiene palabras (separadas por un solo escpacio) devolver un string que sea la reversa de la frase , pero manteniendo cada palabra intacta\n",
        "\n",
        ">> ejemplo si la entrada fuera \"hola que tal\" la respuesta deberia ser \"tal que hola\"\n",
        "\n",
        ">> se puede asumir que solo hay un espacio entre palabras, y que no hay espacios a la izquierda ni derecha\n",
        "\n",
        "\n",
        "> ## Ejercicio 4\n",
        ">> dado un string que contiene palabras (separadas por un solo escpacio) devolver un string que mantenga el orden de las palabras pero cada palabra est'e dada vuelta\n",
        "\n",
        ">> ejemplo si la entrada fuera \"hola que tal\" la respuesta deberia ser \"aloh euq lat\"\n",
        "\n",
        ">> se puede asumir que solo hay un espacio entre palabras, y que no hay espacios a la izquierda ni derecha\n",
        "\n",
        "\n",
        "> ## Ejercicio 5\n",
        ">> dado dos string devolver True o "
      ],
      "metadata": {
        "id": "Yb7kqZTTQbID"
      }
    },
    {
      "cell_type": "code",
      "source": [
        "\n",
        "def ejercicio_1(nombre):\n",
        "  return f\"Hola {nombre.upper()} buen día\" \n",
        "\n",
        "print(\"Prueba ejercicio 1:\", ejercicio_1(\"Juan Perez\"))\n",
        "\n",
        "def ejercicio_2(texto):\n",
        "  return texto[0] + texto[len(texto)//2] + texto[-1]\n",
        "\n",
        "print(\"Prueba ejercicio 2:\", ejercicio_2(\"Juan Perez\"))\n",
        "\n",
        "\n",
        "def ejercicio_3(texto):\n",
        "  # return \"\"\n",
        "  # a = texto.split()\n",
        "  # a.reverse()\n",
        "  # return \" \".join(a)\n",
        "\n",
        "  # return \" \".join(reversed(texto.split()))\n",
        "  return \" \".join(texto.split()[::-1])\n",
        "\n",
        "print(\"Prueba ejercicio 3:\", ejercicio_3(\"Juan Perez\"))\n",
        "\n",
        "\n",
        "def ejercicio_4(texto):\n",
        "  # return \"\"\n",
        "  return \" \".join(texto[::-1].split()[::-1])\n",
        "\n",
        "print(\"Prueba ejercicio 4:\", ejercicio_4(\"Juan Perez\"))\n"
      ],
      "metadata": {
        "colab": {
          "base_uri": "https://localhost:8080/"
        },
        "id": "UDOAaJ9zqCCZ",
        "outputId": "33814fc5-4d0f-427f-c240-d4db1222cebb"
      },
      "execution_count": 1,
      "outputs": [
        {
          "output_type": "stream",
          "name": "stdout",
          "text": [
            "Prueba ejercicio 1: Hola JUAN PEREZ buen día\n",
            "Prueba ejercicio 2: JPz\n",
            "Prueba ejercicio 3: Perez Juan\n",
            "Prueba ejercicio 4: nauJ zereP\n"
          ]
        }
      ]
    },
    {
      "cell_type": "code",
      "source": [
        "\n",
        "import unittest\n",
        "import inspect\n",
        "\n",
        "def tiene_ciclo(ejercicio):\n",
        "  sc = [ line for line in inspect.getsource(ejercicio).splitlines() if line and line.lstrip()[0] != \"#\"]\n",
        "  return True in [\" for \" in line for line in sc]\n",
        "\n",
        "\n",
        "class TestNotebook(unittest.TestCase):\n",
        "\n",
        "    def test_ejercicio_1(self):\n",
        "        self.assertEqual(\"Hola  buen día\", ejercicio_1(\"\") )\n",
        "        self.assertEqual(\"Hola PABLO GOMEZ buen día\", ejercicio_1(\"Pablo Gomez\") )\n",
        "        self.assertEqual(\"Hola POMPIN EL CONEJO buen día\", ejercicio_1(\"pOmPin eL ConEjO\") )\n",
        "        self.assertFalse(tiene_ciclo(ejercicio_1), msg=\"\\033[91mLa función debe escribirse sin usar ciclos\\033[90m\")\n",
        "\n",
        "    def test_ejercicio_2(self):\n",
        "        self.assertEqual(\"aaa\", ejercicio_2(\"a\"))\n",
        "        self.assertEqual(\"abb\", ejercicio_2(\"ab\"))\n",
        "        self.assertEqual(\"adf\", ejercicio_2(\"abcdef\"))\n",
        "        self.assertFalse(tiene_ciclo(ejercicio_2), msg=\"\\033[91mLa función debe escribirse sin usar ciclos\\033[90m\")\n",
        "        \n",
        "    def test_ejercicio_3(self):\n",
        "        self.assertEqual(\"\", ejercicio_3(\"\"))\n",
        "        self.assertEqual(\"tal que hola\", ejercicio_3(\"hola que tal\"))\n",
        "        self.assertEqual(\"pedro\", ejercicio_3(\"pedro\"))\n",
        "        self.assertFalse(tiene_ciclo(ejercicio_3), msg=\"\\033[91mLa función debe escribirse sin usar ciclos\\033[90m\")\n",
        "        \n",
        "    def test_ejercicio_4(self):\n",
        "        self.assertEqual(\"\", ejercicio_4(\"\"))\n",
        "        self.assertEqual(\"aloh euq lat\", ejercicio_4(\"hola que tal\"))\n",
        "        self.assertEqual(\"ordep\", ejercicio_4(\"pedro\"))\n",
        "        self.assertFalse(tiene_ciclo(ejercicio_4), msg=\"\\033[91mLa función debe escribirse sin usar ciclos\\033[90m\")\n",
        "\n",
        "\n",
        "unittest.main(argv=[''], verbosity=2, exit=False)\n"
      ],
      "metadata": {
        "colab": {
          "base_uri": "https://localhost:8080/"
        },
        "id": "8k91LfmORCFc",
        "outputId": "18f715d5-234d-4f06-9390-ba695277acb1"
      },
      "execution_count": 2,
      "outputs": [
        {
          "output_type": "stream",
          "name": "stderr",
          "text": [
            "test_ejercicio_1 (__main__.TestNotebook) ... ok\n",
            "test_ejercicio_2 (__main__.TestNotebook) ... ok\n",
            "test_ejercicio_3 (__main__.TestNotebook) ... ok\n",
            "test_ejercicio_4 (__main__.TestNotebook) ... ok\n",
            "\n",
            "----------------------------------------------------------------------\n",
            "Ran 4 tests in 0.023s\n",
            "\n",
            "OK\n"
          ]
        },
        {
          "output_type": "execute_result",
          "data": {
            "text/plain": [
              "<unittest.main.TestProgram at 0x7ff8b4295040>"
            ]
          },
          "metadata": {},
          "execution_count": 2
        }
      ]
    }
  ]
}