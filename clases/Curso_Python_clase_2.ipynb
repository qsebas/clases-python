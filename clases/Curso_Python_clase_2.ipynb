{
  "nbformat": 4,
  "nbformat_minor": 0,
  "metadata": {
    "colab": {
      "provenance": [],
      "toc_visible": true,
      "authorship_tag": "ABX9TyMgCV4dTqhiJBufwlTyXEpz",
      "include_colab_link": true
    },
    "kernelspec": {
      "name": "python3",
      "display_name": "Python 3"
    },
    "language_info": {
      "name": "python"
    }
  },
  "cells": [
    {
      "cell_type": "markdown",
      "metadata": {
        "id": "view-in-github",
        "colab_type": "text"
      },
      "source": [
        "<a href=\"https://colab.research.google.com/github/qsebas/clases-python/blob/main/clases/Curso_Python_clase_2.ipynb\" target=\"_parent\"><img src=\"https://colab.research.google.com/assets/colab-badge.svg\" alt=\"Open In Colab\"/></a>"
      ]
    },
    {
      "cell_type": "markdown",
      "source": [
        "# **Tipos Basicos - parte 3**\n",
        "\n",
        "> En la clase pasada dejamos algunos tipos básicos de lado que veremos a continuación:\n",
        "\n"
      ],
      "metadata": {
        "id": "eZRRf2tiU-wk"
      }
    },
    {
      "cell_type": "markdown",
      "source": [
        "## **dict**\n",
        "\n",
        "> la clase *dict* o *diccionarios* o *key-values* es una clase nativa de Python que guarda un mapeo entre claves y valor. Como claves, se puede usar cualquier cosa que sea inmutable y hasheable, lo más frecuente esutilizar **int** o **str** de clave, pero se podría por ejemplo utilizar una tupla de ints, pero no una lista de ints (la lista es mutable) ni una tupla de listas de ints (también por la tupla)\n",
        "\n",
        "* no necesariamente las claves de un mismo dict son del mismo tipo, ni tampoco sus valores, por ejemplo {1: \"Juan\", 2:\"pedro\", \"calle\": \"rivadavia\", \"piso\": 2 }, y pueden haber listas y dicts anidados {\"numero\": 23, \"items\": [{\"id\": 1}, {\"id\": 2}]}\n",
        "\n",
        "* los dict son muy similares a los json con la diferencia que un json es un string que deberá ser parseado para convertirse en un dict\n",
        "\n",
        "* los dits no pueden tener claves repetidas, siempre tomará la última definición de una clave como la válida, por eso:\n",
        "\n",
        ">> {1:\"Juan\", 2: \"Pedro\",1: \"Alberto\"} == {1: \"Alberto\", 2: \"Pedro\"}\n",
        "\n",
        "* la igualdad entre dicts se da si los elementos clave-valor son iguales sin importar el orden\n"
      ],
      "metadata": {
        "id": "lTyfsQf1n-1Z"
      }
    },
    {
      "cell_type": "code",
      "source": [
        "print({1: \"Juan\", 2:\"pedro\", \"calle\": \"rivadavia\", \"piso\": 2 })  # no todas las claves ni los valores deben ser del mismo tipo\n",
        "\n",
        "print({1:\"Juan\", 2: \"Pedro\",1: \"Alberto\"} == {1: \"Alberto\", 2: \"Pedro\"})  # son iguales, el lado izquierdo tiene 2 con clave 1, y son fusionados\n",
        "print({1:\"Juan\", 2: \"Pedro\",1: \"Alberto\"}[1])  # no pueden haber 2 elementos con la misma clavem el segundo pisa el primero\n",
        "persona = {\"nombre\":\"Juan\", \"apellido\": \"Perez\",\"telefonos\": [{\"id\":1, \"numero\":\"4555-3344\"}, {\"id\":2, \"numero\":\"4555-4433\"}]}\n",
        "print(f'los telefonos de {persona[\"apellido\"].upper()}, {persona[\"nombre\"]} son {persona[\"telefonos\"]}')  # ya veremos como \"emprolijar\" el print de teléfonos \n"
      ],
      "metadata": {
        "colab": {
          "base_uri": "https://localhost:8080/"
        },
        "id": "LaHQZQkOSXX6",
        "outputId": "61b28efb-1297-451c-ddc7-14c06dd827aa"
      },
      "execution_count": 26,
      "outputs": [
        {
          "output_type": "stream",
          "name": "stdout",
          "text": [
            "{1: 'Juan', 2: 'pedro', 'calle': 'rivadavia', 'piso': 2}\n",
            "True\n",
            "Alberto\n",
            "los telefonos de PEREZ, Juan son [{'id': 1, 'numero': '4555-3344'}, {'id': 2, 'numero': '4555-4433'}]\n"
          ]
        }
      ]
    },
    {
      "cell_type": "markdown",
      "source": [
        "> ### **constructores**\n",
        "> * directamente utilizando el literal {k1: v1 ,k2: v2 ,k3: v3}\n",
        "> * el literal {} representa el dict vacío\n",
        "> * parámetros con nombre dict(v1=\"valor 1\", v2=\"valor 2\")\n",
        ">> transformará a {\"v1\": \"valor 1\", \"v2\": \"valor 2\"}\n",
        "> * un iterador de duplas dict([(1, \"valor 1\"), (2, \"valor 2\")])\n",
        ">> transformará a {1: \"valor 1\", 2: \"valor 2\"}\n"
      ],
      "metadata": {
        "id": "pzjcglSpnRpQ"
      }
    },
    {
      "cell_type": "code",
      "source": [
        "print(dict(v1=\"valor 1\", v2=\"valor 2\") == {\"v1\": \"valor 1\", \"v2\": \"valor 2\"})\n",
        "print(dict([(1, \"valor 1\"), (2, \"valor 2\")]) == {1: \"valor 1\", 2: \"valor 2\"}) "
      ],
      "metadata": {
        "id": "DAqKhr4TqNW9"
      },
      "execution_count": null,
      "outputs": []
    },
    {
      "cell_type": "markdown",
      "source": [
        "### **operadores**\n",
        "\n",
        ">*  [key] Index operator, devuelve el value correspondiete a la key, tira excepción si no existe esa key\n",
        "*  | Merge (Union)\n",
        "*  |= Update (equivalente a .update)\n",
        "*  == igualdad\n",
        "*  != desigualdad\n",
        "\n",
        "> el merge o union va a fusionar dos dicts, con los key-values de ambos, en caso de que una key se repite, queda el valor de la segunda ocurrencia, por este motivo no necesariamente es lo mismo hacer A | B que B | A"
      ],
      "metadata": {
        "id": "oiCGeRIEoH7D"
      }
    },
    {
      "cell_type": "code",
      "source": [
        "mi_dict = {1: \"valor 1\", 2: \"valor 2\"}\n",
        "print(mi_dict[2])\n",
        "mi_dict = {\"nombre\": \"Juan\", \"apellido\": \"Perez\"}\n",
        "print(mi_dict[\"apellido\"])\n",
        "\n",
        "A = {1: \"valor 1\", 2: \"valor 2\"}\n",
        "B = {1: \"otro valor 1\", 3: \"valor 3\"}\n",
        "print(A | B)  # \"otro valor 1\" pisa \"valor 1\"\n",
        "print(B | A)  # \"valor 1\" pisa \"otro valor 1\"\n",
        "\n",
        "A |= B  # eso hace A | B y se lo asigna a A \n",
        "print(A)"
      ],
      "metadata": {
        "id": "kzuYFmOsrajP"
      },
      "execution_count": null,
      "outputs": []
    },
    {
      "cell_type": "markdown",
      "source": [
        "\n",
        "### **métodos de la clase dict**\n",
        "> *  **d.update(b)** agrega todos los k-v de **b** en **d**, pisando losde key repetidos\n",
        "* **d.get(key)** es equivalente a **d[key]**, pero en caso de no encontrar devuelve None  \n",
        "* **d.get(key, default)** es equivalente a **d[key]**, pero en caso de no encontrar devuelve el segundo parámetro\n",
        "* **d.pop(key)** modifica el dict original eliminando el k-v correspondiente y a su vez devuelve el value correspondiente a la key\n",
        "* **d.popitem()** elimina el último k-v insertado, y lo devuelve\n",
        "* **d.keys()** devuelve una lista de todos los keys\n",
        "* **d.values()** devuelve una lista de todos los values\n",
        "* **d.items()** devuelve una lista de duplas de todos los key-values\n",
        "* **d-clear()** elimina todos los k-v\n"
      ],
      "metadata": {
        "id": "JRoPLhpnRL9h"
      }
    },
    {
      "cell_type": "code",
      "source": [
        "a = {\"nombre\": \"Juan\", \"apellido\": \"Perez\"}\n",
        "# print(a[\"edad\"])  # rompe porque no existe la key\n",
        "print(a.get(\"edad\", 23))  # como no existe la key, devuelve el valor default, pasado por parametro\n",
        "print(a.get(\"edad\"))  # como no existe la key, devuelve None, pero no explota\n",
        "print(a.pop(\"apellido\"))  # esto hace 2 cosas, devuelve el value de \"apellido\" y a la vez saca el key-value del dict\n",
        "print(a)  # como en el paso anterior sacamos el apellido solo queda en nombre"
      ],
      "metadata": {
        "id": "qJxv-SmzxB2P"
      },
      "execution_count": null,
      "outputs": []
    },
    {
      "cell_type": "markdown",
      "source": [
        "### **funciones nativas de dict**\n",
        "> * **len(d)** devuelve la longitud del dict\n",
        "* **max(d), min(d)**, devuelve la minima o maxima keys, en ese caso todas las keys tienen que ser del mismo tipo y comparables\n"
      ],
      "metadata": {
        "id": "Qp1bBhy_ogq2"
      }
    },
    {
      "cell_type": "code",
      "source": [
        "d = {100: \"nombre\", 200: [\"esto\", \"es\", \"una\", \"lista\"], 300: {1: \"dict\", 2: \"anidado\"}}\n",
        "print(len(d))\n",
        "print(max(d))\n",
        "print(min(d))"
      ],
      "metadata": {
        "id": "jM0Ag1GluVyB"
      },
      "execution_count": null,
      "outputs": []
    },
    {
      "cell_type": "markdown",
      "source": [
        "## **set**\n",
        "\n",
        "> la clase **set** es una clase que representa conjuntos, el literal para armarlo es igual que el de dict **{ , , , }** pero cada elemento no tiene el separador de key-value **:**.\n",
        "\n",
        "> los sets tienen algunas particularidades:\n",
        "> * no hay órden, no se puede predecir en que órden va a recorrerse, y los sets son \"iguales\" si todos los elementos lo son aunque en distinto órden\n",
        "* no hay elementos repetidos, en caso de volver a agregar un elemento que ya estaba, simlpemente sigue siendo el mismo set\n",
        "\n",
        "> tienen los mismos operadores de merge que los dicts y tiene varios métodos naturales de conjuntos:\n",
        "+ .clear()\n",
        "+ .add(elemento) modifica el conjunto original pero devuelve None\n",
        "+ .intersection(conjunto)  devuelve la interseccion de los dos conjutnos\n",
        "+ .issubset(conjutno)\n",
        "+ .union(conjunto)\n",
        "\n",
        "> también hay funciones como len(), max() y min() que pueden aplicarse a los conjuntos"
      ],
      "metadata": {
        "id": "iOf2_4dRSi6s"
      }
    },
    {
      "cell_type": "code",
      "source": [
        "print({100, 200, 500} == {500, 200, 100})\n",
        "print({100, 100, 200, 200, 300})\n",
        "a = {100, 200}\n",
        "a.add(600)  # modifica el set original, pero devuelve None, no se puede hacer print(a.add(600))\n",
        "a.add(100)  # ya tiene el elemento 100 por lo que no agrega nada\n",
        "print(a)\n",
        "\n",
        "print(a.intersection({100, 200, 800}))  # esto devuelve la intersección"
      ],
      "metadata": {
        "id": "4sef8FpU-_Ko",
        "outputId": "f64bef30-8a41-4789-ab2a-c39b7189a3df",
        "colab": {
          "base_uri": "https://localhost:8080/"
        }
      },
      "execution_count": 10,
      "outputs": [
        {
          "output_type": "stream",
          "name": "stdout",
          "text": [
            "True\n",
            "{200, 100, 300}\n",
            "{200, 600, 100}\n",
            "{200, 100}\n"
          ]
        }
      ]
    },
    {
      "cell_type": "markdown",
      "source": [
        "## **range**\n",
        "\n",
        "> Existe otro tipo de secuencias, llamado **range** representa un rango de numeros, de manera iterable, y sirve en combinación con los bloques for para poder ciclar por un rango de números\n",
        "> por ejemplo:\n",
        "+ range(100) son todos los numeros de 0 a 99 (inclusives)\n",
        "+ range(3, 8) son los numeros de 3 a 7 (inclusives)\n",
        "+ range(3, 8, 2) son los numeros desde 3 a 7 pero saltando de 2 en 2 (o sea 3, 5 y 7)\n",
        "\n",
        "> el objeto iterable se va calculando a medida que se lo itera, por lo que imprimirlo directamente mostrará el objeto iterable, y no la lista. \n",
        "\n",
        "> se puede castear como lista y eso si se puede imprimir\n",
        "\n",
        "> al igual que las secuencias se le pueden aplicar los operadores de slicing, que en caso de devolver mas de un elemento, devolverá un range\n"
      ],
      "metadata": {
        "id": "6vNQb702e-nO"
      }
    },
    {
      "cell_type": "code",
      "source": [
        "print(list(range(3, 8, 2)))\n",
        "print(range(3,200))\n",
        "print(range(10, 100)[3])  # devuelve el 3er elemento del rango, o sea 13 \n",
        "\n",
        "range(10, 100)[3:10]  # devuelve un nuevo rango desde la 3era \"posicion\" hasta \n",
        "                      # la 10ma posicion del rango anterior, o sea de 13 a 20 "
      ],
      "metadata": {
        "id": "XYI-P4lMu7k7",
        "colab": {
          "base_uri": "https://localhost:8080/"
        },
        "outputId": "49d5fba5-94b8-4708-decb-18533769645c"
      },
      "execution_count": 25,
      "outputs": [
        {
          "output_type": "stream",
          "name": "stdout",
          "text": [
            "[3, 5, 7]\n",
            "range(3, 200)\n",
            "13\n"
          ]
        },
        {
          "output_type": "execute_result",
          "data": {
            "text/plain": [
              "range(13, 20)"
            ]
          },
          "metadata": {},
          "execution_count": 25
        }
      ]
    },
    {
      "cell_type": "markdown",
      "source": [
        "# **Bloques condicionales**\n",
        "\n",
        "> Para control de flujo de código existe la directiva **if** que permite evaluar una condición para saber si se ejecuta un blque de código, también las directivas **else** y **elsif** para ejecutar código si esa condición no se cumple. La condición puede ser un booleano (True o False) o se puede preguntar por una lista, un objeto o un numero, en caso de ser 0, \"vacío\" o \"None\" es equivalente a falso y no zero, ni vacío ni None es verdadero\n"
      ],
      "metadata": {
        "id": "x7QmqHyNvH9t"
      }
    },
    {
      "cell_type": "markdown",
      "source": [
        "## **bloque if**\n",
        "\n",
        "> solo se ejecuta el bloque (definido por la identación) en caso de ser verdadera la condición (notar los dos puntos luego de la condición)\n",
        "\n",
        "```python\n",
        "if condicion:\n",
        "  sentencia_1\n",
        "  sentencia_2\n",
        "```\n",
        "\n",
        "> la directiva **else** permite ejecutar código si la condición no se cumple (notar los dos puntos luego del else)\n",
        "\n",
        "```python\n",
        "if condicion:\n",
        "  sentencia_1\n",
        "  sentencia_2\n",
        "else:\n",
        "  sentencia_3\n",
        "  sentencia_4\n",
        "```\n",
        "\n",
        ">se pueden anidar los bloques condicionales\n",
        "\n",
        "```python\n",
        "if condicion_1:\n",
        "  if cond_2:\n",
        "    sentencia_1\n",
        "    sentencia_2\n",
        "  else:\n",
        "    s_3\n",
        "    s_4\n",
        "else:\n",
        "  if cond_3:\n",
        "    s_5\n",
        "  else:\n",
        "    s_6\n",
        "```\n"
      ],
      "metadata": {
        "id": "liCvZlwqDeEZ"
      }
    },
    {
      "cell_type": "markdown",
      "source": [
        "\n",
        "## **bloques elif**\n",
        "\n",
        "> en python hasta la versión 3.10 no existían los bloques switch/case y algo parecido se podía lograr con la directiva **elif**, que quiere decir **else if** y es equivalente a tener un if dentro de un else anidados...o sea, que solo se evalua el if, si no se cumplió la (o las) condiciones anteriores.\n",
        "\n",
        "\n",
        "```python\n",
        "if condicion_1:\n",
        "  sentencia_1\n",
        "elif cond_2:\n",
        "  sentencia_2\n",
        "elif cond_3:\n",
        "  sentencia_3\n",
        "else:\n",
        "  sentencia_4  # esto se ejecuta si ninguna de las ateriores se ejecutó\n",
        "```\n"
      ],
      "metadata": {
        "id": "gac3YotzXMEr"
      }
    },
    {
      "cell_type": "code",
      "source": [],
      "metadata": {
        "id": "f20ziJyqZffV"
      },
      "execution_count": null,
      "outputs": []
    },
    {
      "cell_type": "markdown",
      "source": [
        "## **if en una linea**\n",
        "> "
      ],
      "metadata": {
        "id": "PxtAz8nYDkVI"
      }
    },
    {
      "cell_type": "code",
      "source": [],
      "metadata": {
        "id": "IWNMpNQDvJQc"
      },
      "execution_count": null,
      "outputs": []
    },
    {
      "cell_type": "markdown",
      "source": [
        "# **Bloques de ciclos**\n",
        "\n",
        "## **While loop**\n",
        "\n",
        "## **for loop**\n"
      ],
      "metadata": {
        "id": "s1FtMArRvQVP"
      }
    },
    {
      "cell_type": "markdown",
      "source": [
        "## **Ciclos en una línea, listas por comprensión**"
      ],
      "metadata": {
        "id": "K2G3qo7CvW3c"
      }
    },
    {
      "cell_type": "markdown",
      "source": [
        "# **Funciones Lambda**"
      ],
      "metadata": {
        "id": "ySlh0C6UYwZ0"
      }
    },
    {
      "cell_type": "markdown",
      "source": [
        "# **Ejercicios**\n",
        "\n",
        "> ## Ejercicio 1\n",
        ">> definir una funcion que reciba por parámetro un nombre (string) y devuelva un string que diga \"Hola NOMBRE buen día\" (remplazando NOMBRE por el nombre que recibió por parámetro pasado completamente a mayúsculas\n",
        "\n",
        "> por ejemplo si la entrada es **Pablo Gomez** la respuesta será \"Hola PABLO GOMEZ buen día\" \n",
        "\n",
        "> ## Ejercicio 2\n",
        ">> devolver un str que sea de 3 letras, la primera correspondiente a la primerletra de la entrada, la segunda correspondiente a la letra del medio(en caso de cantidad par de elementos tomaremos la mitad como el segundo de los dos elementos centrales) y la tercera con la última letra de mi cadena de entrada, suponer que la entrada no puede venir con el string vacio\n",
        "\n",
        ">> ejemplo si la entrada fuera \"abcdef\" la respuesta deberia ser \"adf\"\n",
        "\n",
        "> ## Ejercicio 3\n",
        ">> dado un string que contiene palabras (separadas por un solo escpacio) devolver un string que sea la reversa de la frase , pero manteniendo cada palabra intacta\n",
        "\n",
        ">> ejemplo si la entrada fuera \"hola que tal\" la respuesta deberia ser \"tal que hola\"\n",
        "\n",
        ">> se puede asumir que solo hay un espacio entre palabras, y que no hay espacios a la izquierda ni derecha\n",
        "\n",
        "\n",
        "> ## Ejercicio 4\n",
        ">> dado un string que contiene palabras (separadas por un solo escpacio) devolver un string que mantenga el orden de las palabras pero cada palabra est'e dada vuelta\n",
        "\n",
        ">> ejemplo si la entrada fuera \"hola que tal\" la respuesta deberia ser \"aloh euq lat\"\n",
        "\n",
        ">> se puede asumir que solo hay un espacio entre palabras, y que no hay espacios a la izquierda ni derecha\n"
      ],
      "metadata": {
        "id": "Yb7kqZTTQbID"
      }
    },
    {
      "cell_type": "code",
      "source": [
        "\n",
        "def ejercicio_1(nombre):\n",
        "  return \"\"\n",
        "\n",
        "print(\"Prueba ejercicio 1:\", ejercicio_1(\"Juan Perez\"))\n",
        "\n",
        "def ejercicio_2(texto):\n",
        "  return \"\"\n",
        "\n",
        "print(\"Prueba ejercicio 2:\", ejercicio_2(\"Juan Perez\"))\n",
        "\n",
        "def ejercicio_3(texto):\n",
        "  return \"\"\n",
        "\n",
        "print(\"Prueba ejercicio 3:\", ejercicio_3(\"Juan Perez\"))\n",
        "\n",
        "\n",
        "def ejercicio_4(texto):\n",
        "  return \"\"\n",
        "\n",
        "print(\"Prueba ejercicio 4:\", ejercicio_4(\"Juan Perez\"))\n"
      ],
      "metadata": {
        "id": "UDOAaJ9zqCCZ"
      },
      "execution_count": null,
      "outputs": []
    },
    {
      "cell_type": "code",
      "source": [
        "\n",
        "import unittest\n",
        "import inspect\n",
        "\n",
        "def tiene_ciclo(ejercicio):\n",
        "  sc = [ line for line in inspect.getsource(ejercicio).splitlines() if line and line.lstrip()[0] != \"#\"]\n",
        "  return True in [\" for \" in line for line in sc]\n",
        "\n",
        "\n",
        "class TestNotebook(unittest.TestCase):\n",
        "\n",
        "    def test_ejercicio_1(self):\n",
        "        self.assertEqual(\"Hola  buen día\", ejercicio_1(\"\") )\n",
        "        self.assertEqual(\"Hola PABLO GOMEZ buen día\", ejercicio_1(\"Pablo Gomez\") )\n",
        "        self.assertEqual(\"Hola POMPIN EL CONEJO buen día\", ejercicio_1(\"pOmPin eL ConEjO\") )\n",
        "        self.assertFalse(tiene_ciclo(ejercicio_1), msg=\"\\033[91mLa función debe escribirse sin usar ciclos\\033[90m\")\n",
        "\n",
        "    def test_ejercicio_2(self):\n",
        "        self.assertEqual(\"aaa\", ejercicio_2(\"a\"))\n",
        "        self.assertEqual(\"abb\", ejercicio_2(\"ab\"))\n",
        "        self.assertEqual(\"adf\", ejercicio_2(\"abcdef\"))\n",
        "        self.assertFalse(tiene_ciclo(ejercicio_2), msg=\"\\033[91mLa función debe escribirse sin usar ciclos\\033[90m\")\n",
        "        \n",
        "    def test_ejercicio_3(self):\n",
        "        self.assertEqual(\"\", ejercicio_3(\"\"))\n",
        "        self.assertEqual(\"tal que hola\", ejercicio_3(\"hola que tal\"))\n",
        "        self.assertEqual(\"pedro\", ejercicio_3(\"pedro\"))\n",
        "        self.assertFalse(tiene_ciclo(ejercicio_3), msg=\"\\033[91mLa función debe escribirse sin usar ciclos\\033[90m\")\n",
        "        \n",
        "    def test_ejercicio_4(self):\n",
        "        self.assertEqual(\"\", ejercicio_4(\"\"))\n",
        "        self.assertEqual(\"aloh euq lat\", ejercicio_4(\"hola que tal\"))\n",
        "        self.assertEqual(\"ordep\", ejercicio_4(\"pedro\"))\n",
        "        self.assertFalse(tiene_ciclo(ejercicio_4), msg=\"\\033[91mLa función debe escribirse sin usar ciclos\\033[90m\")\n",
        "\n",
        "\n",
        "unittest.main(argv=[''], verbosity=2, exit=False)\n"
      ],
      "metadata": {
        "id": "8k91LfmORCFc"
      },
      "execution_count": null,
      "outputs": []
    }
  ]
}