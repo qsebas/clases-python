{
  "nbformat": 4,
  "nbformat_minor": 0,
  "metadata": {
    "colab": {
      "provenance": [],
      "toc_visible": true,
      "authorship_tag": "ABX9TyNRWYyPVGPeU7mDfi8MWDJ9",
      "include_colab_link": true
    },
    "kernelspec": {
      "name": "python3",
      "display_name": "Python 3"
    },
    "language_info": {
      "name": "python"
    }
  },
  "cells": [
    {
      "cell_type": "markdown",
      "metadata": {
        "id": "view-in-github",
        "colab_type": "text"
      },
      "source": [
        "<a href=\"https://colab.research.google.com/github/qsebas/clases-python/blob/main/clases/Curso_Python_clase_2.ipynb\" target=\"_parent\"><img src=\"https://colab.research.google.com/assets/colab-badge.svg\" alt=\"Open In Colab\"/></a>"
      ]
    },
    {
      "cell_type": "markdown",
      "source": [
        "# **Ejercicios**\n",
        "\n",
        "> ## Ejercicio 1\n",
        ">> Crear acrónimos de Peliculas / libros, el acrónimo se compone con la primer letra de cada palabra del título, seberán estar en mayúsculas todas las letras salvo que sea una de las siguientes: [\"a\", \"al\", \"en\", \"el\", \"la\", \"los\", \"las\", \"de\", \"del\"], esas letras deberán estar en mayúscula si es la primer letra del título y en minúscula sino.\n",
        "\n",
        ">> por ejemplo:\n",
        "+ \"volver al futuro\" debe devolver \"VaF\"\n",
        "+ \"Juego de Tronos\" debe devolver \"JdT\"\n",
        "+ \"el Silencio de los inocentes\" debe devolver \"ESdlI\"\n",
        "\n",
        ">> En caso de que la entrada sea el string vacío, debe devolver el string vacío\n",
        "\n",
        "> ## Ejercicio 2\n",
        ">> dado un número (entero), devolver el conjunto divisores de ese número (positivos y negativos), en caso de ser 0 la entrada debe devolver None (en realidad son infinitos divisores)\n",
        "\n",
        ">> hint: es complicado (no imposible) hacer que una lista por comprensión devuelva el doble de elementos de la lista original\n",
        "\n",
        ">> por ejemplo si la entrada es 4, debe devolver {1, -1, 2, -2, 4, -4} \n",
        "\n",
        "> ## Ejercicio 3\n",
        ">> Dado una lista de elementos del mismo tipo, devolver una lista de duplas que contengan cada elemento (sin repetición) y la cantidad de veces que aparece\n",
        "\n",
        ">> ejemplo si la entrada es [4, 2, 4, 6, 9, 10, 10, 2, 4] tiene que devolver [(4, 3), (2, 2), (6, 1), (9, 1), (10, 2)] o alguna permutación de esas tuplas. La lista de entrada podría también ser de strings, [\"hola\", \"chau\", \"hola\"] deberia devoler [(\"hola\",2), (\"chau\", 1)] o una permutación\n",
        "\n",
        "\n",
        "> ## Ejercicio 4\n",
        ">> dado una lista de enteros (positivos y negativos) devolver una dupla con el primer valor que sea el maximo de la lista y el segundo valor que sea el minimo.\n",
        "En caso de recibir una lista vacia deberia devolver (None, None)\n",
        "\n",
        ">> punto extra si se resuelve con reduce(), hint hay que usar un inicializador porque el \"acumulado\" (el resultado final) es una dupla, asi que en cada paso tiene que comparar una dupla con un valor, si no se usara un iniciador la primer comparacion la va a hacer con dos enteros, en vez de una dupla y un entero.\n",
        "\n",
        "\n",
        ">> ejemplo si le paso [2, 5, 67, 34, -33, 3 , 4, 5, 2] me devuelve (67, -33)\n"
      ],
      "metadata": {
        "id": "Yb7kqZTTQbID"
      }
    },
    {
      "cell_type": "code",
      "source": [
        "\n",
        "def ejercicio_1(texto):\n",
        "  if texto:\n",
        "    conectores = [\"a\", \"al\", \"en\", \"el\", \"la\", \"los\", \"las\", \"de\", \"del\"]\n",
        "    acrónimo = \"\".join([x[0].lower() if x in conectores else x[0].upper() for x in texto.split()])\n",
        "    return acrónimo[0].upper() + acrónimo[1:]  # sea como sea, la primer letra es mayúscula\n",
        "  else:\n",
        "    return \"\"\n",
        "  \n",
        "print(\"Prueba ejercicio 1:\", ejercicio_1(\"volver al futuro\"))\n",
        "\n",
        "def ejercicio_2(numero):\n",
        "  if numero:\n",
        "    positivos = [1] + [i for i in range(2, (abs(numero) // 2) + 1) if numero % i == 0] + [abs(numero)]\n",
        "    return {f(x) for x in positivos for f in (lambda x: x, lambda x: -x)}\n",
        "    # Modo no pitonico\n",
        "    # result = set()\n",
        "    # for x in positivos:\n",
        "    #   result.add(x)\n",
        "    #   result.add(-x)\n",
        "    # return result\n",
        "\n",
        "print(\"Prueba ejercicio 2:\", ejercicio_2(15))\n",
        "\n",
        "def ejercicio_3(lista):\n",
        "  return [(e, lista.count(e)) for e in {x for x in lista }]\n",
        "\n",
        "print(\"Prueba ejercicio 3:\", ejercicio_3([3, 4, 3]))\n",
        "\n",
        "def ejercicio_4(lista):\n",
        "  # return (None, None)\n",
        "  from functools import reduce\n",
        "  return reduce(lambda x, y: (y if x[0] is None else max(x[0], y), y if x[1] is None else min(x[1], y)), lista, (None, None))\n",
        "\n",
        "print(\"Prueba ejercicio 4:\", ejercicio_4([44, -33, 11, 22, 0, 42, 47, 12, 14]))\n"
      ],
      "metadata": {
        "id": "UDOAaJ9zqCCZ"
      },
      "execution_count": null,
      "outputs": []
    },
    {
      "cell_type": "code",
      "source": [
        "#@title **Tests de los ejercicios**\n",
        "\n",
        "import unittest\n",
        "import inspect\n",
        "\n",
        "class TestNotebook(unittest.TestCase):\n",
        "\n",
        "    def test_ejercicio_1(self):\n",
        "        self.assertEqual(\"\", ejercicio_1(\"\") )\n",
        "        self.assertEqual(\"VaF\", ejercicio_1(\"volver al futuro\") )\n",
        "        self.assertEqual(\"JdT\", ejercicio_1(\"Juego de Tronos\") )\n",
        "        self.assertEqual(\"ESdlI\", ejercicio_1(\"el Silencio de los inocentes\") )\n",
        "\n",
        "    def test_ejercicio_2(self):\n",
        "        self.assertEqual(None, ejercicio_2(0))\n",
        "        self.assertEqual({1, 2, 11, 22, -1, -2, -11, -22}, ejercicio_2(22))\n",
        "        self.assertEqual({1, 3, 5, 15, -1, -3, -5, -15}, ejercicio_2(15))\n",
        "        self.assertEqual({1, 3, 5, 15, -1, -3, -5, -15}, ejercicio_2(-15))\n",
        "        self.assertEqual({1, 2, 4, 8, 16, -1, -2, -4, -8, -16}, ejercicio_2(16))\n",
        "\n",
        "    def test_ejercicio_3(self):\n",
        "        self.assertEqual([], ejercicio_3([]))\n",
        "        self.assertEqual(sorted([(5, 3), (3, 2), (1, 1), (6, 2)]), sorted(ejercicio_3([5, 1, 3, 5, 6, 3, 5, 6])))\n",
        "        self.assertEqual(sorted([(\"Juan\", 2), (\"Pablo\", 1), (\"Ana\", 1)]), sorted(ejercicio_3([\"Juan\", \"Pablo\", \"Juan\", \"Ana\"])))\n",
        "\n",
        "    def test_ejercicio_4(self):\n",
        "        self.assertEqual((None, None), ejercicio_4([]))\n",
        "        self.assertEqual((67, -33), ejercicio_4([2, 5, 67, 34, -33, 3 , 4, 5, 2]))\n",
        "        self.assertEqual((47, -33), ejercicio_4([44, -33, 11, 22, 0, 42, 47, 12, 14]))\n",
        "\n",
        "\n",
        "unittest.main(argv=[''], verbosity=2, exit=False)\n"
      ],
      "metadata": {
        "id": "8k91LfmORCFc",
        "cellView": "form"
      },
      "execution_count": null,
      "outputs": []
    }
  ]
}