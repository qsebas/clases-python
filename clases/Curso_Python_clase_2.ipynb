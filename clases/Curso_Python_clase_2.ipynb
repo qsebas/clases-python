{
  "nbformat": 4,
  "nbformat_minor": 0,
  "metadata": {
    "colab": {
      "provenance": [],
      "toc_visible": true,
      "authorship_tag": "ABX9TyPVTTYQqAoyti3Er6n23Gy+",
      "include_colab_link": true
    },
    "kernelspec": {
      "name": "python3",
      "display_name": "Python 3"
    },
    "language_info": {
      "name": "python"
    }
  },
  "cells": [
    {
      "cell_type": "markdown",
      "metadata": {
        "id": "view-in-github",
        "colab_type": "text"
      },
      "source": [
        "<a href=\"https://colab.research.google.com/github/qsebas/clases-python/blob/main/clases/Curso_Python_clase_2.ipynb\" target=\"_parent\"><img src=\"https://colab.research.google.com/assets/colab-badge.svg\" alt=\"Open In Colab\"/></a>"
      ]
    },
    {
      "cell_type": "markdown",
      "source": [
        "# **Tipos Basicos - parte 3**\n",
        "\n",
        "> En la clase pasada dejamos algunos tipos básicos de lado que veremos a continuación:\n",
        "\n"
      ],
      "metadata": {
        "id": "eZRRf2tiU-wk"
      }
    },
    {
      "cell_type": "markdown",
      "source": [
        "## **dict**\n",
        "\n",
        "> la clase *dict* o *diccionarios* o *key-values* es una clase nativa de Python que guarda un mapeo entre claves y valor. Como claves, se puede usar cualquier cosa que sea inmutable y hasheable, lo más frecuente esutilizar **int** o **str** de clave, pero se podría por ejemplo utilizar una tupla de ints, pero no una lista de ints (la lista es mutable) ni una tupla de listas de ints (también por la tupla)\n",
        "\n",
        "* no necesariamente las claves de un mismo dict son del mismo tipo, ni tampoco sus valores, por ejemplo {1: \"Juan\", 2:\"pedro\", \"calle\": \"rivadavia\", \"piso\": 2 }, y pueden haber listas y dicts anidados {\"numero\": 23, \"items\": [{\"id\": 1}, {\"id\": 2}]}\n",
        "\n",
        "* los dict son muy similares a los json con la diferencia que un json es un string que deberá ser parseado para convertirse en un dict\n",
        "\n",
        "* los dits no pueden tener claves repetidas, siempre tomará la última definición de una clave como la válida, por eso:\n",
        "\n",
        ">> {1:\"Juan\", 2: \"Pedro\",1: \"Alberto\"} == {1: \"Alberto\", 2: \"Pedro\"}\n",
        "\n",
        "* la igualdad entre dicts se da si los elementos clave-valor son iguales sin importar el orden\n"
      ],
      "metadata": {
        "id": "lTyfsQf1n-1Z"
      }
    },
    {
      "cell_type": "code",
      "source": [
        "print({1: \"Juan\", 2:\"pedro\", \"calle\": \"rivadavia\", \"piso\": 2 })  # no todas las claves ni los valores deben ser del mismo tipo\n",
        "\n",
        "print({1:\"Juan\", 2: \"Pedro\",1: \"Alberto\"} == {1: \"Alberto\", 2: \"Pedro\"})  # son iguales, el lado izquierdo tiene 2 con clave 1, y son fusionados\n",
        "print({1:\"Juan\", 2: \"Pedro\",1: \"Alberto\"}[1])  # no pueden haber 2 elementos con la misma clavem el segundo pisa el primero\n",
        "persona = {\"nombre\":\"Juan\", \"apellido\": \"Perez\",\"telefonos\": [{\"id\":1, \"numero\":\"4555-3344\"}, {\"id\":2, \"numero\":\"4555-4433\"}]}\n",
        "print(f'los telefonos de {persona[\"apellido\"].upper()}, {persona[\"nombre\"]} son {persona[\"telefonos\"]}')  # ya veremos como \"emprolijar\" el print de teléfonos \n"
      ],
      "metadata": {
        "id": "LaHQZQkOSXX6"
      },
      "execution_count": null,
      "outputs": []
    },
    {
      "cell_type": "markdown",
      "source": [
        "> ### **constructores**\n",
        "> * directamente utilizando el literal {k1: v1 ,k2: v2 ,k3: v3}\n",
        "> * el literal {} representa el dict vacío\n",
        "> * parámetros con nombre dict(v1=\"valor 1\", v2=\"valor 2\")\n",
        ">> transformará a {\"v1\": \"valor 1\", \"v2\": \"valor 2\"}\n",
        "> * un iterador de duplas dict([(1, \"valor 1\"), (2, \"valor 2\")])\n",
        ">> transformará a {1: \"valor 1\", 2: \"valor 2\"}\n"
      ],
      "metadata": {
        "id": "pzjcglSpnRpQ"
      }
    },
    {
      "cell_type": "code",
      "source": [
        "print(dict(v1=\"valor 1\", v2=\"valor 2\") == {\"v1\": \"valor 1\", \"v2\": \"valor 2\"})\n",
        "print(dict([(1, \"valor 1\"), (2, \"valor 2\")]) == {1: \"valor 1\", 2: \"valor 2\"}) "
      ],
      "metadata": {
        "id": "DAqKhr4TqNW9"
      },
      "execution_count": null,
      "outputs": []
    },
    {
      "cell_type": "markdown",
      "source": [
        "### **operadores**\n",
        "\n",
        ">*  [key] Index operator, devuelve el value correspondiete a la key, tira excepción si no existe esa key\n",
        "*  | Merge (Union)\n",
        "*  |= Update (equivalente a .update)\n",
        "*  == igualdad\n",
        "*  != desigualdad\n",
        "\n",
        "> el merge o union va a fusionar dos dicts, con los key-values de ambos, en caso de que una key se repite, queda el valor de la segunda ocurrencia, por este motivo no necesariamente es lo mismo hacer A | B que B | A"
      ],
      "metadata": {
        "id": "oiCGeRIEoH7D"
      }
    },
    {
      "cell_type": "code",
      "source": [
        "mi_dict = {1: \"valor 1\", 2: \"valor 2\"}\n",
        "print(mi_dict[2])\n",
        "mi_dict = {\"nombre\": \"Juan\", \"apellido\": \"Perez\"}\n",
        "print(mi_dict[\"apellido\"])\n",
        "\n",
        "A = {1: \"valor 1\", 2: \"valor 2\"}\n",
        "B = {1: \"otro valor 1\", 3: \"valor 3\"}\n",
        "print(A | B)  # \"otro valor 1\" pisa \"valor 1\"\n",
        "print(B | A)  # \"valor 1\" pisa \"otro valor 1\"\n",
        "\n",
        "A |= B  # eso hace A | B y se lo asigna a A \n",
        "print(A)"
      ],
      "metadata": {
        "id": "kzuYFmOsrajP"
      },
      "execution_count": null,
      "outputs": []
    },
    {
      "cell_type": "markdown",
      "source": [
        "\n",
        "### **métodos de la clase dict**\n",
        "> *  **d.update(b)** agrega todos los k-v de **b** en **d**, pisando losde key repetidos\n",
        "* **d.get(key)** es equivalente a **d[key]**, pero en caso de no encontrar devuelve None  \n",
        "* **d.get(key, default)** es equivalente a **d[key]**, pero en caso de no encontrar devuelve el segundo parámetro\n",
        "* **d.pop(key)** modifica el dict original eliminando el k-v correspondiente y a su vez devuelve el value correspondiente a la key\n",
        "* **d.popitem()** elimina el último k-v insertado, y lo devuelve\n",
        "* **d.keys()** devuelve una lista de todos los keys\n",
        "* **d.values()** devuelve una lista de todos los values\n",
        "* **d.items()** devuelve una lista de duplas de todos los key-values\n",
        "* **d-clear()** elimina todos los k-v\n"
      ],
      "metadata": {
        "id": "JRoPLhpnRL9h"
      }
    },
    {
      "cell_type": "code",
      "source": [
        "a = {\"nombre\": \"Juan\", \"apellido\": \"Perez\"}\n",
        "# print(a[\"edad\"])  # rompe porque no existe la key\n",
        "print(a.get(\"edad\", 23))  # como no existe la key, devuelve el valor default, pasado por parametro\n",
        "print(a.get(\"edad\"))  # como no existe la key, devuelve None, pero no explota\n",
        "print(a.pop(\"apellido\"))  # esto hace 2 cosas, devuelve el value de \"apellido\" y a la vez saca el key-value del dict\n",
        "print(a)  # como en el paso anterior sacamos el apellido solo queda en nombre"
      ],
      "metadata": {
        "id": "qJxv-SmzxB2P"
      },
      "execution_count": null,
      "outputs": []
    },
    {
      "cell_type": "markdown",
      "source": [
        "### **funciones nativas de dict**\n",
        "> * **len(d)** devuelve la longitud del dict\n",
        "* **max(d), min(d)**, devuelve la minima o maxima keys, en ese caso todas las keys tienen que ser del mismo tipo y comparables\n"
      ],
      "metadata": {
        "id": "Qp1bBhy_ogq2"
      }
    },
    {
      "cell_type": "code",
      "source": [
        "d = {100: \"nombre\", 200: [\"esto\", \"es\", \"una\", \"lista\"], 300: {1: \"dict\", 2: \"anidado\"}}\n",
        "print(len(d))\n",
        "print(max(d))\n",
        "print(min(d))"
      ],
      "metadata": {
        "id": "jM0Ag1GluVyB"
      },
      "execution_count": null,
      "outputs": []
    },
    {
      "cell_type": "markdown",
      "source": [
        "## **set**"
      ],
      "metadata": {
        "id": "iOf2_4dRSi6s"
      }
    },
    {
      "cell_type": "markdown",
      "source": [
        "## **range**\n"
      ],
      "metadata": {
        "id": "6vNQb702e-nO"
      }
    },
    {
      "cell_type": "code",
      "source": [],
      "metadata": {
        "id": "XYI-P4lMu7k7"
      },
      "execution_count": null,
      "outputs": []
    },
    {
      "cell_type": "code",
      "source": [],
      "metadata": {
        "id": "fQk8e1TFvAvd"
      },
      "execution_count": null,
      "outputs": []
    },
    {
      "cell_type": "markdown",
      "source": [],
      "metadata": {
        "id": "PUfL3VcAvBOX"
      }
    },
    {
      "cell_type": "code",
      "source": [],
      "metadata": {
        "id": "Ap1sXn5GmtmL"
      },
      "execution_count": null,
      "outputs": []
    },
    {
      "cell_type": "markdown",
      "source": [
        "# **Bloques condicionales**\n",
        "\n"
      ],
      "metadata": {
        "id": "x7QmqHyNvH9t"
      }
    },
    {
      "cell_type": "markdown",
      "source": [
        "## **bloque if**\n",
        "\n",
        "> \n",
        "\n",
        "## **bloques elif**\n"
      ],
      "metadata": {
        "id": "liCvZlwqDeEZ"
      }
    },
    {
      "cell_type": "markdown",
      "source": [
        "## **if en una linea**\n",
        "> "
      ],
      "metadata": {
        "id": "PxtAz8nYDkVI"
      }
    },
    {
      "cell_type": "code",
      "source": [],
      "metadata": {
        "id": "IWNMpNQDvJQc"
      },
      "execution_count": null,
      "outputs": []
    },
    {
      "cell_type": "markdown",
      "source": [
        "# **Bloques de ciclos**\n",
        "\n",
        "## **While loop**\n",
        "\n",
        "## **for loop**\n"
      ],
      "metadata": {
        "id": "s1FtMArRvQVP"
      }
    },
    {
      "cell_type": "markdown",
      "source": [
        "## **Ciclos en una línea, listas por comprensión**"
      ],
      "metadata": {
        "id": "K2G3qo7CvW3c"
      }
    },
    {
      "cell_type": "markdown",
      "source": [
        "# **Funciones Lambda**"
      ],
      "metadata": {
        "id": "ySlh0C6UYwZ0"
      }
    },
    {
      "cell_type": "markdown",
      "source": [
        "# **Ejercicios**\n",
        "\n",
        "> ## Ejercicio 1\n",
        ">> definir una funcion que reciba por parámetro un nombre (string) y devuelva un string que diga \"Hola NOMBRE buen día\" (remplazando NOMBRE por el nombre que recibió por parámetro pasado completamente a mayúsculas\n",
        "\n",
        "> por ejemplo si la entrada es **Pablo Gomez** la respuesta será \"Hola PABLO GOMEZ buen día\" \n",
        "\n",
        "> ## Ejercicio 2\n",
        ">> devolver un str que sea de 3 letras, la primera correspondiente a la primerletra de la entrada, la segunda correspondiente a la letra del medio(en caso de cantidad par de elementos tomaremos la mitad como el segundo de los dos elementos centrales) y la tercera con la última letra de mi cadena de entrada, suponer que la entrada no puede venir con el string vacio\n",
        "\n",
        ">> ejemplo si la entrada fuera \"abcdef\" la respuesta deberia ser \"adf\"\n",
        "\n",
        "> ## Ejercicio 3\n",
        ">> dado un string que contiene palabras (separadas por un solo escpacio) devolver un string que sea la reversa de la frase , pero manteniendo cada palabra intacta\n",
        "\n",
        ">> ejemplo si la entrada fuera \"hola que tal\" la respuesta deberia ser \"tal que hola\"\n",
        "\n",
        ">> se puede asumir que solo hay un espacio entre palabras, y que no hay espacios a la izquierda ni derecha\n",
        "\n",
        "\n",
        "> ## Ejercicio 4\n",
        ">> dado un string que contiene palabras (separadas por un solo escpacio) devolver un string que mantenga el orden de las palabras pero cada palabra est'e dada vuelta\n",
        "\n",
        ">> ejemplo si la entrada fuera \"hola que tal\" la respuesta deberia ser \"aloh euq lat\"\n",
        "\n",
        ">> se puede asumir que solo hay un espacio entre palabras, y que no hay espacios a la izquierda ni derecha\n"
      ],
      "metadata": {
        "id": "Yb7kqZTTQbID"
      }
    },
    {
      "cell_type": "code",
      "source": [
        "\n",
        "def ejercicio_1(nombre):\n",
        "  return \"\"\n",
        "\n",
        "print(\"Prueba ejercicio 1:\", ejercicio_1(\"Juan Perez\"))\n",
        "\n",
        "def ejercicio_2(texto):\n",
        "  return \"\"\n",
        "\n",
        "print(\"Prueba ejercicio 2:\", ejercicio_2(\"Juan Perez\"))\n",
        "\n",
        "def ejercicio_3(texto):\n",
        "  return \"\"\n",
        "\n",
        "print(\"Prueba ejercicio 3:\", ejercicio_3(\"Juan Perez\"))\n",
        "\n",
        "\n",
        "def ejercicio_4(texto):\n",
        "  return \"\"\n",
        "\n",
        "print(\"Prueba ejercicio 4:\", ejercicio_4(\"Juan Perez\"))\n"
      ],
      "metadata": {
        "id": "UDOAaJ9zqCCZ"
      },
      "execution_count": null,
      "outputs": []
    },
    {
      "cell_type": "code",
      "source": [
        "\n",
        "import unittest\n",
        "import inspect\n",
        "\n",
        "def tiene_ciclo(ejercicio):\n",
        "  sc = [ line for line in inspect.getsource(ejercicio).splitlines() if line and line.lstrip()[0] != \"#\"]\n",
        "  return True in [\" for \" in line for line in sc]\n",
        "\n",
        "\n",
        "class TestNotebook(unittest.TestCase):\n",
        "\n",
        "    def test_ejercicio_1(self):\n",
        "        self.assertEqual(\"Hola  buen día\", ejercicio_1(\"\") )\n",
        "        self.assertEqual(\"Hola PABLO GOMEZ buen día\", ejercicio_1(\"Pablo Gomez\") )\n",
        "        self.assertEqual(\"Hola POMPIN EL CONEJO buen día\", ejercicio_1(\"pOmPin eL ConEjO\") )\n",
        "        self.assertFalse(tiene_ciclo(ejercicio_1), msg=\"\\033[91mLa función debe escribirse sin usar ciclos\\033[90m\")\n",
        "\n",
        "    def test_ejercicio_2(self):\n",
        "        self.assertEqual(\"aaa\", ejercicio_2(\"a\"))\n",
        "        self.assertEqual(\"abb\", ejercicio_2(\"ab\"))\n",
        "        self.assertEqual(\"adf\", ejercicio_2(\"abcdef\"))\n",
        "        self.assertFalse(tiene_ciclo(ejercicio_2), msg=\"\\033[91mLa función debe escribirse sin usar ciclos\\033[90m\")\n",
        "        \n",
        "    def test_ejercicio_3(self):\n",
        "        self.assertEqual(\"\", ejercicio_3(\"\"))\n",
        "        self.assertEqual(\"tal que hola\", ejercicio_3(\"hola que tal\"))\n",
        "        self.assertEqual(\"pedro\", ejercicio_3(\"pedro\"))\n",
        "        self.assertFalse(tiene_ciclo(ejercicio_3), msg=\"\\033[91mLa función debe escribirse sin usar ciclos\\033[90m\")\n",
        "        \n",
        "    def test_ejercicio_4(self):\n",
        "        self.assertEqual(\"\", ejercicio_4(\"\"))\n",
        "        self.assertEqual(\"aloh euq lat\", ejercicio_4(\"hola que tal\"))\n",
        "        self.assertEqual(\"ordep\", ejercicio_4(\"pedro\"))\n",
        "        self.assertFalse(tiene_ciclo(ejercicio_4), msg=\"\\033[91mLa función debe escribirse sin usar ciclos\\033[90m\")\n",
        "\n",
        "\n",
        "unittest.main(argv=[''], verbosity=2, exit=False)\n"
      ],
      "metadata": {
        "id": "8k91LfmORCFc"
      },
      "execution_count": null,
      "outputs": []
    }
  ]
}