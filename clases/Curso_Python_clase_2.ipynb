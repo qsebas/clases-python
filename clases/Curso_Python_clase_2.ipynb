{
  "nbformat": 4,
  "nbformat_minor": 0,
  "metadata": {
    "colab": {
      "provenance": [],
      "toc_visible": true,
      "authorship_tag": "ABX9TyNbRHsSVHs6fDpUbVy+O1HM",
      "include_colab_link": true
    },
    "kernelspec": {
      "name": "python3",
      "display_name": "Python 3"
    },
    "language_info": {
      "name": "python"
    }
  },
  "cells": [
    {
      "cell_type": "markdown",
      "metadata": {
        "id": "view-in-github",
        "colab_type": "text"
      },
      "source": [
        "<a href=\"https://colab.research.google.com/github/qsebas/clases-python/blob/main/clases/Curso_Python_clase_2.ipynb\" target=\"_parent\"><img src=\"https://colab.research.google.com/assets/colab-badge.svg\" alt=\"Open In Colab\"/></a>"
      ]
    },
    {
      "cell_type": "markdown",
      "source": [
        "# **Tipos Basicos - parte 3**\n",
        "\n",
        "En la clase pasada dejamos algunos tipos básicos de lado que veremos a continuación:\n",
        "\n"
      ],
      "metadata": {
        "id": "eZRRf2tiU-wk"
      }
    },
    {
      "cell_type": "markdown",
      "source": [
        "## **dict**\n",
        "\n",
        "> la clase *dict* o *diccionarios* o *key-values* es una clase nativa de Python que guarda un mapeo entre claves y valor. Como claves, se puede usar cualquier cosa que sea inmutable y hasheable, lo más frecuente esutilizar **int** o **str** de clave, pero se podría por ejemplo utilizar una tupla de ints, pero no una lista de ints (la lista es mutable) ni una tupla de listas de ints (también por la tupla)\n",
        "\n",
        "* no necesariamente las claves de un mismo dict son del mismo tipo, ni tampoco sus valores, por ejemplo {1: \"Juan\", 2:\"pedro\", \"calle\": \"rivadavia\", \"piso\": 2 }, y pueden haber listas y dicts anidados {\"numero\": 23, \"items\": [{\"id\": 1}, {\"id\": 2}]}\n",
        "\n",
        "* los dict son muy similares a los json con la diferencia que un json es un string que deberá ser parseado para convertirse en un dict\n",
        "\n",
        "* los dits no pueden tener claves repetidas, siempre tomará la última definición de una clave como la válida, por eso:\n",
        "\n",
        ">> {1:\"Juan\", 2: \"Pedro\",1: \"Alberto\"} == {1: \"Alberto\", 2: \"Pedro\"}\n",
        "\n",
        "* la igualdad entre dicts se da si los elementos clave-valor son iguales sin importar el orden\n"
      ],
      "metadata": {
        "id": "lTyfsQf1n-1Z"
      }
    },
    {
      "cell_type": "code",
      "source": [
        "print({1: \"Juan\", 2:\"pedro\", \"calle\": \"rivadavia\", \"piso\": 2 })  # no todas las claves ni los valores deben ser del mismo tipo\n",
        "\n",
        "print({1:\"Juan\", 2: \"Pedro\",1: \"Alberto\"} == {1: \"Alberto\", 2: \"Pedro\"})  # son iguales, el lado izquierdo tiene 2 con clave 1, y son fusionados\n",
        "print({1:\"Juan\", 2: \"Pedro\",1: \"Alberto\"}[1])  # no pueden haber 2 elementos con la misma clavem el segundo pisa el primero\n",
        "persona = {\"nombre\":\"Juan\", \"apellido\": \"Perez\",\"telefonos\": [{\"id\":1, \"numero\":\"4555-3344\"}, {\"id\":2, \"numero\":\"4555-4433\"}]}\n",
        "print(f'los telefonos de {persona[\"apellido\"].upper()}, {persona[\"nombre\"]} son {persona[\"telefonos\"]}')  # ya veremos como \"emprolijar\" el print de teléfonos \n"
      ],
      "metadata": {
        "id": "LaHQZQkOSXX6"
      },
      "execution_count": null,
      "outputs": []
    },
    {
      "cell_type": "markdown",
      "source": [
        "> ### **constructores**\n",
        "> * directamente utilizando el literal {k1: v1 ,k2: v2 ,k3: v3}\n",
        "> * el literal {} representa el dict vacío\n",
        "> * parámetros con nombre dict(v1=\"valor 1\", v2=\"valor 2\")\n",
        ">> transformará a {\"v1\": \"valor 1\", \"v2\": \"valor 2\"}\n",
        "> * un iterador de duplas dict([(1, \"valor 1\"), (2, \"valor 2\")])\n",
        ">> transformará a {1: \"valor 1\", 2: \"valor 2\"}\n"
      ],
      "metadata": {
        "id": "pzjcglSpnRpQ"
      }
    },
    {
      "cell_type": "code",
      "source": [
        "print(dict(v1=\"valor 1\", v2=\"valor 2\") == {\"v1\": \"valor 1\", \"v2\": \"valor 2\"})\n",
        "print(dict([(1, \"valor 1\"), (2, \"valor 2\")]) == {1: \"valor 1\", 2: \"valor 2\"}) "
      ],
      "metadata": {
        "id": "DAqKhr4TqNW9"
      },
      "execution_count": null,
      "outputs": []
    },
    {
      "cell_type": "markdown",
      "source": [
        "### **operadores**\n",
        "\n",
        ">*  [key] Index operator, devuelve el value correspondiete a la key, tira excepción si no existe esa key\n",
        "*  | Merge (Union)\n",
        "*  |= Update (equivalente a .update)\n",
        "*  == igualdad\n",
        "*  != desigualdad\n",
        "\n",
        "> el merge o union va a fusionar dos dicts, con los key-values de ambos, en caso de que una key se repite, queda el valor de la segunda ocurrencia, por este motivo no necesariamente es lo mismo hacer A | B que B | A"
      ],
      "metadata": {
        "id": "oiCGeRIEoH7D"
      }
    },
    {
      "cell_type": "code",
      "source": [
        "mi_dict = {1: \"valor 1\", 2: \"valor 2\"}\n",
        "print(mi_dict[2])\n",
        "mi_dict = {\"nombre\": \"Juan\", \"apellido\": \"Perez\"}\n",
        "print(mi_dict[\"apellido\"])\n",
        "\n",
        "A = {1: \"valor 1\", 2: \"valor 2\"}\n",
        "B = {1: \"otro valor 1\", 3: \"valor 3\"}\n",
        "print(A | B)  # \"otro valor 1\" pisa \"valor 1\"\n",
        "print(B | A)  # \"valor 1\" pisa \"otro valor 1\"\n",
        "\n",
        "A |= B  # eso hace A | B y se lo asigna a A \n",
        "print(A)"
      ],
      "metadata": {
        "id": "kzuYFmOsrajP"
      },
      "execution_count": null,
      "outputs": []
    },
    {
      "cell_type": "markdown",
      "source": [
        "\n",
        "### **métodos de la clase dict**\n",
        "> *  **d.update(b)** agrega todos los k-v de **b** en **d**, pisando losde key repetidos\n",
        "* **d.get(key)** es equivalente a **d[key]**, pero en caso de no encontrar devuelve None  \n",
        "* **d.get(key, default)** es equivalente a **d[key]**, pero en caso de no encontrar devuelve el segundo parámetro\n",
        "* **d.pop(key)** modifica el dict original eliminando el k-v correspondiente y a su vez devuelve el value correspondiente a la key\n",
        "* **d.popitem()** elimina el último k-v insertado, y lo devuelve\n",
        "* **d.keys()** devuelve una lista de todos los keys\n",
        "* **d.values()** devuelve una lista de todos los values\n",
        "* **d.items()** devuelve una lista de duplas de todos los key-values\n",
        "* **d-clear()** elimina todos los k-v\n"
      ],
      "metadata": {
        "id": "JRoPLhpnRL9h"
      }
    },
    {
      "cell_type": "code",
      "source": [
        "a = {\"nombre\": \"Juan\", \"apellido\": \"Perez\"}\n",
        "# print(a[\"edad\"])  # rompe porque no existe la key\n",
        "print(a.get(\"edad\", 23))  # como no existe la key, devuelve el valor default, pasado por parametro\n",
        "print(a.get(\"edad\"))  # como no existe la key, devuelve None, pero no explota\n",
        "print(a.pop(\"apellido\"))  # esto hace 2 cosas, devuelve el value de \"apellido\" y a la vez saca el key-value del dict\n",
        "print(a)  # como en el paso anterior sacamos el apellido solo queda en nombre"
      ],
      "metadata": {
        "id": "qJxv-SmzxB2P"
      },
      "execution_count": null,
      "outputs": []
    },
    {
      "cell_type": "markdown",
      "source": [
        "### **funciones nativas de dict**\n",
        "> * **len(d)** devuelve la longitud del dict\n",
        "* **max(d), min(d)**, devuelve la minima o maxima keys, en ese caso todas las keys tienen que ser del mismo tipo y comparables\n"
      ],
      "metadata": {
        "id": "Qp1bBhy_ogq2"
      }
    },
    {
      "cell_type": "code",
      "source": [
        "d = {100: \"nombre\", 200: [\"esto\", \"es\", \"una\", \"lista\"], 300: {1: \"dict\", 2: \"anidado\"}}\n",
        "print(len(d))\n",
        "print(max(d))\n",
        "print(min(d))"
      ],
      "metadata": {
        "id": "jM0Ag1GluVyB"
      },
      "execution_count": null,
      "outputs": []
    },
    {
      "cell_type": "markdown",
      "source": [
        "## **set**\n",
        "\n",
        "> la clase **set** es una clase que representa conjuntos, el literal para armarlo es igual que el de dict **{ , , , }** pero cada elemento no tiene el separador de key-value **:**. Hay que tener cuidado porque el conjunto vacío no se escribe con el literal {} porque el compilador lo interpreta como el dict vacío. Para representar el conjunto vacío se usa el constructor **set()**\n",
        "\n",
        "> los sets tienen algunas particularidades:\n",
        "> * no hay órden, no se puede predecir en que órden va a recorrerse, y los sets son \"iguales\" si todos los elementos lo son aunque en distinto órden\n",
        "* no hay elementos repetidos, en caso de volver a agregar un elemento que ya estaba, simlpemente sigue siendo el mismo set\n",
        "\n",
        "> tienen los mismos operadores de merge que los dicts y tiene varios métodos naturales de conjuntos:\n",
        "+ .clear()\n",
        "+ .add(elemento) modifica el conjunto original pero devuelve None\n",
        "+ .intersection(conjunto)  devuelve la interseccion de los dos conjutnos\n",
        "+ .issubset(conjutno)\n",
        "+ .union(conjunto)\n",
        "\n",
        "> también hay funciones como len(), max() y min() que pueden aplicarse a los conjuntos"
      ],
      "metadata": {
        "id": "iOf2_4dRSi6s"
      }
    },
    {
      "cell_type": "code",
      "source": [
        "print({100, 200, 500} == {500, 200, 100})\n",
        "print({100, 100, 200, 200, 300})\n",
        "a = {100, 200}\n",
        "a.add(600)  # modifica el set original, pero devuelve None, no se puede hacer print(a.add(600))\n",
        "a.add(100)  # ya tiene el elemento 100 por lo que no agrega nada\n",
        "print(a)\n",
        "\n",
        "print(a.intersection({100, 200, 800}))  # esto devuelve la intersección"
      ],
      "metadata": {
        "id": "4sef8FpU-_Ko"
      },
      "execution_count": null,
      "outputs": []
    },
    {
      "cell_type": "markdown",
      "source": [
        "## **range**\n",
        "\n",
        "> Existe otro tipo de secuencias, llamado **range** representa un rango de numeros, de manera iterable, y sirve en combinación con los bloques for para poder ciclar por un rango de números\n",
        "> por ejemplo:\n",
        "+ range(100) son todos los numeros de 0 a 99 (inclusives)\n",
        "+ range(3, 8) son los numeros de 3 a 7 (inclusives)\n",
        "+ range(3, 8, 2) son los numeros desde 3 a 7 pero saltando de 2 en 2 (o sea 3, 5 y 7)\n",
        "\n",
        "> el objeto iterable se va calculando a medida que se lo itera, por lo que imprimirlo directamente mostrará el objeto iterable, y no la lista. \n",
        "\n",
        "> se puede castear como lista y eso si se puede imprimir\n",
        "\n",
        "> al igual que las secuencias se le pueden aplicar los operadores de slicing, que en caso de devolver mas de un elemento, devolverá un range\n"
      ],
      "metadata": {
        "id": "6vNQb702e-nO"
      }
    },
    {
      "cell_type": "code",
      "source": [
        "print(list(range(3, 8, 2)))\n",
        "print(range(3,200))\n",
        "print(range(10, 100)[3])  # devuelve el 3er elemento del rango, o sea 13 \n",
        "\n",
        "range(10, 100)[3:10]  # devuelve un nuevo rango desde la 3era \"posicion\" hasta \n",
        "                      # la 10ma posicion del rango anterior, o sea de 13 a 20 "
      ],
      "metadata": {
        "id": "XYI-P4lMu7k7"
      },
      "execution_count": null,
      "outputs": []
    },
    {
      "cell_type": "markdown",
      "source": [
        "# **Bloques condicionales**\n",
        "\n",
        "Para control de flujo de código existe la directiva **if** que permite evaluar una condición para saber si se ejecuta un blque de código, también las directivas **else** y **elsif** para ejecutar código si esa condición no se cumple. La condición puede ser un booleano (True o False) o se puede preguntar por una lista, un objeto o un numero, en caso de ser 0, \"vacío\" o \"None\" es equivalente a falso y no zero, ni vacío ni None es verdadero\n"
      ],
      "metadata": {
        "id": "x7QmqHyNvH9t"
      }
    },
    {
      "cell_type": "markdown",
      "source": [
        "## **bloque if**\n",
        "\n",
        "> solo se ejecuta el bloque (definido por la identación) en caso de ser verdadera la condición (notar los dos puntos luego de la condición)\n",
        "\n",
        "```python\n",
        "if condicion:\n",
        "  sentencia_1\n",
        "  sentencia_2\n",
        "```\n",
        "\n",
        "> la directiva **else** permite ejecutar código si la condición no se cumple (notar los dos puntos luego del else)\n",
        "\n",
        "```python\n",
        "if condicion:\n",
        "  sentencia_1\n",
        "  sentencia_2\n",
        "else:\n",
        "  sentencia_3\n",
        "  sentencia_4\n",
        "```\n",
        "\n",
        ">se pueden anidar los bloques condicionales\n",
        "\n",
        "```python\n",
        "if condicion_1:\n",
        "  if cond_2:\n",
        "    sentencia_1\n",
        "    sentencia_2\n",
        "  else:\n",
        "    s_3\n",
        "    s_4\n",
        "else:\n",
        "  if cond_3:\n",
        "    s_5\n",
        "  else:\n",
        "    s_6\n",
        "```\n"
      ],
      "metadata": {
        "id": "liCvZlwqDeEZ"
      }
    },
    {
      "cell_type": "markdown",
      "source": [
        "\n",
        "## **bloques elif**\n",
        "\n",
        "> en python hasta la versión 3.10 no existían los bloques switch/case y algo parecido se podía lograr con la directiva **elif**, que quiere decir **else if** y es equivalente a tener un if dentro de un else anidados...o sea, que solo se evalua el if, si no se cumplió la (o las) condiciones anteriores.\n",
        "\n",
        "\n",
        "```python\n",
        "if condicion_1:\n",
        "  sentencia_1\n",
        "elif cond_2:\n",
        "  sentencia_2\n",
        "elif cond_3:\n",
        "  sentencia_3\n",
        "else:\n",
        "  sentencia_4  # esto se ejecuta si ninguna de las ateriores se ejecutó\n",
        "```\n"
      ],
      "metadata": {
        "id": "gac3YotzXMEr"
      }
    },
    {
      "cell_type": "code",
      "source": [
        "a = [4, 5, 6]\n",
        "\n",
        "if a:\n",
        "  print(a)\n",
        "else:\n",
        "  print(\"lista vacía\")  # no se imprime por que a no es vacía\n",
        "\n",
        "if len(a) > 2 and len(a) < 5:\n",
        "  print(a)\n",
        "else:\n",
        "  print(\"lista vacía\")  # no se imprime por que a no es vacía\n",
        "\n",
        "\n",
        "b = 1\n",
        "if b < 0:\n",
        "  print(\"no existen las posiciones negativas en las listas\")\n",
        "elif b < 3:\n",
        "  print(a[b])\n",
        "else:\n",
        "  print(\"no existen ese elemento en la lista\")\n",
        "\n",
        "  "
      ],
      "metadata": {
        "id": "f20ziJyqZffV"
      },
      "execution_count": null,
      "outputs": []
    },
    {
      "cell_type": "markdown",
      "source": [
        "## **if en una linea / if como función**\n",
        "\n",
        "> se puede escribir una linea de if (y su else) en una sola línea, pero hay una diferencia, es que se interpreta como si fuera una función y puede usarse a su vez como booleano, o asignarse a una variable.\n",
        "\n",
        "> la sintaxis es\n",
        "```python\n",
        "valor_en_caso_de_true if condicion else valor_en_caso_de_false\n",
        "```\n",
        "\n",
        "> por ejemplo:\n",
        "```python\n",
        "a = 30 \n",
        "b = 0 if a > 100 else a - 1\n",
        "```\n",
        "\n",
        "> notar en el caso anterior que a b se le asigna toda la sentencia if que va desde 0 hasta el -1 seria equivalente a:\n",
        "```python\n",
        "a = 30 \n",
        "b = (0 if a > 100 else a - 1)\n",
        "```\n",
        "\n",
        "> en este caso no se ejecutan bloques de sentencias, sino que se devuelven resultados, en nuestor ejemplo sería \"devolver 0 si a es mayor que 100, y sino, devolver a - 1\". Estos If son funcionales."
      ],
      "metadata": {
        "id": "PxtAz8nYDkVI"
      }
    },
    {
      "cell_type": "code",
      "source": [
        "a = 30 \n",
        "b = 0 if a > 100 else a - 1\n",
        "print(b)"
      ],
      "metadata": {
        "id": "IWNMpNQDvJQc"
      },
      "execution_count": null,
      "outputs": []
    },
    {
      "cell_type": "markdown",
      "source": [
        "# **Bloques de ciclos**\n"
      ],
      "metadata": {
        "id": "s1FtMArRvQVP"
      }
    },
    {
      "cell_type": "markdown",
      "source": [
        "## **while loop**\n",
        "\n",
        "> se pueden hacer ciclos con while:\n",
        "```python\n",
        "while condicion:\n",
        "  sentencia_1\n",
        "  sentencia_2\n",
        "```\n",
        "> Esto ejecutará el bloque una y otra vez mientras la condición sea verdadera. Hay que prestar atención para que la condición en algún momento de falso, porque sino el ciclo nunca termina\n",
        "```python\n",
        "while True:  # nunca termina\n",
        "  print(\"hola\")\n",
        "```\n",
        "```python\n",
        "a = {\"nombre\": \"Juan\", \"apellido\": \"Perez\", \"teléfonos\": [\"4444-5555\", \"4444-5556\"]}\n",
        "while a:\n",
        "  item = a.popitem()  # al hacer popitem(), la lista decrece en cada iteración. Cuando sea [] se corta el ciclo\n",
        "  print(f'k: {item[0]}, v: {item[1]}')\n",
        "```\n",
        "```python\n",
        "a = 10\n",
        "while a:\n",
        "  print(a)\n",
        "  a -= 1  # al decrecer a, en algún momento valdrá 0 y se cortará el ciclo\n",
        "```"
      ],
      "metadata": {
        "id": "1_H0J6VCrURM"
      }
    },
    {
      "cell_type": "code",
      "source": [
        "a = {\"nombre\": \"Juan\", \"apellido\": \"Perez\", \"teléfonos\": [\"4444-5555\", \"4444-5556\"]}\n",
        "while a:\n",
        "  item = a.popitem()    # al hacer popitem(), la lista decrece en cada iteración. Cuando sea [] se corta el ciclo\n",
        "  print(f'k: {item[0]}, v: {item[1]}')\n",
        "\n",
        "a = 10\n",
        "while a:\n",
        "  print(a)\n",
        "  a -= 1  # al decrecer a, en algún momento valdrá 0 y se cortará el ciclo\n"
      ],
      "metadata": {
        "id": "_xYhJbijuRmH"
      },
      "execution_count": null,
      "outputs": []
    },
    {
      "cell_type": "markdown",
      "source": [
        "## **for loop**\n",
        "\n",
        "> otra forma de hacer un ciclo es con la directiva **for**:\n",
        "```python\n",
        "for item in iterador:\n",
        "  sentencia_1\n",
        "  sentencia_2\n",
        "```\n",
        "\n",
        "> las sentencias en el bloque serán ejecutada por cada elemento del iterador, y cada ejecución se asignará a la variable item (o como se llame) dicho elemento \n",
        "```python\n",
        "l = [5, 3, 5, 6]\n",
        "for a in l:\n",
        "  print(a)\n",
        "```\n",
        "\n",
        "> el típico caso de ciclar con un valor entre 0 y 100 (y sus variaciones) se hace con range\n",
        "```python\n",
        "for x in range(100):\n",
        "  print(x)\n",
        "```\n",
        "\n",
        "> en caso de querer de ejecutar una cantidad de veces pero no me interesa la variable, se suele usar el nombre de variable \"_\" que es válido como cualquier otro nombre, pero se interpreta como \"no me interesa este valor\" \n",
        "```python\n",
        "for _ in range(100):\n",
        "  print(\"hola\")\n",
        "```"
      ],
      "metadata": {
        "id": "ECxcNoPLraNU"
      }
    },
    {
      "cell_type": "code",
      "source": [
        "l = [5, 3, 5, 6]\n",
        "for a in l:\n",
        "  print(a)\n",
        "\n",
        "print()\n",
        "\n",
        "for x in range(10):\n",
        "  print(x)\n",
        "\n",
        "print()\n",
        "\n",
        "for _ in range(10):\n",
        "  print(\"hola\")"
      ],
      "metadata": {
        "id": "DaOblYED2HDg"
      },
      "execution_count": null,
      "outputs": []
    },
    {
      "cell_type": "markdown",
      "source": [
        "## **Ciclos en una línea / listas por comprensión**\n",
        "\n",
        "> Si se quiere escribir un for en una sola línea existen dos posibilidades:\n",
        "\n",
        "+ Una muy similar al for, pero escrita en una sola linea, para ejecutar una sola sentencia\n",
        "```python\n",
        "    for x in range(10): print(x)\n",
        "```\n",
        "\n",
        "+ y la muy \"pytónica\" escritura de _\"listas por combrensión\"_ aunque conceptualmente no ejecutara sentencias de código sino que construirá una lista\n",
        "```python\n",
        "    print([funcion(x) for x in iterador])\n",
        "```\n",
        "\n",
        "> por ejemplo:\n",
        "```python\n",
        "    print([x for x in range(10)])\n",
        "```\n",
        "\n",
        "> no necesariamente se agrega el elemento, puede llamarse a una función en base al elemento\n",
        "\n",
        "> tambien se puede definir un set por comprensión\n",
        "```python\n",
        "    print({x for x in range(10)})\n",
        "```\n",
        "\n",
        "\n",
        "```python\n",
        "    d = {\"nombre\": \"Juan\", \"apellido\": \"Perez\", \"teléfonos\": [\"4444-5555\", \"4444-5556\"]}\n",
        "    print([d[k] for k in d.keys()])\n",
        "```\n",
        "\n",
        "> también se puede combinar con if para poner condiciones sobre que elementos agregar. Por ejemplo si tuvieramos este ciclo escrito de manera tradicional, que devuelve las frutas cuyo nombre contengan la letra \"a\"\n",
        ">\n",
        "```python\n",
        "  frutas = [\"manzana\", \"banana\", \"ponelo\", \"kiwi\", \"mango\"]\n",
        "  lista = []\n",
        "\n",
        "  for x in frutas:\n",
        "    if \"a\" in x:\n",
        "      lista.append(x)    \n",
        "\n",
        "  print(lista) \n",
        "```\n",
        "\n",
        "> puede ser reescrito de manera \"pytónica\" (se asemeja un poco al LinQ de C#)\n",
        ">\n",
        "```python\n",
        "  frutas = [\"manzana\", \"banana\", \"pomelo\", \"kiwi\", \"mango\"]\n",
        "\n",
        "  lista = [x for x in frutas if \"a\" in x]\n",
        "\n",
        "  print(lista) \n",
        "```\n"
      ],
      "metadata": {
        "id": "K2G3qo7CvW3c"
      }
    },
    {
      "cell_type": "code",
      "source": [
        "for x in range(10): print(x)  # ciclos tradicionales escritos en una sola linea\n",
        "\n",
        "print()\n",
        "\n",
        "print([x for x in range(10)])  # lista por comprensión\n",
        "\n",
        "print()\n",
        "\n",
        "d = {\"nombre\": \"Juan\", \"apellido\": \"Perez\", \"teléfonos\": [\"4444-5555\", \"4444-5556\"]}\n",
        "print([d[k] for k in d.keys()])  # ciclar el key y agregar los values a la lista resultante\n",
        "\n",
        "frutas = [\"manzana\", \"banana\", \"pomelo\", \"kiwi\", \"mango\"]\n",
        "\n",
        "lista = [x.capitalize() for x in frutas if \"a\" in x]  # solo agregar las frutas que contengan la letra \"a\" y ponerles mayusculas a la primer letra\n",
        "\n",
        "print(lista)\n",
        "\n",
        "# habiamos dejado pendiente emprolijar esto \n",
        "persona = {\"nombre\":\"Juan\", \"apellido\": \"Perez\",\"telefonos\": [{\"id\":1, \"numero\":\"4555-3344\"}, {\"id\":2, \"numero\":\"4555-4433\"}]}\n",
        "print(f'los telefonos de {persona[\"apellido\"].upper()}, {persona[\"nombre\"]} son {[t[\"numero\"] for t in persona[\"telefonos\"]]}')  #  uso listas por compresión para quedarme solo con los números \n"
      ],
      "metadata": {
        "id": "1RLUM4ii4vPZ"
      },
      "execution_count": null,
      "outputs": []
    },
    {
      "cell_type": "markdown",
      "source": [
        "# **Funciones Lambda**\n",
        "\n",
        "las funciones Lambda están tomadas del cálculo-lambda que es la rama teórica de la programación funcional. No son equivalentes a las funciones lambda de Haskell porque están implementadas de manera muy básicas. La mayor utilidad en python es utilizarlas como funciones anónimas para pasar por parámetros a otros métodos.\n",
        "\n",
        "se forman con la directiva **lambda par1, par2: f(par1, par2)** siendo par1, par2 **los argumentos**, y lo que viene despues de los dos puntos **el cuerpo**, en el cuerpo se define el resultado de la función en una sola sentencia, como una composición de funciones. Por esto el poder expresivo de una función lambda es menor que el poder expresivo de un bloque de código python.\n",
        "\n",
        "por ejemplo si quiero definir la función *identidad* que me devuelve lo mismo que recibe por parámetro de manera tradicional sería:\n",
        "```python\n",
        "def identidad(x):\n",
        "  return x\n",
        "```\n",
        "y para usarla sería:\n",
        "```python\n",
        "print(identidad(5))\n",
        "```\n",
        "\n",
        "la forma de definir una función lambda equivalente sería:\n",
        "```python\n",
        "lambda x: x\n",
        "```\n",
        "diciendo que recibe un parámetro x (lambda x) y que devuelve ese mismo parámetro sin modificar (: x)\n",
        "\n",
        "para usarla, siendo que es una función anónima, existen algunas alternativas.\n",
        "+ puedo usarla en la misma linea que se define, pasandole los parámetros a continuación\n",
        "```python\n",
        "b = (lambda x, y: x + y)(3, 4)\n",
        "```\n",
        "en el ejemplo anterior estoy definiendo la función lambda que dado dos números me devuelve la suma de ambos, e inmediatamente la estoy invocando con 3 y 4 de argumentos y el resultado se lo asigno a la variable b.\n",
        "+ puedo asignar la función a una variable y luego invocar esa variable como si fuera una función\n",
        "```python\n",
        "a = (lambda x, y: x + y)\n",
        "print(a(3, 4))\n",
        "```\n",
        "Esto es equivalente a tener una función definida y utilizar su nombre, con la ventaja de tener menos código\n",
        "```python\n",
        "def suma(x, y):\n",
        "    return x + y\n",
        "print(suma(3, 4))\n",
        "a = suma  # puedo asignar la función a otra variable\n",
        "print(a(3, 4))\n",
        "```\n",
        "+ una extensión del concepto anterior y por lo que es muy usado es definir otra función no anónima que recibe por parámetro una función (que puede ser lambda) para definir su comportamiento. Un ejemplo de esto es la función sorted que vimos en la clase anterior que recibe en el argumento **key** con la funcion que dará el ordinal a cada elmento utilizado para hacer la comparación \n",
        "```python\n",
        "  a = [{\"ciudad\": \"CABA\", \"poblacion\": 2_900_000}, \n",
        "       {\"ciudad\": \"Cordoba\", \"poblacion\": 1_800_000},\n",
        "       {\"ciudad\": \"Tucumán\", \"poblacion\": 800_000},\n",
        "       {\"ciudad\": \"San Juan\", \"poblacion\": 400_000},   \n",
        "       {\"ciudad\": \"Mendoza\", \"poblacion\": 900_000}, ]\n",
        "  \n",
        "  print(sorted(a, key=lambda x: x[\"poblacion\"]))\n",
        "```\n",
        "\n",
        "dentro de una f-lambda puedo usar el if funcional\n",
        "\n",
        "```python\n",
        "lambda x: -x if x < 0 else x\n",
        "```\n",
        "\n"
      ],
      "metadata": {
        "id": "ySlh0C6UYwZ0"
      }
    },
    {
      "cell_type": "code",
      "source": [
        "print((lambda:5)())  # lambda sin parámetros\n",
        "\n",
        "a = [{\"ciudad\": \"CABA\", \"poblacion\": 2_900_000}, \n",
        "     {\"ciudad\": \"Cordoba\", \"poblacion\": 1_800_000},\n",
        "     {\"ciudad\": \"Tucumán\", \"poblacion\": 800_000},\n",
        "     {\"ciudad\": \"San Juan\", \"poblacion\": 400_000},   \n",
        "     {\"ciudad\": \"Mendoza\", \"poblacion\": 900_000}, ]\n",
        "\n",
        "print(sorted(a, key=lambda x: x[\"poblacion\"]))  # a sorted le paso una lambda para ordenar\n",
        "\n",
        "abs = lambda x: -x if x < 0 else x  # lambda con if funcional\n",
        "print(abs(-5))\n",
        "print(abs(8))\n",
        "\n",
        "b = (lambda x, y: x + y)(3, 4)\n",
        "print(b)\n",
        "\n",
        "def longitud(x):\n",
        "  return len(x)\n",
        "\n",
        "print(max([\"hola\", \"chau\", \"anticonstitucionalmente\", \"a\"], key=longitud))\n",
        "\n",
        "a = longitud  # puedo asignar la función a otra variable\n",
        "print(a(\"anticonstitucionalmente\"))\n",
        "\n"
      ],
      "metadata": {
        "id": "JHiEvA16R4DQ"
      },
      "execution_count": null,
      "outputs": []
    },
    {
      "cell_type": "markdown",
      "source": [
        "# **map(), filter(), reduce()**\n",
        "\n",
        "Estas funiones vienen muy asociadas a la programación funcional, ya que permiten ciclar un iterador (o lista) e ir aplicando una funcion (generalmente lambda) a cada miembro del iterador\n"
      ],
      "metadata": {
        "id": "DFzPILEbAGA3"
      }
    },
    {
      "cell_type": "markdown",
      "source": [
        "## **map()**\n",
        "\n",
        "> map toma como primer parametro una función y como segundo un iterador, y devuelve un iterador (se puede castear a lista), donde cada elemento es el resultado de aplicarle la función al elemento original. (la función debe recibir un sólo parámetro)\n",
        "> por ejemplo si tengo\n",
        "```python\n",
        "map(func, [a, b, c, d])\n",
        "```\n",
        "va a devolver\n",
        "```python\n",
        "[func(a), func(b), func(c), func(d)]\n",
        "```\n",
        "\n",
        "> map puede recibir varios iteradores luego de la función, pero en ese caso la función deberá tener tantos parámetros como iteradores hay, y se aplicará la función usando un elemento de cada iterador como parámetros.\n",
        "\n",
        "> por ejemplo si tengo\n",
        "```python\n",
        "map(func, [a, b, c, d], [1, 2, 3, 4])\n",
        "```\n",
        "va a devolver\n",
        "```python\n",
        "[func(a, 1), func(b, 2), func(c, 3), func(d, 4)]\n",
        "```\n",
        "\n"
      ],
      "metadata": {
        "id": "V_wVx_OyFgum"
      }
    },
    {
      "cell_type": "markdown",
      "source": [
        "## **filter()**\n",
        "\n",
        "> filter toma como primer parametro una función (que devuelve booleano) y como segundo un iterador, y devuelve un iterador (se puede castear a lista), solamente con los elementos de la primer lista a los que aplicar la función devuelve True. (la función debe recibir un sólo parámetro)\n",
        "> por ejemplo si tengo\n",
        "```python\n",
        "filter(func, [a, b, c, d])\n",
        "```\n",
        "va a devolver\n",
        "```python\n",
        "[x for x in [a, b, c, d] if func(x)]\n",
        "```\n",
        "\n"
      ],
      "metadata": {
        "id": "MQobymy5Jdiq"
      }
    },
    {
      "cell_type": "markdown",
      "source": [
        "## **reduce()**\n",
        "\n",
        "> reduce toma como primer parametro una función que recibe 2 parámetros y como segundo un iterador, y devuelve un solo elemento que es el resultado de aplicar sucesivamente la función entre un acumulado y cada nuevo elemento. \n",
        "\n",
        "> por ejemplo si tengo\n",
        "```python\n",
        "reduce(func, [a, b, c, d])\n",
        "```\n",
        "va a devolver\n",
        "```python\n",
        "func(func(func(a, b), c), d)\n",
        "```\n",
        "\n",
        "> un ejemplo práctico sería\n",
        "```python\n",
        "reduce(lambda x, y: x + y, [a, b, c, d])\n",
        "```\n",
        "> la función que le paso es la suma de dos elementos, y eso aplicado sucesivamente me da como resultado final la suma de todos los elementos de la lista\n",
        "\n",
        "> reduce puede recibir un tercer parámetro que seria el \"inicializador del acumulador\", en ese caso en vez de comenzar usando la funcion entre el primer y segundo elemento, la primera iteración va a ser entre el inicializador y el primer elemento, y luego contiuará aplicando la función entre el acumulado y cada elemento.\n",
        "\n",
        "> por ejemplo si tengo\n",
        "```python\n",
        "reduce(func, [a, b, c, d], init)\n",
        "```\n",
        "va a devolver\n",
        "```python\n",
        "func(func(func(func(init, a), b), c), d)\n",
        "```\n",
        "\n",
        "> Otra aclaración de reduce es que no se encuentra entre las funciones \"built-in\" por lo que es necesario importarla para poder usarla, para eso hay que usar la linea\n",
        "\n",
        "```python\n",
        "from functools import reduce\n",
        "```\n",
        "\n",
        "> hay otras funciones en functools como accumulate() o zip() pero no las veremos en el curso"
      ],
      "metadata": {
        "id": "JniVLgxyCqkl"
      }
    },
    {
      "cell_type": "code",
      "source": [
        "print(list(map(lambda x:x//2, [2,5,6,8,10,44,34,23,22,11])))  # map para aplicar // a cada elemento de la lista usando lambda\n",
        "\n",
        "def div_2(x):\n",
        "  return x // 2\n",
        "\n",
        "print(list(map(div_2, [2,5,6,8,10,44,34,23,22,11])))  # map para aplicar // a cada elemento de la lista usando una función\n",
        "\n",
        "print(list(filter(lambda x: x % 2 == 0, [2,5,6,8,10,44,34,23,22,11]))) # solo devuelve los números pares \n",
        "\n",
        "from functools import reduce  # para usar reduce es necesario importarla\n",
        "print(reduce(lambda x, y: x + y, [4, 5, 77 ,6, 8, 199, 22]))  # devuelve la suma de los elementos de una lista\n"
      ],
      "metadata": {
        "id": "3Lo5PF5JF3Y8"
      },
      "execution_count": null,
      "outputs": []
    },
    {
      "cell_type": "markdown",
      "source": [
        "# **Ejercicios**\n",
        "\n",
        "> ## Ejercicio 1\n",
        ">> Crear acrónimos de Peliculas / libros, el acrónimo se compone con la primer letra de cada palabra del título, seberán estar en mayúsculas todas las letras salvo que sea una de las siguientes: [\"a\", \"al\", \"en\", \"el\", \"la\", \"los\", \"las\", \"de\", \"del\"], esas letras deberán estar en mayúscula si es la primer letra del título y en minúscula sino.\n",
        "\n",
        ">> por ejemplo:\n",
        "+ \"volver al futuro\" debe devolver \"VaF\"\n",
        "+ \"Juego de Tronos\" debe devolver \"JdT\"\n",
        "+ \"el Silencio de los inocentes\" debe devolver \"ESdlI\"\n",
        "\n",
        ">> En caso de que la entrada sea el string vacío, debe devolver el string vacío\n",
        "\n",
        "> ## Ejercicio 2\n",
        ">> dado un número (entero), devolver el conjunto divisores de ese número (positivos y negativos), en caso de ser 0 la entrada debe devolver None (en realidad son infinitos divisores)\n",
        "\n",
        ">> hint: es complicado (no imposible) hacer que una lista por comprensión devuelva el doble de elementos de la lista original\n",
        "\n",
        ">> por ejemplo si la entrada es 4, debe devolver {1, -1, 2, -2, 4, -4} \n",
        "\n",
        "> ## Ejercicio 3\n",
        ">> Dado una lista de elementos del mismo tipo, devolver una lista de duplas que contengan cada elemento (sin repetición) y la cantidad de veces que aparece\n",
        "\n",
        ">> ejemplo si la entrada es [4, 2, 4, 6, 9, 10, 10, 2, 4] tiene que devolver [(4, 3), (2, 2), (6, 1), (9, 1), (10, 2)] o alguna permutación de esas tuplas. La lista de entrada podría también ser de strings, [\"hola\", \"chau\", \"hola\"] deberia devoler [(\"hola\",2), (\"chau\", 1)] o una permutación\n",
        "\n",
        "\n",
        "> ## Ejercicio 4\n",
        ">> dado una lista de enteros (positivos y negativos) devolver una dupla con el primer valor que sea el maximo de la lista y el segundo valor que sea el minimo.\n",
        "En caso de recibir una lista vacia deberia devolver (None, None)\n",
        "\n",
        ">> punto extra si se resuelve con reduce(), hint hay que usar un inicializador porque el \"acumulado\" (el resultado final) es una dupla, asi que en cada paso tiene que comparar una dupla con un valor, si no se usara un iniciador la primer comparacion la va a hacer con dos enteros, en vez de una dupla y un entero.\n",
        "\n",
        "\n",
        ">> ejemplo si le paso [2, 5, 67, 34, -33, 3 , 4, 5, 2] me devuelve (67, -33)\n"
      ],
      "metadata": {
        "id": "Yb7kqZTTQbID"
      }
    },
    {
      "cell_type": "code",
      "source": [
        "\n",
        "def ejercicio_1(texto):\n",
        "  return \"\"\n",
        "  \n",
        "print(\"Prueba ejercicio 1:\", ejercicio_1(\"volver al futuro\"))\n",
        "\n",
        "def ejercicio_2(numero):\n",
        "  return \"\"\n",
        "\n",
        "print(\"Prueba ejercicio 2:\", ejercicio_2(15))\n",
        "\n",
        "def ejercicio_3(lista):\n",
        "  return (None, None)\n",
        "\n",
        "print(\"Prueba ejercicio 3:\", ejercicio_3([3, 4, 3]))\n",
        "\n",
        "def ejercicio_4(lista):\n",
        "  return (None, None)\n",
        "\n",
        "print(\"Prueba ejercicio 4:\", ejercicio_4([44, -33, 11, 22, 0, 42, 47, 12, 14]))\n"
      ],
      "metadata": {
        "id": "UDOAaJ9zqCCZ"
      },
      "execution_count": null,
      "outputs": []
    },
    {
      "cell_type": "code",
      "source": [
        "#@title **Tests de los ejercicios**\n",
        "\n",
        "import unittest\n",
        "import inspect\n",
        "\n",
        "class TestNotebook(unittest.TestCase):\n",
        "\n",
        "    def test_ejercicio_1(self):\n",
        "        self.assertEqual(\"\", ejercicio_1(\"\") )\n",
        "        self.assertEqual(\"VaF\", ejercicio_1(\"volver al futuro\") )\n",
        "        self.assertEqual(\"JdT\", ejercicio_1(\"Juego de Tronos\") )\n",
        "        self.assertEqual(\"ESdlI\", ejercicio_1(\"el Silencio de los inocentes\") )\n",
        "\n",
        "    def test_ejercicio_2(self):\n",
        "        self.assertEqual(None, ejercicio_2(0))\n",
        "        self.assertEqual({1, 2, 11, 22, -1, -2, -11, -22}, ejercicio_2(22))\n",
        "        self.assertEqual({1, 3, 5, 15, -1, -3, -5, -15}, ejercicio_2(15))\n",
        "        self.assertEqual({1, 3, 5, 15, -1, -3, -5, -15}, ejercicio_2(-15))\n",
        "        self.assertEqual({1, 2, 4, 8, 16, -1, -2, -4, -8, -16}, ejercicio_2(16))\n",
        "\n",
        "    def test_ejercicio_3(self):\n",
        "        self.assertEqual([], ejercicio_3([]))\n",
        "        self.assertEqual(sorted([(5, 3), (3, 2), (1, 1), (6, 2)]), sorted(ejercicio_3([5, 1, 3, 5, 6, 3, 5, 6])))\n",
        "        self.assertEqual(sorted([(\"Juan\", 2), (\"Pablo\", 1), (\"Ana\", 1)]), sorted(ejercicio_3([\"Juan\", \"Pablo\", \"Juan\", \"Ana\"])))\n",
        "\n",
        "    def test_ejercicio_4(self):\n",
        "        self.assertEqual((None, None), ejercicio_4([]))\n",
        "        self.assertEqual((67, -33), ejercicio_4([2, 5, 67, 34, -33, 3 , 4, 5, 2]))\n",
        "        self.assertEqual((47, -33), ejercicio_4([44, -33, 11, 22, 0, 42, 47, 12, 14]))\n",
        "\n",
        "\n",
        "unittest.main(argv=[''], verbosity=2, exit=False)\n"
      ],
      "metadata": {
        "id": "8k91LfmORCFc",
        "cellView": "form"
      },
      "execution_count": null,
      "outputs": []
    }
  ]
}